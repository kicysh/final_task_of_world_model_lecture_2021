{
  "nbformat": 4,
  "nbformat_minor": 0,
  "metadata": {
    "colab": {
      "name": "LDVAE.ipynb",
      "provenance": [],
      "machine_shape": "hm",
      "authorship_tag": "ABX9TyP80jfYVEf5ObTB8glEBHw7",
      "include_colab_link": true
    },
    "kernelspec": {
      "name": "python3",
      "display_name": "Python 3"
    },
    "language_info": {
      "name": "python"
    },
    "accelerator": "GPU"
  },
  "cells": [
    {
      "cell_type": "markdown",
      "metadata": {
        "id": "view-in-github",
        "colab_type": "text"
      },
      "source": [
        "<a href=\"https://colab.research.google.com/github/kicysh/final_task_of_world_model_lecture_2021/blob/main/src/LDVAE_no_output.ipynb\" target=\"_parent\"><img src=\"https://colab.research.google.com/assets/colab-badge.svg\" alt=\"Open In Colab\"/></a>"
      ]
    },
    {
      "cell_type": "markdown",
      "source": [
        "# pip"
      ],
      "metadata": {
        "id": "mF-ceB4dTt1e"
      }
    },
    {
      "cell_type": "code",
      "source": [
        "!pip install scanpy scikit-misc"
      ],
      "metadata": {
        "id": "r2EsievTT474"
      },
      "execution_count": null,
      "outputs": []
    },
    {
      "cell_type": "markdown",
      "source": [
        "# data"
      ],
      "metadata": {
        "id": "kZnO-gmJTTwQ"
      }
    },
    {
      "cell_type": "code",
      "source": [
        "!mkdir data figures\n",
        "!gsutil cp gs://h5ad/2019-02-Pijuan-Sala-et-al-Nature/pijuan_sala_atlas.h5ad /content/data\n",
        "path_of_data = '/content/data/pijuan_sala_atlas.h5ad'\n"
      ],
      "metadata": {
        "id": "GCBTOxD6Tg7h"
      },
      "execution_count": null,
      "outputs": []
    },
    {
      "cell_type": "markdown",
      "source": [
        "# setting\n"
      ],
      "metadata": {
        "id": "47p9z8QQs4bO"
      }
    },
    {
      "cell_type": "code",
      "source": [
        "# setting\n",
        "SETTING_BATCHNORM_EPS = 0.001\n",
        "SETTING_BATCHNORM_MOMENTUM = 0.01\n",
        "SETTING_ENCODER_Z_DROPOUT_P = 0.1\n",
        "SETTING_ENCODER_L_DROPOUT_P = 0.1\n",
        "SETTING_HIDDEN_DIM = 128\n",
        "SETTING_EPS = 1e-8\n",
        "\n",
        "USE_CUDA = True\n",
        "SETTING_BATCH_SIZE = 1024"
      ],
      "metadata": {
        "id": "grS7L_2ms24J"
      },
      "execution_count": null,
      "outputs": []
    },
    {
      "cell_type": "markdown",
      "source": [
        "# model"
      ],
      "metadata": {
        "id": "Q0rzv6RVs9sr"
      }
    },
    {
      "cell_type": "code",
      "execution_count": null,
      "metadata": {
        "id": "HFG8utJ7LYQm"
      },
      "outputs": [],
      "source": [
        "import numpy as np\n",
        "import torch\n",
        "import torch.nn as nn\n",
        "import torch.optim as optim\n",
        "import torch.nn.functional as F\n",
        "from torch import logsumexp\n",
        "from torch.distributions import Normal, kl_divergence\n",
        "\n",
        "import matplotlib.pyplot as plt\n",
        "\n",
        "rng = np.random.RandomState(1234)\n",
        "random_state = 42\n"
      ]
    },
    {
      "cell_type": "code",
      "source": [
        "import scanpy as sc\n",
        "adata = sc.read_h5ad(path_of_data)\n",
        "adata"
      ],
      "metadata": {
        "id": "1BzFALOqUJ-j"
      },
      "execution_count": null,
      "outputs": []
    },
    {
      "cell_type": "code",
      "source": [
        "idx = adata.obs.query('not doublet').index\n",
        "#idx = np.random.choice(idx, 20000, replace=False)\n",
        "adata = adata[idx]\n",
        "sc.pp.highly_variable_genes(adata,n_top_genes=1000 ,flavor='seurat_v3')\n",
        "print(adata)\n",
        "#sc.pp.filter_genes(adata, min_cells=100)\n"
      ],
      "metadata": {
        "id": "I81c3-hrQeL9"
      },
      "execution_count": null,
      "outputs": []
    },
    {
      "cell_type": "code",
      "source": [
        "gene_index = adata.var[adata.var['highly_variable']].index"
      ],
      "metadata": {
        "id": "eQPFDZIQlJ2e"
      },
      "execution_count": null,
      "outputs": []
    },
    {
      "cell_type": "code",
      "source": [
        "adata_df = adata.to_df()[gene_index]"
      ],
      "metadata": {
        "id": "swnh7e6boEMV"
      },
      "execution_count": null,
      "outputs": []
    },
    {
      "cell_type": "code",
      "source": [
        "#from math import ldexp\n",
        "\n",
        "class LDVAE(nn.Module):\n",
        "    \"\"\"\n",
        "    :param genes_cnt: Number of input genes\n",
        "    :param latent_dim: Dimensionality of the latent space \n",
        "    \"\"\"\n",
        "    def __init__(\n",
        "        self,\n",
        "        genes_cnt: int, \n",
        "        latent_dim: int = 20\n",
        "    ):\n",
        "        super(LDVAE,self).__init__()\n",
        "        self.local_l_mean = None\n",
        "        self.local_l_std = None\n",
        "        self.eps = SETTING_EPS\n",
        "\n",
        "        self.theta = nn.Parameter(torch.randn(genes_cnt))\n",
        "        self.encoder_z = nn.Sequential(\n",
        "            nn.Linear(genes_cnt, SETTING_HIDDEN_DIM),\n",
        "            nn.BatchNorm1d(SETTING_HIDDEN_DIM,\n",
        "                           eps=SETTING_BATCHNORM_EPS, \n",
        "                           momentum=SETTING_BATCHNORM_MOMENTUM),\n",
        "            nn.ReLU(),\n",
        "            nn.Dropout(SETTING_ENCODER_Z_DROPOUT_P)\n",
        "        )\n",
        "        self.encoder_z_mean = nn.Linear(SETTING_HIDDEN_DIM,latent_dim)\n",
        "        self.encoder_z_std = nn.Linear(SETTING_HIDDEN_DIM,latent_dim)\n",
        "\n",
        "        self.encoder_l = nn.Sequential(\n",
        "            nn.Linear(genes_cnt, SETTING_HIDDEN_DIM),\n",
        "            nn.BatchNorm1d(SETTING_HIDDEN_DIM,\n",
        "                           eps=SETTING_BATCHNORM_EPS, \n",
        "                           momentum=SETTING_BATCHNORM_MOMENTUM),\n",
        "            nn.ReLU(),\n",
        "            nn.Dropout(SETTING_ENCODER_L_DROPOUT_P)\n",
        "        )\n",
        "        self.encoder_l_mean = nn.Linear(SETTING_HIDDEN_DIM, 1)\n",
        "        self.encoder_l_std = nn.Linear(SETTING_HIDDEN_DIM, 1)\n",
        "\n",
        "        self.decoder = nn.Sequential(\n",
        "            nn.Linear(latent_dim, genes_cnt,bias=False),#bias=False\n",
        "            nn.BatchNorm1d(genes_cnt,\n",
        "                           eps=SETTING_BATCHNORM_EPS, \n",
        "                           momentum=SETTING_BATCHNORM_MOMENTUM)\n",
        "        )\n",
        "\n",
        "\n",
        "    def forward(self,x):\n",
        "        x_z = self.encoder_z(x)\n",
        "        z_mean = self.encoder_z_mean(x_z)\n",
        "        z_std = torch.exp(torch.clip(self.encoder_z_std(x_z),max=10)) \n",
        "        #z = Normal(z_mean, z_std.sqrt()).rsample()\n",
        "        z_eps = torch.randn(z_mean.shape).to('cuda' if next(self.parameters()).is_cuda else 'cpu')\n",
        "        z = z_mean + z_std * z_eps\n",
        "\n",
        "\n",
        "        x_l = self.encoder_l(x)\n",
        "        l_mean = self.encoder_l_mean(x_l)\n",
        "        l_std = torch.exp(torch.clip(self.encoder_l_std(x_l),max=10))\n",
        "        #library = Normal(l_mean, l_std.sqrt()).rsample()\n",
        "        l_eps = torch.randn(l_mean.shape).to('cuda' if next(self.parameters()).is_cuda else 'cpu')\n",
        "        library = (l_mean + l_std * l_eps)\n",
        "\n",
        "        y = self.decoder(z)\n",
        "        y = torch.exp(torch.clip(library,max=10))*torch.softmax(y, dim=-1)\n",
        "        return [z_mean, z_std, z], [l_mean, l_std, library], y\n",
        "\n",
        "\n",
        "    def set_local_l_mean_and_std(self, data):\n",
        "        masked_log_sum =np.ma.log(data.sum(axis=1))\n",
        "        log_counts = masked_log_sum.filled(0)\n",
        "        self.local_l_mean = (np.mean(log_counts).reshape(-1, 1)).astype(np.float32)[0][0]\n",
        "        self.local_l_std = (np.var(log_counts).reshape(-1, 1)).astype(np.float32)[0][0]\n",
        "        return self.local_l_mean, self.local_l_std\n",
        "\n",
        "\n",
        "    def reconst_error(self,x, mu, theta):\n",
        "        eps = SETTING_EPS\n",
        "        log_theta_mu_eps = torch.log(theta + mu + eps)\n",
        "\n",
        "        res = (\n",
        "            theta * (torch.log(theta + eps) - log_theta_mu_eps)\n",
        "            + x * (torch.log(mu + eps) - log_theta_mu_eps)\n",
        "            + torch.lgamma(x + theta)\n",
        "            - torch.lgamma(theta)\n",
        "            - torch.lgamma(x + 1)\n",
        "        )\n",
        "        return res\n",
        "\n",
        "\n",
        "    def loss(self,x):\n",
        "        zs,ls,y = self.forward(x)\n",
        "        z_mean, z_std, z = zs\n",
        "        l_mean, l_std, library = ls\n",
        "\n",
        "        mean, std = torch.zeros_like(z_mean), torch.ones_like(z_std)\n",
        "        kl_z = kl_divergence(Normal(z_mean,torch.sqrt(z_std)), Normal(mean, std)).sum(dim=1)\n",
        "\n",
        "        mean, std = self.local_l_mean*torch.ones_like(l_mean), self.local_l_std*torch.ones_like(l_std)\n",
        "        kl_l = kl_divergence(Normal(l_mean,torch.sqrt(l_std)), Normal(mean, torch.sqrt(std))).sum(dim=1)\n",
        "\n",
        "        reconst = self.reconst_error(x, mu=y, theta=torch.exp(self.theta)).sum(dim=-1)        \n",
        "        return reconst, kl_l ,kl_z"
      ],
      "metadata": {
        "id": "nWLM5wKmAPj7"
      },
      "execution_count": null,
      "outputs": []
    },
    {
      "cell_type": "code",
      "source": [
        "model = LDVAE(genes_cnt = len(adata_df.columns),\n",
        "              latent_dim = 20)\n",
        "model.set_local_l_mean_and_std(adata_df.values)\n",
        "model"
      ],
      "metadata": {
        "id": "Usgub80pSxzf"
      },
      "execution_count": null,
      "outputs": []
    },
    {
      "cell_type": "code",
      "source": [
        "class GenesDataset(torch.utils.data.Dataset):\n",
        "    def __init__(self, \n",
        "                 adata, \n",
        "                 transform=None, \n",
        "                 target_transform=None):\n",
        "        self.data = adata\n",
        "        self.transform = transform\n",
        "        self.target_transform = target_transform\n",
        "\n",
        "    def __len__(self):\n",
        "        return len(self.data)\n",
        "\n",
        "    def __getattr__(self):\n",
        "        return len(self.data)\n",
        "    \n",
        "    def __getitem__(self, idx):\n",
        "        data = self.data[idx]\n",
        "        #label = self.img_labels.iloc[idx, 1]\n",
        "        if self.transform:\n",
        "            data = self.transform(data)\n",
        "        #if self.target_transform:\n",
        "        #    label = self.target_transform(label)\n",
        "        return data"
      ],
      "metadata": {
        "id": "lXvuywVxJOZz"
      },
      "execution_count": null,
      "outputs": []
    },
    {
      "cell_type": "code",
      "source": [
        "# dataloder\n",
        "dataset = GenesDataset(adata_df.values)\n",
        "\n",
        "\n",
        "n_samples = len(dataset) \n",
        "train_size = int(n_samples* 0.8)\n",
        "val_size = int(n_samples * 0.2)\n",
        "test_size = n_samples - train_size - val_size \n",
        "\n",
        "dataset_train ,dataset_valid, dataset_test = \\\n",
        "        torch.utils.data.random_split(dataset, [train_size, val_size,test_size])\n",
        "\n",
        "dataloader_all = torch.utils.data.DataLoader(\n",
        "    dataset,\n",
        "    batch_size=SETTING_BATCH_SIZE,\n",
        "    shuffle=False\n",
        ")\n",
        "\n",
        "dataloader_train = torch.utils.data.DataLoader(\n",
        "    dataset_train,\n",
        "    batch_size=SETTING_BATCH_SIZE,\n",
        "    shuffle=True\n",
        ")\n",
        "\n",
        "dataloader_valid = torch.utils.data.DataLoader(\n",
        "    dataset_valid,\n",
        "    batch_size=SETTING_BATCH_SIZE,\n",
        "    shuffle=True\n",
        ")\n",
        "\n",
        "#dataloader_test = torch.utils.data.DataLoader(\n",
        "#    dataset_test,\n",
        "#    batch_size=SETTING_BATCH_SIZE,\n",
        "#    shuffle=True\n",
        "#)"
      ],
      "metadata": {
        "id": "zHMDdp6BY4yo"
      },
      "execution_count": null,
      "outputs": []
    },
    {
      "cell_type": "code",
      "source": [
        "#from numpy.ma.core import nonzero\n",
        "# train\n",
        "#model = LDVAE(genes_cnt = len(adata_df.columns),\n",
        "#              latent_dim = 20)\n",
        "#model.set_local_l_mean_and_std(adata_df.values)\n",
        "#model\n",
        "\n",
        "n_epochs  = 100\n",
        "optimizer = optim.Adam(model.parameters(), lr=7e-3)#  betas=(0.5,0.999))\n",
        "\n",
        "device = 'cuda'  if USE_CUDA else 'cpu'\n",
        "model.to(device)\n",
        "#_x = nonzero\n",
        "\n",
        "for epoch in range(n_epochs):\n",
        "    losses = []\n",
        "\n",
        "    model.train()\n",
        "    for x in dataloader_train:\n",
        "        x = x.to(device)\n",
        "        #_x = x\n",
        "\n",
        "        model.zero_grad()\n",
        "\n",
        "        # forawrd and loss\n",
        "        reconst, kl_l ,kl_z = model.loss(x)\n",
        "        loss = torch.mean(-reconst+kl_l +kl_z)\n",
        "\n",
        "        optimizer.zero_grad()\n",
        "        loss.backward()\n",
        "        optimizer.step()\n",
        "\n",
        "        losses.append(loss.cpu().detach().numpy())\n",
        "\n",
        "    losses_val1 = []\n",
        "    losses_val2 = []\n",
        "    losses_val3 = []\n",
        "\n",
        "    model.eval()\n",
        "    for x in dataloader_valid:\n",
        "\n",
        "        x = x.to(device)\n",
        "\n",
        "\n",
        "        reconst, kl_l ,kl_z = model.loss(x)\n",
        "\n",
        "        losses_val1.append(torch.mean(-reconst).cpu().detach().numpy())\n",
        "        losses_val2.append(torch.mean(kl_l).cpu().detach().numpy())\n",
        "        losses_val3.append(torch.mean(kl_z).cpu().detach().numpy())\n",
        "\n",
        "    print('EPOCH: %d    Train Loss: %lf    Valid rec: %lf    Valid kl_l: %lf    Valid kl_z: %lf' %\n",
        "            (epoch+1, np.average(losses),np.average(losses_val1),np.average(losses_val2),np.average(losses_val3)))\n"
      ],
      "metadata": {
        "id": "8D6vYBA6icfn"
      },
      "execution_count": null,
      "outputs": []
    },
    {
      "cell_type": "code",
      "source": [
        "# w\n",
        "import pandas as pd\n",
        "\n",
        "_w = model.decoder[0].weight\n",
        "bn = model.decoder[1]\n",
        "sigma = torch.sqrt(bn.running_var + bn.eps)\n",
        "gamma = bn.weight\n",
        "b = gamma / sigma\n",
        "bI = torch.diag(b)\n",
        "loadings = torch.matmul(bI, _w)\n",
        "loadings = loadings.detach().cpu().numpy()\n",
        "\n",
        "W = pd.DataFrame(loadings, index=gene_index)\n",
        "W.to_csv('/content/w.csv')\n"
      ],
      "metadata": {
        "id": "KZECrprtdiCL"
      },
      "execution_count": null,
      "outputs": []
    },
    {
      "cell_type": "code",
      "source": [
        "W"
      ],
      "metadata": {
        "id": "SacOf6mh4Ci4"
      },
      "execution_count": null,
      "outputs": []
    },
    {
      "cell_type": "code",
      "source": [
        "latent_array  = None\n",
        "model.eval()\n",
        "for x in dataloader_all:\n",
        "    x = x.to(device)\n",
        "    _z,_,_ = model(x)\n",
        "    z_mean,_,_ = _z\n",
        "    z_mean = z_mean.cpu().detach().numpy()\n",
        "    if latent_array is None:\n",
        "        latent_array = z_mean\n",
        "    else:\n",
        "        latent_array = np.concatenate([latent_array, z_mean])\n",
        "pd.DataFrame(latent_array,index=adata_df.index).to_csv('/content/z.csv')"
      ],
      "metadata": {
        "id": "1sdENTNXg_-4"
      },
      "execution_count": null,
      "outputs": []
    },
    {
      "cell_type": "code",
      "source": [
        "pd.DataFrame(latent_array,index=adata_df.index)"
      ],
      "metadata": {
        "id": "aTxi0TQXpUUQ"
      },
      "execution_count": null,
      "outputs": []
    },
    {
      "cell_type": "code",
      "source": [
        "import pandas as pd\n",
        "\n",
        "w_df = pd.read_csv('/content/w.csv', index_col=0)\n",
        "z_df = pd.read_csv('/content/z.csv', index_col=0)"
      ],
      "metadata": {
        "id": "mtps1aqr6Fda"
      },
      "execution_count": null,
      "outputs": []
    },
    {
      "cell_type": "code",
      "source": [
        "w_df = w_df.add_prefix('w')\n",
        "z_df = z_df.add_prefix('z')"
      ],
      "metadata": {
        "id": "6ulRvvQY77va"
      },
      "execution_count": null,
      "outputs": []
    },
    {
      "cell_type": "code",
      "source": [
        "%pylab inline\n",
        "%config InlineBackend.figure_format ='retina'\n",
        "\n",
        "import time\n",
        "\n",
        "import anndata\n",
        "import matplotlib.colors as mcolors\n",
        "import pandas as pd\n",
        "\n",
        "import plotnine as p\n"
      ],
      "metadata": {
        "id": "91j05NNptg6t"
      },
      "execution_count": null,
      "outputs": []
    },
    {
      "cell_type": "code",
      "source": [
        "def Z_covariance(Z):\n",
        "    Zcentered = Z - Z.mean(0)\n",
        "    Zscaled = Z / Z.std(0)\n",
        "    ZTZ = np.cov(Zscaled.T)\n",
        "    \n",
        "    eigen_values, _ = np.linalg.eig(ZTZ)\n",
        "    singular_values = np.sqrt(eigen_values)\n",
        "    variance_explained = singular_values / singular_values.sum()\n",
        "\n",
        "    return ZTZ, variance_explained"
      ],
      "metadata": {
        "id": "uvZohp66tvp9"
      },
      "execution_count": null,
      "outputs": []
    },
    {
      "cell_type": "code",
      "source": [
        "_, variance_explained = Z_covariance(z_df)\n",
        "idx = np.argsort(variance_explained)[::-1]\n"
      ],
      "metadata": {
        "id": "9aW2Yjjvt39K"
      },
      "execution_count": null,
      "outputs": []
    },
    {
      "cell_type": "code",
      "source": [
        "Z_df_ordered = pd.DataFrame(z_df.values[:, idx]).add_prefix('z')\n",
        "Z_df_ordered.index = z_df.index\n",
        "W_df_ordered = pd.DataFrame(w_df.values[:, idx]).add_prefix('w')\n",
        "W_df_ordered.index = w_df.index"
      ],
      "metadata": {
        "id": "e8vcULlJt7p2"
      },
      "execution_count": null,
      "outputs": []
    },
    {
      "cell_type": "code",
      "source": [
        "adata = anndata.read('/content/data/pijuan_sala_atlas.h5ad')"
      ],
      "metadata": {
        "id": "SvdHrC0JuDCa"
      },
      "execution_count": null,
      "outputs": []
    },
    {
      "cell_type": "code",
      "source": [
        "W_df_ordered = adata.var.loc[W_df_ordered.index].join(W_df_ordered)"
      ],
      "metadata": {
        "id": "54fVI6vTuKIP"
      },
      "execution_count": null,
      "outputs": []
    },
    {
      "cell_type": "code",
      "source": [
        "def make_kde(x1, x2):\n",
        "    dx1 = (x1.max() - x1.min()) / 10\n",
        "    dx2 = (x2.max() - x2.min()) / 10\n",
        "\n",
        "    x1min = x1.min() - dx1\n",
        "    x2min = x2.min() - dx2\n",
        "    x1max = x1.max() + dx1\n",
        "    x2max = x2.max() + dx2\n",
        "\n",
        "    xx1, xx2 = np.mgrid[x1min:x1max:100j, x2min:x2max:100j]\n",
        "\n",
        "    positions = np.vstack([xx1.ravel(), xx2.ravel()])\n",
        "    values = np.vstack([x1, x2])\n",
        "\n",
        "    kernel = stats.gaussian_kde(values)\n",
        "    f = np.reshape(kernel(positions).T, xx1.shape)\n",
        "    \n",
        "    return xx1, xx2, f\n"
      ],
      "metadata": {
        "id": "Dv7cP-RkYD7s"
      },
      "execution_count": null,
      "outputs": []
    },
    {
      "cell_type": "code",
      "source": [
        "metadata = adata.obs.loc[Z_df_ordered.index]\n",
        "metadata = metadata.join(Z_df_ordered)\n",
        "\n",
        "for ctype in np.unique(metadata['celltype']):\n",
        "    z_corrs = Z_df_ordered.corrwith((metadata['celltype'] == ctype))\n",
        "    top_factors = z_corrs.map(np.abs).sort_values(ascending=False).head(3)\n",
        "    print([f'{z.rjust(3)}: {z_corrs[z]:+.2f}' for z in top_factors.index], ctype)\n",
        "    \n",
        "vardata = W_df_ordered"
      ],
      "metadata": {
        "id": "X1VHa32mYWuH"
      },
      "execution_count": null,
      "outputs": []
    },
    {
      "cell_type": "code",
      "source": [
        "from matplotlib.patches import Ellipse\n",
        "from scipy import stats\n",
        "\n",
        "vardata = W_df_ordered\n",
        "\n"
      ],
      "metadata": {
        "id": "MGgx3cVfYI5n"
      },
      "execution_count": null,
      "outputs": []
    },
    {
      "cell_type": "code",
      "source": [
        "def create_fig_0(num):\n",
        "    plt.figure()\n",
        "    figsize(7, 12 / 5)\n",
        "\n",
        "    plt.subplot(1, 2, 1)\n",
        "\n",
        "    plt.hist2d(\n",
        "        Z_df_ordered[f'z'+str(num[0])], Z_df_ordered[f'z'+str(num[1])],\n",
        "        bins=256,\n",
        "        norm=mcolors.PowerNorm(0.25),\n",
        "        cmap=cm.gray_r,\n",
        "        rasterized=True\n",
        "    )\n",
        "\n",
        "    plt.axis('equal')\n",
        "    plt.xlabel('$Z_{}$ '.format(num[0]) + f'({variance_explained[idx][num[0]]:.1%} variance)')\n",
        "    plt.ylabel('$Z_{}$ '.format(num[1]) + f'({variance_explained[idx][num[1]]:.1%} variance)')\n",
        "\n",
        "    ax = plt.gca()\n",
        "\n",
        "    color_maps = [cm.Reds_r, cm.Blues_r, cm.Greens_r]\n",
        "    cell_types = ['Erythroid3', 'ExE endoderm', 'Epiblast']\n",
        "    for color, ctype in zip(color_maps, cell_types):\n",
        "        X = metadata.query('celltype == @ctype')[['z'+str(num[0]), 'z'+str(num[1])]]\n",
        "        xx1, xx2, f = make_kde(X['z'+str(num[0])], X['z'+str(num[1])])\n",
        "        cset = ax.contour(\n",
        "            xx1,\n",
        "            xx2,\n",
        "            f,\n",
        "            levels=6,\n",
        "            cmap=color,\n",
        "            linewidths=1.\n",
        "        )\n",
        "\n",
        "    ax.spines['top'].set_visible(False)\n",
        "    ax.spines['right'].set_visible(False)\n",
        "\n",
        "    plt.subplot(1, 2, 2)\n",
        "\n",
        "    plt.scatter(\n",
        "        W_df_ordered['w'+str(num[0])], W_df_ordered['w'+str(num[1])],\n",
        "        c='lightgrey',\n",
        "        rasterized=True\n",
        "    )\n",
        "\n",
        "\n",
        "    arrows = []\n",
        "    genes = ['Hbb-bs', 'Hbb-bt', 'Hba-a2']\n",
        "    for g in genes:\n",
        "        x_, y_ = vardata.query('gene_name == @g')[['w'+str(num[0]), 'w'+str(num[1])]].values[0]\n",
        "\n",
        "        arrows.append(plt.arrow(0, 0, x_, y_, length_includes_head=True, color='r'))\n",
        "        \n",
        "    plt.text(0, 2, '\\n'.join(genes), color='r')\n",
        "\n",
        "    arrows = []\n",
        "    genes = ['Pou5f1', 'Tdgf1', 'Snrpn']\n",
        "    for g in genes:\n",
        "        x_, y_ = vardata.query('gene_name == @g')[['w'+str(num[0]), 'w'+str(num[1])]].values[0]\n",
        "\n",
        "        arrows.append(plt.arrow(0, 0, x_, y_, length_includes_head=True, color='g'))\n",
        "\n",
        "    plt.text(1, -1.5, '\\n'.join(genes), color='g')\n",
        "\n",
        "    arrows = []\n",
        "    genes = ['Ctsh', 'Amn', 'Apoa4']\n",
        "    for g in genes:\n",
        "        x_, y_ = vardata.query('gene_name == @g')[['w'+str(num[0]), 'w'+str(num[1])]].values[0]\n",
        "\n",
        "        arrows.append(plt.arrow(0, 0, x_, y_, length_includes_head=True, color='b'))\n",
        "\n",
        "    plt.text(-2.6, -0.5, '\\n'.join(genes), color='b')\n",
        "\n",
        "\n",
        "    plt.xlim(left=-3, right=3)\n",
        "    plt.ylim(bottom=-3, top=3)\n",
        "\n",
        "    plt.xlabel('$W_{}$'.format(num[0]))\n",
        "    plt.ylabel('$W_{}$'.format(num[1]))\n",
        "\n",
        "    ax = plt.gca()\n",
        "\n",
        "    ax.spines['top'].set_visible(False)\n",
        "    ax.spines['right'].set_visible(False)\n",
        "\n",
        "    plt.savefig('figures/linear_pij_results_celltypes_{}_{}.pdf'.format(*num), bbox_inches='tight', dpi=400)\n",
        "\n"
      ],
      "metadata": {
        "id": "HKcIwIG5avrK"
      },
      "execution_count": null,
      "outputs": []
    },
    {
      "cell_type": "code",
      "source": [
        "for i in range(20):\n",
        "    for j in range(i+1,20):\n",
        "        create_fig_0((i,j))"
      ],
      "metadata": {
        "id": "2BSn5dY9ba5g"
      },
      "execution_count": null,
      "outputs": []
    },
    {
      "cell_type": "code",
      "source": [
        "# ダウンロードしたいフォルダを zip 圧縮する\n",
        "!zip -r /content/download.zip /content/figures\n",
        "\n",
        "# 圧縮した zip ファイルをダウンロードする\n",
        "from google.colab import files\n",
        "files.download(\"/content/download.zip\")"
      ],
      "metadata": {
        "id": "JOKlaY_Cvx9J"
      },
      "execution_count": null,
      "outputs": []
    },
    {
      "cell_type": "code",
      "source": [
        "num = (0,1)\n",
        "\n",
        "figsize(7, 12 / 5)\n",
        "\n",
        "plt.subplot(1, 2, 1)\n",
        "\n",
        "plt.hist2d(\n",
        "    Z_df_ordered[f'z'+str(num[0])], Z_df_ordered[f'z'+str(num[1])],\n",
        "    bins=256,\n",
        "    norm=mcolors.PowerNorm(0.25),\n",
        "    cmap=cm.gray_r,\n",
        "    rasterized=True\n",
        ")\n",
        "\n",
        "plt.axis('equal')\n",
        "plt.xlabel('$Z_{}$ '.format(num[0]) + f'({variance_explained[idx][num[0]]:.1%} variance)')\n",
        "plt.ylabel('$Z_{}$ '.format(num[1]) + f'({variance_explained[idx][num[1]]:.1%} variance)')\n",
        "\n",
        "ax = plt.gca()\n",
        "\n",
        "color_maps = [cm.Reds_r, cm.Blues_r, cm.Greens_r]\n",
        "cell_types = ['Erythroid3', 'ExE endoderm', 'Epiblast']\n",
        "for color, ctype in zip(color_maps, cell_types):\n",
        "    X = metadata.query('celltype == @ctype')[['z'+str(num[0]), 'z'+str(num[1])]]\n",
        "    xx1, xx2, f = make_kde(X['z'+str(num[0])], X['z'+str(num[1])])\n",
        "    cset = ax.contour(\n",
        "        xx1,\n",
        "        xx2,\n",
        "        f,\n",
        "        levels=6,\n",
        "        cmap=color,\n",
        "        linewidths=1.\n",
        "    )\n",
        "\n",
        "ax.spines['top'].set_visible(False)\n",
        "ax.spines['right'].set_visible(False)\n",
        "\n",
        "plt.subplot(1, 2, 2)\n",
        "\n",
        "plt.scatter(\n",
        "    W_df_ordered['w'+str(num[0])], W_df_ordered['w'+str(num[1])],\n",
        "    c='lightgrey',\n",
        "    rasterized=True\n",
        ")\n",
        "\n",
        "\n",
        "arrows = []\n",
        "genes = ['Hbb-bs', 'Hbb-bt', 'Hba-a2']\n",
        "for g in genes:\n",
        "    x_, y_ = vardata.query('gene_name == @g')[['w'+str(num[0]), 'w'+str(num[1])]].values[0]\n",
        "\n",
        "    arrows.append(plt.arrow(0, 0, x_, y_, length_includes_head=True, color='r'))\n",
        "    \n",
        "plt.text(0, 2, '\\n'.join(genes), color='r')\n",
        "\n",
        "arrows = []\n",
        "genes = ['Pou5f1', 'Tdgf1', 'Snrpn']\n",
        "for g in genes:\n",
        "    x_, y_ = vardata.query('gene_name == @g')[['w'+str(num[0]), 'w'+str(num[1])]].values[0]\n",
        "\n",
        "    arrows.append(plt.arrow(0, 0, x_, y_, length_includes_head=True, color='g'))\n",
        "\n",
        "plt.text(1, -1.5, '\\n'.join(genes), color='g')\n",
        "\n",
        "arrows = []\n",
        "genes = ['Ctsh', 'Amn', 'Apoa4']\n",
        "for g in genes:\n",
        "    x_, y_ = vardata.query('gene_name == @g')[['w'+str(num[0]), 'w'+str(num[1])]].values[0]\n",
        "\n",
        "    arrows.append(plt.arrow(0, 0, x_, y_, length_includes_head=True, color='b'))\n",
        "\n",
        "plt.text(-2.6, -0.5, '\\n'.join(genes), color='b')\n",
        "\n",
        "\n",
        "plt.xlim(left=-3, right=3)\n",
        "plt.ylim(bottom=-3, top=3)\n",
        "\n",
        "plt.xlabel('$W_{}$'.format(num[0]))\n",
        "plt.ylabel('$W_{}$'.format(num[1]))\n",
        "\n",
        "ax = plt.gca()\n",
        "\n",
        "ax.spines['top'].set_visible(False)\n",
        "ax.spines['right'].set_visible(False)\n",
        "\n",
        "plt.savefig('figures/linear_pij_results_celltypes.pdf', bbox_inches='tight', dpi=400)\n",
        "\n"
      ],
      "metadata": {
        "id": "9UmN_YNVUfFX"
      },
      "execution_count": null,
      "outputs": []
    },
    {
      "cell_type": "code",
      "source": [
        "figsize(80, 80)\n",
        "z_length = 20\n",
        "for i in range(z_length):\n",
        "    for j in range(z_length):\n",
        "        # -- Z plot --\n",
        "    \n",
        "        plt.subplot(z_length, z_length, z_length*i +j + 1)\n",
        "        \n",
        "        plt.hist2d(\n",
        "            Z_df_ordered[f'z{i}'], Z_df_ordered[f'z{ j }'],\n",
        "            bins=256,\n",
        "            norm=mcolors.PowerNorm(0.25),\n",
        "            cmap=cm.gray_r,\n",
        "            rasterized=True\n",
        "        )\n",
        "        plt.axis('equal');\n",
        "        plt.xlabel(f'$Z_{i}$ ({variance_explained[idx][i]:.1%} variance)')\n",
        "        plt.ylabel(f'$Z_{j}$ ({variance_explained[idx][ j]:.1%} variance)')\n",
        "        \n",
        "        ax = plt.gca()\n",
        "        ax.spines['top'].set_visible(False)\n",
        "        ax.spines['right'].set_visible(False)\n",
        "    \n",
        "plt.tight_layout()\n",
        "plt.savefig('figures/linear_pij_results.pdf', bbox_inches='tight', dpi=20)"
      ],
      "metadata": {
        "id": "21R5s-r2v7yk"
      },
      "execution_count": null,
      "outputs": []
    },
    {
      "cell_type": "code",
      "source": [
        "\n",
        "\n",
        "text_shift = {\n",
        "    (0, 'Fst'): (0.2, -0.2),\n",
        "    (0, 'Pmp22'): (-0.1, -0.3),\n",
        "    (0, 'Hoxaas3'): (0.0, 0.3),\n",
        "    (0, 'Acta2'): (0.0, 0.2),\n",
        "    (0, 'Nnat'): (0.0, 0.5),\n",
        "    (0, 'Ifitm1'): (0.0, 0.2),\n",
        "    \n",
        "    (1, 'Srgn'): (0., -0.2),\n",
        "    (1, 'Amn'): (-0.7, 0.),\n",
        "    \n",
        "    (2, 'Crabp2'): (0.0, 0.4),\n",
        "    (2, 'Tdgf1'): (0.0, 0.4),\n",
        "    (2, 'Cer1'): (-0.6, 0.0),\n",
        "    (2, 'T'): (-1.3, 0.0),\n",
        "    \n",
        "    (3, 'Cdx1'): (0.0, 0.4),\n",
        "    (3, 'Cdx2'): (-1.0, 0.7),\n",
        "    (3, 'Cited1'): (-1.6, -0.0),\n",
        "    (3, 'Phlda2'): (-0.7, 0.0),\n",
        "    (3, 'T'): (0.0, 0.2),\n",
        "    (3, 'Ifitm1'): (-0.2, 0.0),\n",
        "#     (3, 'Rspo2'): (-0.3, 0.0),\n",
        "#     (3, 'Htr2c'): (0.6, 0.1),\n",
        "#     (3, 'Col1a1'): (0.0, 0.2),\n",
        "    \n",
        "#     (4, 'Ttn'): (0.0, -0.4),\n",
        "#     (4, 'Sntb1'): (0.0, -0.3),\n",
        "#     (4, 'Colec12'): (-1.1, 0.1),\n",
        "#     (4, 'Adam12'): (0.1, 0.4),\n",
        "#     (4, 'Spon1'): (0.0, 0.2),\n",
        "#     (4, 'Gm3764'): (-0.2, 0.3),\n",
        "#     (4, 'C130071C03Rik'): (1.5, -0.35),\n",
        "    \n",
        "}\n",
        "\n"
      ],
      "metadata": {
        "id": "mOejx8c-uP-N"
      },
      "execution_count": null,
      "outputs": []
    },
    {
      "cell_type": "code",
      "source": [
        "\n",
        "figsize(7, 12)\n",
        "for i in range(5):\n",
        "    \n",
        "    # -- Z plot --\n",
        "    \n",
        "    plt.subplot(5, 2, 2 * i + 1)\n",
        "    \n",
        "    plt.hist2d(\n",
        "        Z_df_ordered[f'z{2 * i}'], Z_df_ordered[f'z{2 * i + 1}'],\n",
        "        bins=256,\n",
        "        norm=mcolors.PowerNorm(0.25),\n",
        "        cmap=cm.gray_r,\n",
        "        rasterized=True\n",
        "    )\n",
        "    plt.axis('equal');\n",
        "    plt.xlabel(f'$Z_{2 * i}$ ({variance_explained[idx][2 * i]:.1%} variance)')\n",
        "    plt.ylabel(f'$Z_{2 * i + 1}$ ({variance_explained[idx][2 * i + 1]:.1%} variance)')\n",
        "    \n",
        "    ax = plt.gca()\n",
        "    ax.spines['top'].set_visible(False)\n",
        "    ax.spines['right'].set_visible(False)\n",
        "    \n",
        "\n",
        "    #plt.xlim(left=-3, right=3)\n",
        "    #plt.ylim(bottom=-3, top=3)\n",
        "    \n",
        "plt.tight_layout()\n",
        "plt.savefig('figures/linear_pij_results.pdf', bbox_inches='tight', dpi=400)"
      ],
      "metadata": {
        "id": "gQiRGm8ZuS9S"
      },
      "execution_count": null,
      "outputs": []
    },
    {
      "cell_type": "code",
      "source": [
        ""
      ],
      "metadata": {
        "id": "dCvU42G3ukVq"
      },
      "execution_count": null,
      "outputs": []
    }
  ]
}