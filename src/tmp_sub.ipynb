{
  "nbformat": 4,
  "nbformat_minor": 0,
  "metadata": {
    "colab": {
      "name": "tmplate_original.ipynb",
      "provenance": [],
      "machine_shape": "hm",
      "authorship_tag": "ABX9TyMdB6yApofnqKonPmDVuzE1",
      "include_colab_link": true
    },
    "kernelspec": {
      "name": "python3",
      "display_name": "Python 3"
    },
    "language_info": {
      "name": "python"
    },
    "accelerator": "GPU"
  },
  "cells": [
    {
      "cell_type": "markdown",
      "metadata": {
        "id": "view-in-github",
        "colab_type": "text"
      },
      "source": [
        "<a href=\"https://colab.research.google.com/github/kicysh/final_task_of_world_model_lecture_2021/blob/main/src/tmp_sub.ipynb\" target=\"_parent\"><img src=\"https://colab.research.google.com/assets/colab-badge.svg\" alt=\"Open In Colab\"/></a>"
      ]
    },
    {
      "cell_type": "markdown",
      "source": [
        "# セットアップ\n",
        "\n",
        "- scVIのインストール\n",
        "- データのダウンロード\n",
        "- 必要なパッケージのインストール"
      ],
      "metadata": {
        "id": "MOGrC_YEjYPQ"
      }
    },
    {
      "cell_type": "code",
      "source": [
        "!git clone https://github.com/tabdelaal/scVI"
      ],
      "metadata": {
        "colab": {
          "base_uri": "https://localhost:8080/"
        },
        "id": "58vbHslHNeKi",
        "outputId": "ce94e671-3bd4-4bf6-fdea-eb6dbaf79c00"
      },
      "execution_count": 1,
      "outputs": [
        {
          "output_type": "stream",
          "name": "stdout",
          "text": [
            "Cloning into 'scVI'...\n",
            "remote: Enumerating objects: 10007, done.\u001b[K\n",
            "remote: Total 10007 (delta 0), reused 0 (delta 0), pack-reused 10007\u001b[K\n",
            "Receiving objects: 100% (10007/10007), 108.57 MiB | 31.09 MiB/s, done.\n",
            "Resolving deltas: 100% (7177/7177), done.\n"
          ]
        }
      ]
    },
    {
      "cell_type": "code",
      "source": [
        "!pip install /content/scVI"
      ],
      "metadata": {
        "colab": {
          "base_uri": "https://localhost:8080/"
        },
        "id": "ol2gvtlMSb-e",
        "outputId": "2165d7e9-c6ef-447c-9f2e-042767838426"
      },
      "execution_count": 2,
      "outputs": [
        {
          "output_type": "stream",
          "name": "stdout",
          "text": [
            "Processing ./scVI\n",
            "\u001b[33m  DEPRECATION: A future pip version will change local packages to be built in-place without first copying to a temporary directory. We recommend you use --use-feature=in-tree-build to test your packages with this new behavior before it becomes the default.\n",
            "   pip 21.3 will remove support for this functionality. You can find discussion regarding this at https://github.com/pypa/pip/issues/7555.\u001b[0m\n",
            "Requirement already satisfied: numpy>=1.16.2 in /usr/local/lib/python3.7/dist-packages (from scvi==0.6.4) (1.21.5)\n",
            "Requirement already satisfied: torch>=1.0.1 in /usr/local/lib/python3.7/dist-packages (from scvi==0.6.4) (1.10.0+cu111)\n",
            "Requirement already satisfied: matplotlib>=3.1.2 in /usr/local/lib/python3.7/dist-packages (from scvi==0.6.4) (3.2.2)\n",
            "Requirement already satisfied: scikit-learn>=0.20.3 in /usr/local/lib/python3.7/dist-packages (from scvi==0.6.4) (1.0.2)\n",
            "Requirement already satisfied: h5py>=2.9.0 in /usr/local/lib/python3.7/dist-packages (from scvi==0.6.4) (3.1.0)\n",
            "Requirement already satisfied: pandas>=0.24.2 in /usr/local/lib/python3.7/dist-packages (from scvi==0.6.4) (1.3.5)\n",
            "Collecting loompy>=3.0.6\n",
            "  Downloading loompy-3.0.7.tar.gz (4.8 MB)\n",
            "\u001b[K     |████████████████████████████████| 4.8 MB 4.7 MB/s \n",
            "\u001b[?25hRequirement already satisfied: tqdm>=4.31.1 in /usr/local/lib/python3.7/dist-packages (from scvi==0.6.4) (4.63.0)\n",
            "Collecting xlrd>=1.2.0\n",
            "  Downloading xlrd-2.0.1-py2.py3-none-any.whl (96 kB)\n",
            "\u001b[K     |████████████████████████████████| 96 kB 4.4 MB/s \n",
            "\u001b[?25hRequirement already satisfied: hyperopt==0.1.2 in /usr/local/lib/python3.7/dist-packages (from scvi==0.6.4) (0.1.2)\n",
            "Collecting anndata>=0.7\n",
            "  Downloading anndata-0.8.0-py3-none-any.whl (96 kB)\n",
            "\u001b[K     |████████████████████████████████| 96 kB 4.7 MB/s \n",
            "\u001b[?25hRequirement already satisfied: statsmodels in /usr/local/lib/python3.7/dist-packages (from scvi==0.6.4) (0.10.2)\n",
            "Collecting scanpy>=1.4\n",
            "  Downloading scanpy-1.8.2-py3-none-any.whl (2.0 MB)\n",
            "\u001b[K     |████████████████████████████████| 2.0 MB 39.0 MB/s \n",
            "\u001b[?25hCollecting scikit-misc\n",
            "  Downloading scikit_misc-0.1.4-cp37-cp37m-manylinux_2_5_x86_64.manylinux1_x86_64.whl (8.8 MB)\n",
            "\u001b[K     |████████████████████████████████| 8.8 MB 14.7 MB/s \n",
            "\u001b[?25hRequirement already satisfied: networkx in /usr/local/lib/python3.7/dist-packages (from hyperopt==0.1.2->scvi==0.6.4) (2.6.3)\n",
            "Requirement already satisfied: scipy in /usr/local/lib/python3.7/dist-packages (from hyperopt==0.1.2->scvi==0.6.4) (1.4.1)\n",
            "Requirement already satisfied: six in /usr/local/lib/python3.7/dist-packages (from hyperopt==0.1.2->scvi==0.6.4) (1.15.0)\n",
            "Requirement already satisfied: future in /usr/local/lib/python3.7/dist-packages (from hyperopt==0.1.2->scvi==0.6.4) (0.16.0)\n",
            "Requirement already satisfied: pymongo in /usr/local/lib/python3.7/dist-packages (from hyperopt==0.1.2->scvi==0.6.4) (4.0.2)\n",
            "Requirement already satisfied: typing_extensions in /usr/local/lib/python3.7/dist-packages (from anndata>=0.7->scvi==0.6.4) (3.10.0.2)\n",
            "Requirement already satisfied: natsort in /usr/local/lib/python3.7/dist-packages (from anndata>=0.7->scvi==0.6.4) (5.5.0)\n",
            "Requirement already satisfied: packaging>=20 in /usr/local/lib/python3.7/dist-packages (from anndata>=0.7->scvi==0.6.4) (21.3)\n",
            "Requirement already satisfied: importlib_metadata>=0.7 in /usr/local/lib/python3.7/dist-packages (from anndata>=0.7->scvi==0.6.4) (4.11.3)\n",
            "Requirement already satisfied: cached-property in /usr/local/lib/python3.7/dist-packages (from h5py>=2.9.0->scvi==0.6.4) (1.5.2)\n",
            "Requirement already satisfied: zipp>=0.5 in /usr/local/lib/python3.7/dist-packages (from importlib_metadata>=0.7->anndata>=0.7->scvi==0.6.4) (3.7.0)\n",
            "Requirement already satisfied: setuptools in /usr/local/lib/python3.7/dist-packages (from loompy>=3.0.6->scvi==0.6.4) (57.4.0)\n",
            "Requirement already satisfied: numba in /usr/local/lib/python3.7/dist-packages (from loompy>=3.0.6->scvi==0.6.4) (0.51.2)\n",
            "Requirement already satisfied: click in /usr/local/lib/python3.7/dist-packages (from loompy>=3.0.6->scvi==0.6.4) (7.1.2)\n",
            "Collecting numpy-groupies\n",
            "  Downloading numpy_groupies-0.9.14.tar.gz (48 kB)\n",
            "\u001b[K     |████████████████████████████████| 48 kB 4.9 MB/s \n",
            "\u001b[?25hRequirement already satisfied: python-dateutil>=2.1 in /usr/local/lib/python3.7/dist-packages (from matplotlib>=3.1.2->scvi==0.6.4) (2.8.2)\n",
            "Requirement already satisfied: kiwisolver>=1.0.1 in /usr/local/lib/python3.7/dist-packages (from matplotlib>=3.1.2->scvi==0.6.4) (1.4.0)\n",
            "Requirement already satisfied: pyparsing!=2.0.4,!=2.1.2,!=2.1.6,>=2.0.1 in /usr/local/lib/python3.7/dist-packages (from matplotlib>=3.1.2->scvi==0.6.4) (3.0.7)\n",
            "Requirement already satisfied: cycler>=0.10 in /usr/local/lib/python3.7/dist-packages (from matplotlib>=3.1.2->scvi==0.6.4) (0.11.0)\n",
            "Requirement already satisfied: pytz>=2017.3 in /usr/local/lib/python3.7/dist-packages (from pandas>=0.24.2->scvi==0.6.4) (2018.9)\n",
            "Collecting sinfo\n",
            "  Downloading sinfo-0.3.4.tar.gz (24 kB)\n",
            "Requirement already satisfied: joblib in /usr/local/lib/python3.7/dist-packages (from scanpy>=1.4->scvi==0.6.4) (1.1.0)\n",
            "Requirement already satisfied: seaborn in /usr/local/lib/python3.7/dist-packages (from scanpy>=1.4->scvi==0.6.4) (0.11.2)\n",
            "Requirement already satisfied: tables in /usr/local/lib/python3.7/dist-packages (from scanpy>=1.4->scvi==0.6.4) (3.7.0)\n",
            "Collecting umap-learn>=0.3.10\n",
            "  Downloading umap-learn-0.5.2.tar.gz (86 kB)\n",
            "\u001b[K     |████████████████████████████████| 86 kB 2.9 MB/s \n",
            "\u001b[?25hRequirement already satisfied: patsy in /usr/local/lib/python3.7/dist-packages (from scanpy>=1.4->scvi==0.6.4) (0.5.2)\n",
            "Requirement already satisfied: llvmlite<0.35,>=0.34.0.dev0 in /usr/local/lib/python3.7/dist-packages (from numba->loompy>=3.0.6->scvi==0.6.4) (0.34.0)\n",
            "Requirement already satisfied: threadpoolctl>=2.0.0 in /usr/local/lib/python3.7/dist-packages (from scikit-learn>=0.20.3->scvi==0.6.4) (3.1.0)\n",
            "Collecting pynndescent>=0.5\n",
            "  Downloading pynndescent-0.5.6.tar.gz (1.1 MB)\n",
            "\u001b[K     |████████████████████████████████| 1.1 MB 35.7 MB/s \n",
            "\u001b[?25hCollecting stdlib_list\n",
            "  Downloading stdlib_list-0.8.0-py3-none-any.whl (63 kB)\n",
            "\u001b[K     |████████████████████████████████| 63 kB 1.9 MB/s \n",
            "\u001b[?25hRequirement already satisfied: numexpr>=2.6.2 in /usr/local/lib/python3.7/dist-packages (from tables->scanpy>=1.4->scvi==0.6.4) (2.8.1)\n",
            "Building wheels for collected packages: scvi, loompy, umap-learn, pynndescent, numpy-groupies, sinfo\n",
            "  Building wheel for scvi (setup.py) ... \u001b[?25l\u001b[?25hdone\n",
            "  Created wheel for scvi: filename=scvi-0.6.4-py2.py3-none-any.whl size=139894 sha256=89bc8d8b4b9c6d723670558ea81206aacdba32f510ee29d4994edbb4172d798a\n",
            "  Stored in directory: /tmp/pip-ephem-wheel-cache-edvx58ss/wheels/fd/74/27/424dc7f97ab2af5b62bf2794f95f84dbe60d7896a3675e8f2a\n",
            "  Building wheel for loompy (setup.py) ... \u001b[?25l\u001b[?25hdone\n",
            "  Created wheel for loompy: filename=loompy-3.0.7-py3-none-any.whl size=52040 sha256=5c0948367591251d2040a456c6505c58f8931309fe8565c4ccfa4deb7d6e8d7f\n",
            "  Stored in directory: /root/.cache/pip/wheels/48/36/9f/eb3377d4a7423b96105b6667d36c3faa49ee73b96d8cab80b3\n",
            "  Building wheel for umap-learn (setup.py) ... \u001b[?25l\u001b[?25hdone\n",
            "  Created wheel for umap-learn: filename=umap_learn-0.5.2-py3-none-any.whl size=82708 sha256=978111c20cf49b270b2b8cc8c999a7e8bf2f4c2a96721448bab6b5ff34354823\n",
            "  Stored in directory: /root/.cache/pip/wheels/84/1b/c6/aaf68a748122632967cef4dffef68224eb16798b6793257d82\n",
            "  Building wheel for pynndescent (setup.py) ... \u001b[?25l\u001b[?25hdone\n",
            "  Created wheel for pynndescent: filename=pynndescent-0.5.6-py3-none-any.whl size=53943 sha256=63ae80506b04ae82b824be13ad32e771584fd706d439ac47cc2e864b411a5f45\n",
            "  Stored in directory: /root/.cache/pip/wheels/03/f1/56/f80d72741e400345b5a5b50ec3d929aca581bf45e0225d5c50\n",
            "  Building wheel for numpy-groupies (setup.py) ... \u001b[?25l\u001b[?25hdone\n",
            "  Created wheel for numpy-groupies: filename=numpy_groupies-0.9.14-py3-none-any.whl size=24113 sha256=9d90014d6f4fb6ddaa77633389f2d16b7e6efe5866e59de5fc18582dfdf3efbb\n",
            "  Stored in directory: /root/.cache/pip/wheels/e7/68/13/d9f5f7dd1a3aacf8e9c2c12c6e86cceed1c628f4ae60ff5b01\n",
            "  Building wheel for sinfo (setup.py) ... \u001b[?25l\u001b[?25hdone\n",
            "  Created wheel for sinfo: filename=sinfo-0.3.4-py3-none-any.whl size=7899 sha256=46934e28d42a02b352cc3425100e0898548f2b6b21006745f8754b33e60e2c33\n",
            "  Stored in directory: /root/.cache/pip/wheels/68/ca/56/344d532fe53e855ccd6549795d370588ab8123907eecf4cf30\n",
            "Successfully built scvi loompy umap-learn pynndescent numpy-groupies sinfo\n",
            "Installing collected packages: stdlib-list, pynndescent, umap-learn, sinfo, numpy-groupies, anndata, xlrd, scikit-misc, scanpy, loompy, scvi\n",
            "  Attempting uninstall: xlrd\n",
            "    Found existing installation: xlrd 1.1.0\n",
            "    Uninstalling xlrd-1.1.0:\n",
            "      Successfully uninstalled xlrd-1.1.0\n",
            "Successfully installed anndata-0.8.0 loompy-3.0.7 numpy-groupies-0.9.14 pynndescent-0.5.6 scanpy-1.8.2 scikit-misc-0.1.4 scvi-0.6.4 sinfo-0.3.4 stdlib-list-0.8.0 umap-learn-0.5.2 xlrd-2.0.1\n"
          ]
        }
      ]
    },
    {
      "cell_type": "code",
      "execution_count": 3,
      "metadata": {
        "colab": {
          "base_uri": "https://localhost:8080/"
        },
        "id": "U_-sWFeKwtnT",
        "outputId": "b806c7f6-b9b5-4963-c910-1faddcc42ada"
      },
      "outputs": [
        {
          "output_type": "stream",
          "name": "stdout",
          "text": [
            "Copying gs://h5ad/2019-02-Pijuan-Sala-et-al-Nature/pijuan_sala_atlas.h5ad...\n",
            "/ [1 files][  1.0 GiB/  1.0 GiB]   45.7 MiB/s                                   \n",
            "Operation completed over 1 objects/1.0 GiB.                                      \n"
          ]
        }
      ],
      "source": [
        "!mkdir data\n",
        "!gsutil cp gs://h5ad/2019-02-Pijuan-Sala-et-al-Nature/pijuan_sala_atlas.h5ad /content/data"
      ]
    },
    {
      "cell_type": "code",
      "source": [
        "!pip install scanpy"
      ],
      "metadata": {
        "colab": {
          "base_uri": "https://localhost:8080/"
        },
        "id": "C6s38Dm45sl4",
        "outputId": "34199b72-3f06-41f9-8983-a0ce6b58e4fa"
      },
      "execution_count": 4,
      "outputs": [
        {
          "output_type": "stream",
          "name": "stdout",
          "text": [
            "Requirement already satisfied: scanpy in /usr/local/lib/python3.7/dist-packages (1.8.2)\n",
            "Requirement already satisfied: packaging in /usr/local/lib/python3.7/dist-packages (from scanpy) (21.3)\n",
            "Requirement already satisfied: importlib_metadata>=0.7 in /usr/local/lib/python3.7/dist-packages (from scanpy) (4.11.3)\n",
            "Requirement already satisfied: scipy>=1.4 in /usr/local/lib/python3.7/dist-packages (from scanpy) (1.4.1)\n",
            "Requirement already satisfied: umap-learn>=0.3.10 in /usr/local/lib/python3.7/dist-packages (from scanpy) (0.5.2)\n",
            "Requirement already satisfied: numba>=0.41.0 in /usr/local/lib/python3.7/dist-packages (from scanpy) (0.51.2)\n",
            "Requirement already satisfied: tqdm in /usr/local/lib/python3.7/dist-packages (from scanpy) (4.63.0)\n",
            "Requirement already satisfied: anndata>=0.7.4 in /usr/local/lib/python3.7/dist-packages (from scanpy) (0.8.0)\n",
            "Requirement already satisfied: seaborn in /usr/local/lib/python3.7/dist-packages (from scanpy) (0.11.2)\n",
            "Requirement already satisfied: networkx>=2.3 in /usr/local/lib/python3.7/dist-packages (from scanpy) (2.6.3)\n",
            "Requirement already satisfied: patsy in /usr/local/lib/python3.7/dist-packages (from scanpy) (0.5.2)\n",
            "Requirement already satisfied: natsort in /usr/local/lib/python3.7/dist-packages (from scanpy) (5.5.0)\n",
            "Requirement already satisfied: scikit-learn>=0.22 in /usr/local/lib/python3.7/dist-packages (from scanpy) (1.0.2)\n",
            "Requirement already satisfied: pandas>=0.21 in /usr/local/lib/python3.7/dist-packages (from scanpy) (1.3.5)\n",
            "Requirement already satisfied: joblib in /usr/local/lib/python3.7/dist-packages (from scanpy) (1.1.0)\n",
            "Requirement already satisfied: tables in /usr/local/lib/python3.7/dist-packages (from scanpy) (3.7.0)\n",
            "Requirement already satisfied: h5py>=2.10.0 in /usr/local/lib/python3.7/dist-packages (from scanpy) (3.1.0)\n",
            "Requirement already satisfied: matplotlib>=3.1.2 in /usr/local/lib/python3.7/dist-packages (from scanpy) (3.2.2)\n",
            "Requirement already satisfied: numpy>=1.17.0 in /usr/local/lib/python3.7/dist-packages (from scanpy) (1.21.5)\n",
            "Requirement already satisfied: sinfo in /usr/local/lib/python3.7/dist-packages (from scanpy) (0.3.4)\n",
            "Requirement already satisfied: statsmodels>=0.10.0rc2 in /usr/local/lib/python3.7/dist-packages (from scanpy) (0.10.2)\n",
            "Requirement already satisfied: typing_extensions in /usr/local/lib/python3.7/dist-packages (from anndata>=0.7.4->scanpy) (3.10.0.2)\n",
            "Requirement already satisfied: cached-property in /usr/local/lib/python3.7/dist-packages (from h5py>=2.10.0->scanpy) (1.5.2)\n",
            "Requirement already satisfied: zipp>=0.5 in /usr/local/lib/python3.7/dist-packages (from importlib_metadata>=0.7->scanpy) (3.7.0)\n",
            "Requirement already satisfied: cycler>=0.10 in /usr/local/lib/python3.7/dist-packages (from matplotlib>=3.1.2->scanpy) (0.11.0)\n",
            "Requirement already satisfied: kiwisolver>=1.0.1 in /usr/local/lib/python3.7/dist-packages (from matplotlib>=3.1.2->scanpy) (1.4.0)\n",
            "Requirement already satisfied: python-dateutil>=2.1 in /usr/local/lib/python3.7/dist-packages (from matplotlib>=3.1.2->scanpy) (2.8.2)\n",
            "Requirement already satisfied: pyparsing!=2.0.4,!=2.1.2,!=2.1.6,>=2.0.1 in /usr/local/lib/python3.7/dist-packages (from matplotlib>=3.1.2->scanpy) (3.0.7)\n",
            "Requirement already satisfied: llvmlite<0.35,>=0.34.0.dev0 in /usr/local/lib/python3.7/dist-packages (from numba>=0.41.0->scanpy) (0.34.0)\n",
            "Requirement already satisfied: setuptools in /usr/local/lib/python3.7/dist-packages (from numba>=0.41.0->scanpy) (57.4.0)\n",
            "Requirement already satisfied: pytz>=2017.3 in /usr/local/lib/python3.7/dist-packages (from pandas>=0.21->scanpy) (2018.9)\n",
            "Requirement already satisfied: six>=1.5 in /usr/local/lib/python3.7/dist-packages (from python-dateutil>=2.1->matplotlib>=3.1.2->scanpy) (1.15.0)\n",
            "Requirement already satisfied: threadpoolctl>=2.0.0 in /usr/local/lib/python3.7/dist-packages (from scikit-learn>=0.22->scanpy) (3.1.0)\n",
            "Requirement already satisfied: pynndescent>=0.5 in /usr/local/lib/python3.7/dist-packages (from umap-learn>=0.3.10->scanpy) (0.5.6)\n",
            "Requirement already satisfied: stdlib-list in /usr/local/lib/python3.7/dist-packages (from sinfo->scanpy) (0.8.0)\n",
            "Requirement already satisfied: numexpr>=2.6.2 in /usr/local/lib/python3.7/dist-packages (from tables->scanpy) (2.8.1)\n"
          ]
        }
      ]
    },
    {
      "cell_type": "markdown",
      "source": [
        "# LDVAEの実行"
      ],
      "metadata": {
        "id": "LwRvmFa6j5bv"
      }
    },
    {
      "cell_type": "code",
      "source": [
        "path_of_data = '/content/data/pijuan_sala_atlas.h5ad'"
      ],
      "metadata": {
        "id": "m6sX90mS6fFo"
      },
      "execution_count": 5,
      "outputs": []
    },
    {
      "cell_type": "code",
      "source": [
        "from scvi.dataset import AnnDatasetFromAnnData\n",
        "from scvi.models import LDVAE\n",
        "from scvi.inference import UnsupervisedTrainer\n",
        "from scvi.inference.posterior import Posterior"
      ],
      "metadata": {
        "colab": {
          "base_uri": "https://localhost:8080/"
        },
        "id": "xBThXl88UBFG",
        "outputId": "7f89753a-eb7e-4ea6-a943-5ccd7c4c05e2"
      },
      "execution_count": 6,
      "outputs": [
        {
          "output_type": "stream",
          "name": "stderr",
          "text": [
            "/usr/local/lib/python3.7/dist-packages/numba/np/ufunc/parallel.py:363: NumbaWarning: The TBB threading layer requires TBB version 2019.5 or later i.e., TBB_INTERFACE_VERSION >= 11005. Found TBB_INTERFACE_VERSION = 9107. The TBB threading layer is disabled.\n",
            "  warnings.warn(problem)\n"
          ]
        }
      ]
    },
    {
      "cell_type": "code",
      "source": [
        "import scanpy as sc\n",
        "adata = sc.read_h5ad(path_of_data)\n",
        "adata"
      ],
      "metadata": {
        "colab": {
          "base_uri": "https://localhost:8080/"
        },
        "id": "iEGLJbUwxpbs",
        "outputId": "1cbeb82c-281d-4411-a3d0-5096de508bbf"
      },
      "execution_count": 38,
      "outputs": [
        {
          "output_type": "execute_result",
          "data": {
            "text/plain": [
              "AnnData object with n_obs × n_vars = 139331 × 29452\n",
              "    obs: 'barcode', 'sample', 'stage', 'sequencing.batch', 'theiler', 'doub.density', 'doublet', 'cluster', 'cluster.sub', 'cluster.stage', 'cluster.theiler', 'stripped', 'celltype', 'colour', 'umapX', 'umapY', 'haem_gephiX', 'haem_gephiY', 'haem_subclust', 'endo_gephiX', 'endo_gephiY', 'endo_trajectoryName', 'endo_trajectoryDPT', 'endo_gutX', 'endo_gutY', 'endo_gutDPT', 'endo_gutCluster'\n",
              "    var: 'gene_name'"
            ]
          },
          "metadata": {},
          "execution_count": 38
        }
      ]
    },
    {
      "cell_type": "code",
      "source": [
        "cells_dataset = AnnDatasetFromAnnData(adata)"
      ],
      "metadata": {
        "id": "FCyf8cXbVd6i"
      },
      "execution_count": null,
      "outputs": []
    },
    {
      "cell_type": "code",
      "source": [
        "cells_dataset.nb_cells"
      ],
      "metadata": {
        "id": "NiZTHE-gVnQs"
      },
      "execution_count": null,
      "outputs": []
    },
    {
      "cell_type": "code",
      "source": [
        "idx = adata.obs.query('not doublet').index\n",
        "adata = adata[idx]\n",
        "\n",
        "cells_dataset = AnnDatasetFromAnnData(adata)\n",
        "\n",
        "cell_numbers = [2500 * 2 ** i for i in range(10)] + [idx.shape[0]]\n"
      ],
      "metadata": {
        "id": "ynJzsZQT4YfM"
      },
      "execution_count": null,
      "outputs": []
    },
    {
      "cell_type": "code",
      "source": [
        "cells_dataset.subsample_genes(1000)"
      ],
      "metadata": {
        "id": "cQPrbG1Refim"
      },
      "execution_count": null,
      "outputs": []
    },
    {
      "cell_type": "code",
      "source": [
        "vae = LDVAE(\n",
        "    cells_dataset.nb_genes,\n",
        "    reconstruction_loss='nb',\n",
        "    use_batch_norm=True,\n",
        "    latent_distribution='normal',\n",
        "    n_latent=20\n",
        ")"
      ],
      "metadata": {
        "id": "Y7R--6yaeMYC"
      },
      "execution_count": 12,
      "outputs": []
    },
    {
      "cell_type": "code",
      "source": [
        "vae"
      ],
      "metadata": {
        "colab": {
          "base_uri": "https://localhost:8080/"
        },
        "id": "S7PWxCW1WpyX",
        "outputId": "52efdb1a-bda1-4158-f638-c7fd740e29cf"
      },
      "execution_count": 13,
      "outputs": [
        {
          "output_type": "execute_result",
          "data": {
            "text/plain": [
              "LDVAE(\n",
              "  (z_encoder): Encoder(\n",
              "    (encoder): FCLayers(\n",
              "      (fc_layers): Sequential(\n",
              "        (Layer 0): Sequential(\n",
              "          (0): Linear(in_features=1000, out_features=128, bias=True)\n",
              "          (1): BatchNorm1d(128, eps=0.001, momentum=0.01, affine=True, track_running_stats=True)\n",
              "          (2): ReLU()\n",
              "          (3): Dropout(p=0.1, inplace=False)\n",
              "        )\n",
              "      )\n",
              "    )\n",
              "    (mean_encoder): Linear(in_features=128, out_features=20, bias=True)\n",
              "    (var_encoder): Linear(in_features=128, out_features=20, bias=True)\n",
              "  )\n",
              "  (l_encoder): Encoder(\n",
              "    (encoder): FCLayers(\n",
              "      (fc_layers): Sequential(\n",
              "        (Layer 0): Sequential(\n",
              "          (0): Linear(in_features=1000, out_features=128, bias=True)\n",
              "          (1): BatchNorm1d(128, eps=0.001, momentum=0.01, affine=True, track_running_stats=True)\n",
              "          (2): ReLU()\n",
              "          (3): Dropout(p=0.1, inplace=False)\n",
              "        )\n",
              "      )\n",
              "    )\n",
              "    (mean_encoder): Linear(in_features=128, out_features=1, bias=True)\n",
              "    (var_encoder): Linear(in_features=128, out_features=1, bias=True)\n",
              "  )\n",
              "  (decoder): LinearDecoderSCVI(\n",
              "    (factor_regressor): FCLayers(\n",
              "      (fc_layers): Sequential(\n",
              "        (Layer 0): Sequential(\n",
              "          (0): Linear(in_features=20, out_features=1000, bias=False)\n",
              "          (1): BatchNorm1d(1000, eps=0.001, momentum=0.01, affine=True, track_running_stats=True)\n",
              "          (2): None\n",
              "          (3): None\n",
              "        )\n",
              "      )\n",
              "    )\n",
              "    (px_dropout_decoder): FCLayers(\n",
              "      (fc_layers): Sequential(\n",
              "        (Layer 0): Sequential(\n",
              "          (0): Linear(in_features=20, out_features=1000, bias=False)\n",
              "          (1): BatchNorm1d(1000, eps=0.001, momentum=0.01, affine=True, track_running_stats=True)\n",
              "          (2): None\n",
              "          (3): None\n",
              "        )\n",
              "      )\n",
              "    )\n",
              "  )\n",
              ")"
            ]
          },
          "metadata": {},
          "execution_count": 13
        }
      ]
    },
    {
      "cell_type": "code",
      "source": [
        "cells_dataset.gene_names"
      ],
      "metadata": {
        "id": "ZtdGEALZsqkT",
        "outputId": "d3f65482-8e3b-4b14-cf19-1c2fb36fcbee",
        "colab": {
          "base_uri": "https://localhost:8080/"
        }
      },
      "execution_count": 14,
      "outputs": [
        {
          "output_type": "execute_result",
          "data": {
            "text/plain": [
              "array(['ENSMUSG00000025902', 'ENSMUSG00000025927', 'ENSMUSG00000026124',\n",
              "       'ENSMUSG00000026043', 'ENSMUSG00000045954', 'ENSMUSG00000026102',\n",
              "       'ENSMUSG00000061816', 'ENSMUSG00000026193', 'ENSMUSG00000039323',\n",
              "       'ENSMUSG00000026185', 'ENSMUSG00000026175', 'ENSMUSG00000033227',\n",
              "       'ENSMUSG00000006538', 'ENSMUSG00000026208', 'ENSMUSG00000004872',\n",
              "       'ENSMUSG00000026166', 'ENSMUSG00000026295', 'ENSMUSG00000034353',\n",
              "       'ENSMUSG00000007805', 'ENSMUSG00000101995', 'ENSMUSG00000050777',\n",
              "       'ENSMUSG00000058665', 'ENSMUSG00000026459', 'ENSMUSG00000003051',\n",
              "       'ENSMUSG00000026421', 'ENSMUSG00000041801', 'ENSMUSG00000026418',\n",
              "       'ENSMUSG00000026414', 'ENSMUSG00000026395', 'ENSMUSG00000026358',\n",
              "       'ENSMUSG00000026357', 'ENSMUSG00000026478', 'ENSMUSG00000042684',\n",
              "       'ENSMUSG00000026473', 'ENSMUSG00000040181', 'ENSMUSG00000026576',\n",
              "       'ENSMUSG00000026568', 'ENSMUSG00000040723', 'ENSMUSG00000040713',\n",
              "       'ENSMUSG00000026688', 'ENSMUSG00000026678', 'ENSMUSG00000026649',\n",
              "       'ENSMUSG00000005681', 'ENSMUSG00000058715', 'ENSMUSG00000007122',\n",
              "       'ENSMUSG00000026547', 'ENSMUSG00000026546', 'ENSMUSG00000038936',\n",
              "       'ENSMUSG00000026497', 'ENSMUSG00000066652', 'ENSMUSG00000038793',\n",
              "       'ENSMUSG00000038633', 'ENSMUSG00000026621', 'ENSMUSG00000039239',\n",
              "       'ENSMUSG00000026630', 'ENSMUSG00000016494', 'ENSMUSG00000026650',\n",
              "       'ENSMUSG00000026664', 'ENSMUSG00000061186', 'ENSMUSG00000026726',\n",
              "       'ENSMUSG00000026728', 'ENSMUSG00000053702', 'ENSMUSG00000026679',\n",
              "       'ENSMUSG00000026976', 'ENSMUSG00000026956', 'ENSMUSG00000026921',\n",
              "       'ENSMUSG00000026831', 'ENSMUSG00000026815', 'ENSMUSG00000079502',\n",
              "       'ENSMUSG00000039476', 'ENSMUSG00000076441', 'ENSMUSG00000026817',\n",
              "       'ENSMUSG00000026879', 'ENSMUSG00000026894', 'ENSMUSG00000000247',\n",
              "       'ENSMUSG00000026830', 'ENSMUSG00000035000', 'ENSMUSG00000034738',\n",
              "       'ENSMUSG00000075304', 'ENSMUSG00000075302', 'ENSMUSG00000023391',\n",
              "       'ENSMUSG00000043342', 'ENSMUSG00000101174', 'ENSMUSG00000042448',\n",
              "       'ENSMUSG00000075270', 'ENSMUSG00000051747', 'ENSMUSG00000044033',\n",
              "       'ENSMUSG00000027004', 'ENSMUSG00000027082', 'ENSMUSG00000027078',\n",
              "       'ENSMUSG00000044338', 'ENSMUSG00000002111', 'ENSMUSG00000002100',\n",
              "       'ENSMUSG00000027239', 'ENSMUSG00000027230', 'ENSMUSG00000087006',\n",
              "       'ENSMUSG00000027186', 'ENSMUSG00000032698', 'ENSMUSG00000032679',\n",
              "       'ENSMUSG00000027173', 'ENSMUSG00000027168', 'ENSMUSG00000016386',\n",
              "       'ENSMUSG00000068614', 'ENSMUSG00000092397', 'ENSMUSG00000027210',\n",
              "       'ENSMUSG00000027227', 'ENSMUSG00000027225', 'ENSMUSG00000033213',\n",
              "       'ENSMUSG00000027360', 'ENSMUSG00000027368', 'ENSMUSG00000037727',\n",
              "       'ENSMUSG00000027333', 'ENSMUSG00000027358', 'ENSMUSG00000027422',\n",
              "       'ENSMUSG00000037034', 'ENSMUSG00000037025', 'ENSMUSG00000027447',\n",
              "       'ENSMUSG00000068129', 'ENSMUSG00000068079', 'ENSMUSG00000042745',\n",
              "       'ENSMUSG00000027478', 'ENSMUSG00000067818', 'ENSMUSG00000067786',\n",
              "       'ENSMUSG00000074622', 'ENSMUSG00000070708', 'ENSMUSG00000017950',\n",
              "       'ENSMUSG00000017002', 'ENSMUSG00000017723', 'ENSMUSG00000001403',\n",
              "       'ENSMUSG00000042821', 'ENSMUSG00000056501', 'ENSMUSG00000027495',\n",
              "       'ENSMUSG00000028640', 'ENSMUSG00000027510', 'ENSMUSG00000016256',\n",
              "       'ENSMUSG00000015627', 'ENSMUSG00000031155', 'ENSMUSG00000031162',\n",
              "       'ENSMUSG00000031170', 'ENSMUSG00000036782', 'ENSMUSG00000059708',\n",
              "       'ENSMUSG00000073243', 'ENSMUSG00000071773', 'ENSMUSG00000095180',\n",
              "       'ENSMUSG00000006200', 'ENSMUSG00000068048', 'ENSMUSG00000036109',\n",
              "       'ENSMUSG00000031119', 'ENSMUSG00000055653', 'ENSMUSG00000061082',\n",
              "       'ENSMUSG00000073177', 'ENSMUSG00000057615', 'ENSMUSG00000045330',\n",
              "       'ENSMUSG00000085757', 'ENSMUSG00000031179', 'ENSMUSG00000062170',\n",
              "       'ENSMUSG00000057836', 'ENSMUSG00000058147', 'ENSMUSG00000031383',\n",
              "       'ENSMUSG00000031387', 'ENSMUSG00000046942', 'ENSMUSG00000035491',\n",
              "       'ENSMUSG00000025056', 'ENSMUSG00000031216', 'ENSMUSG00000031297',\n",
              "       'ENSMUSG00000031312', 'ENSMUSG00000051159', 'ENSMUSG00000079479',\n",
              "       'ENSMUSG00000031326', 'ENSMUSG00000086503', 'ENSMUSG00000031239',\n",
              "       'ENSMUSG00000051323', 'ENSMUSG00000031410', 'ENSMUSG00000042750',\n",
              "       'ENSMUSG00000047844', 'ENSMUSG00000050071', 'ENSMUSG00000042712',\n",
              "       'ENSMUSG00000046432', 'ENSMUSG00000031425', 'ENSMUSG00000023443',\n",
              "       'ENSMUSG00000052854', 'ENSMUSG00000051257', 'ENSMUSG00000031438',\n",
              "       'ENSMUSG00000047230', 'ENSMUSG00000031434', 'ENSMUSG00000072944',\n",
              "       'ENSMUSG00000041688', 'ENSMUSG00000025270', 'ENSMUSG00000025268',\n",
              "       'ENSMUSG00000046550', 'ENSMUSG00000025283', 'ENSMUSG00000041476',\n",
              "       'ENSMUSG00000040808', 'ENSMUSG00000049775', 'ENSMUSG00000027500',\n",
              "       'ENSMUSG00000027556', 'ENSMUSG00000027559', 'ENSMUSG00000027562',\n",
              "       'ENSMUSG00000019528', 'ENSMUSG00000043164', 'ENSMUSG00000027690',\n",
              "       'ENSMUSG00000037625', 'ENSMUSG00000027712', 'ENSMUSG00000027750',\n",
              "       'ENSMUSG00000048416', 'ENSMUSG00000047557', 'ENSMUSG00000027775',\n",
              "       'ENSMUSG00000028011', 'ENSMUSG00000033860', 'ENSMUSG00000033831',\n",
              "       'ENSMUSG00000057777', 'ENSMUSG00000004885', 'ENSMUSG00000074486',\n",
              "       'ENSMUSG00000028039', 'ENSMUSG00000044080', 'ENSMUSG00000074457',\n",
              "       'ENSMUSG00000001021', 'ENSMUSG00000001025', 'ENSMUSG00000074445',\n",
              "       'ENSMUSG00000045475', 'ENSMUSG00000068885', 'ENSMUSG00000027907',\n",
              "       'ENSMUSG00000041959', 'ENSMUSG00000028139', 'ENSMUSG00000038642',\n",
              "       'ENSMUSG00000038298', 'ENSMUSG00000057123', 'ENSMUSG00000027869',\n",
              "       'ENSMUSG00000032902', 'ENSMUSG00000010136', 'ENSMUSG00000058135',\n",
              "       'ENSMUSG00000068745', 'ENSMUSG00000027962', 'ENSMUSG00000033400',\n",
              "       'ENSMUSG00000028128', 'ENSMUSG00000027978', 'ENSMUSG00000027967',\n",
              "       'ENSMUSG00000028023', 'ENSMUSG00000027985', 'ENSMUSG00000028031',\n",
              "       'ENSMUSG00000053897', 'ENSMUSG00000054690', 'ENSMUSG00000028158',\n",
              "       'ENSMUSG00000028195', 'ENSMUSG00000028194', 'ENSMUSG00000039131',\n",
              "       'ENSMUSG00000039103', 'ENSMUSG00000028228', 'ENSMUSG00000028294',\n",
              "       'ENSMUSG00000028435', 'ENSMUSG00000028441', 'ENSMUSG00000028478',\n",
              "       'ENSMUSG00000035551', 'ENSMUSG00000028328', 'ENSMUSG00000070990',\n",
              "       'ENSMUSG00000028332', 'ENSMUSG00000028307', 'ENSMUSG00000028417',\n",
              "       'ENSMUSG00000028393', 'ENSMUSG00000038192', 'ENSMUSG00000028496',\n",
              "       'ENSMUSG00000044303', 'ENSMUSG00000052684', 'ENSMUSG00000057722',\n",
              "       'ENSMUSG00000028523', 'ENSMUSG00000028717', 'ENSMUSG00000033379',\n",
              "       'ENSMUSG00000006390', 'ENSMUSG00000028536', 'ENSMUSG00000028645',\n",
              "       'ENSMUSG00000070803', 'ENSMUSG00000002384', 'ENSMUSG00000090125',\n",
              "       'ENSMUSG00000028845', 'ENSMUSG00000050234', 'ENSMUSG00000042367',\n",
              "       'ENSMUSG00000042357', 'ENSMUSG00000028786', 'ENSMUSG00000028776',\n",
              "       'ENSMUSG00000028773', 'ENSMUSG00000047281', 'ENSMUSG00000000682',\n",
              "       'ENSMUSG00000007872', 'ENSMUSG00000036856', 'ENSMUSG00000028744',\n",
              "       'ENSMUSG00000086061', 'ENSMUSG00000006221', 'ENSMUSG00000070637',\n",
              "       'ENSMUSG00000029019', 'ENSMUSG00000041616', 'ENSMUSG00000028965',\n",
              "       'ENSMUSG00000028943', 'ENSMUSG00000028946', 'ENSMUSG00000078350',\n",
              "       'ENSMUSG00000048001', 'ENSMUSG00000015652', 'ENSMUSG00000028949',\n",
              "       'ENSMUSG00000002633', 'ENSMUSG00000029182', 'ENSMUSG00000029138',\n",
              "       'ENSMUSG00000070858', 'ENSMUSG00000048142', 'ENSMUSG00000029103',\n",
              "       'ENSMUSG00000048450', 'ENSMUSG00000051022', 'ENSMUSG00000048373',\n",
              "       'ENSMUSG00000029204', 'ENSMUSG00000012520', 'ENSMUSG00000029155',\n",
              "       'ENSMUSG00000062960', 'ENSMUSG00000029245', 'ENSMUSG00000044221',\n",
              "       'ENSMUSG00000054932', 'ENSMUSG00000029373', 'ENSMUSG00000023078',\n",
              "       'ENSMUSG00000029337', 'ENSMUSG00000029322', 'ENSMUSG00000029304',\n",
              "       'ENSMUSG00000029502', 'ENSMUSG00000032898', 'ENSMUSG00000029595',\n",
              "       'ENSMUSG00000013936', 'ENSMUSG00000029477', 'ENSMUSG00000104606',\n",
              "       'ENSMUSG00000089842', 'ENSMUSG00000029446', 'ENSMUSG00000105387',\n",
              "       'ENSMUSG00000087344', 'ENSMUSG00000047501', 'ENSMUSG00000070473',\n",
              "       'ENSMUSG00000040013', 'ENSMUSG00000004951', 'ENSMUSG00000042985',\n",
              "       'ENSMUSG00000079173', 'ENSMUSG00000025856', 'ENSMUSG00000029546',\n",
              "       'ENSMUSG00000029622', 'ENSMUSG00000029646', 'ENSMUSG00000029648',\n",
              "       'ENSMUSG00000032766', 'ENSMUSG00000029661', 'ENSMUSG00000004631',\n",
              "       'ENSMUSG00000092035', 'ENSMUSG00000042607', 'ENSMUSG00000029755',\n",
              "       'ENSMUSG00000029553', 'ENSMUSG00000010797', 'ENSMUSG00000029697',\n",
              "       'ENSMUSG00000084861', 'ENSMUSG00000071553', 'ENSMUSG00000051855',\n",
              "       'ENSMUSG00000025608', 'ENSMUSG00000029761', 'ENSMUSG00000029843',\n",
              "       'ENSMUSG00000029838', 'ENSMUSG00000029922', 'ENSMUSG00000054435',\n",
              "       'ENSMUSG00000047867', 'ENSMUSG00000090019', 'ENSMUSG00000029844',\n",
              "       'ENSMUSG00000085696', 'ENSMUSG00000038236', 'ENSMUSG00000038227',\n",
              "       'ENSMUSG00000000938', 'ENSMUSG00000025889', 'ENSMUSG00000036402',\n",
              "       'ENSMUSG00000036390', 'ENSMUSG00000051397', 'ENSMUSG00000054422',\n",
              "       'ENSMUSG00000055027', 'ENSMUSG00000053977', 'ENSMUSG00000055912',\n",
              "       'ENSMUSG00000073002', 'ENSMUSG00000050732', 'ENSMUSG00000079523',\n",
              "       'ENSMUSG00000009145', 'ENSMUSG00000068327', 'ENSMUSG00000030030',\n",
              "       'ENSMUSG00000068302', 'ENSMUSG00000085589', 'ENSMUSG00000015053',\n",
              "       'ENSMUSG00000005892', 'ENSMUSG00000044086', 'ENSMUSG00000064177',\n",
              "       'ENSMUSG00000048489', 'ENSMUSG00000061353', 'ENSMUSG00000041477',\n",
              "       'ENSMUSG00000030114', 'ENSMUSG00000046323', 'ENSMUSG00000003153',\n",
              "       'ENSMUSG00000030342', 'ENSMUSG00000000184', 'ENSMUSG00000030159',\n",
              "       'ENSMUSG00000046080', 'ENSMUSG00000050241', 'ENSMUSG00000067599',\n",
              "       'ENSMUSG00000042770', 'ENSMUSG00000030220', 'ENSMUSG00000030223',\n",
              "       'ENSMUSG00000030246', 'ENSMUSG00000062524', 'ENSMUSG00000035458',\n",
              "       'ENSMUSG00000049130', 'ENSMUSG00000109781', 'ENSMUSG00000007209',\n",
              "       'ENSMUSG00000002992', 'ENSMUSG00000040564', 'ENSMUSG00000002985',\n",
              "       'ENSMUSG00000054342', 'ENSMUSG00000046223', 'ENSMUSG00000002603',\n",
              "       'ENSMUSG00000040466', 'ENSMUSG00000003436', 'ENSMUSG00000037166',\n",
              "       'ENSMUSG00000030579', 'ENSMUSG00000006311', 'ENSMUSG00000060962',\n",
              "       'ENSMUSG00000009687', 'ENSMUSG00000030492', 'ENSMUSG00000004612',\n",
              "       'ENSMUSG00000030693', 'ENSMUSG00000063903', 'ENSMUSG00000108322',\n",
              "       'ENSMUSG00000050708', 'ENSMUSG00000109644', 'ENSMUSG00000044562',\n",
              "       'ENSMUSG00000074115', 'ENSMUSG00000057465', 'ENSMUSG00000030470',\n",
              "       'ENSMUSG00000030507', 'ENSMUSG00000102252', 'ENSMUSG00000015134',\n",
              "       'ENSMUSG00000030544', 'ENSMUSG00000030543', 'ENSMUSG00000030538',\n",
              "       'ENSMUSG00000025813', 'ENSMUSG00000087088', 'ENSMUSG00000011154',\n",
              "       'ENSMUSG00000030560', 'ENSMUSG00000051515', 'ENSMUSG00000042797',\n",
              "       'ENSMUSG00000070436', 'ENSMUSG00000035165', 'ENSMUSG00000030708',\n",
              "       'ENSMUSG00000030688', 'ENSMUSG00000001827', 'ENSMUSG00000073940',\n",
              "       'ENSMUSG00000052305', 'ENSMUSG00000052217', 'ENSMUSG00000052187',\n",
              "       'ENSMUSG00000051182', 'ENSMUSG00000037060', 'ENSMUSG00000036111',\n",
              "       'ENSMUSG00000034825', 'ENSMUSG00000030790', 'ENSMUSG00000030787',\n",
              "       'ENSMUSG00000030669', 'ENSMUSG00000030762', 'ENSMUSG00000030699',\n",
              "       'ENSMUSG00000096145', 'ENSMUSG00000030800', 'ENSMUSG00000030785',\n",
              "       'ENSMUSG00000030782', 'ENSMUSG00000006205', 'ENSMUSG00000050100',\n",
              "       'ENSMUSG00000030934', 'ENSMUSG00000048528', 'ENSMUSG00000048377',\n",
              "       'ENSMUSG00000041309', 'ENSMUSG00000047751', 'ENSMUSG00000025469',\n",
              "       'ENSMUSG00000025491', 'ENSMUSG00000025492', 'ENSMUSG00000025494',\n",
              "       'ENSMUSG00000038580', 'ENSMUSG00000000031', 'ENSMUSG00000048583',\n",
              "       'ENSMUSG00000009248', 'ENSMUSG00000000244', 'ENSMUSG00000009246',\n",
              "       'ENSMUSG00000037664', 'ENSMUSG00000010760', 'ENSMUSG00000031074',\n",
              "       'ENSMUSG00000031073', 'ENSMUSG00000040653', 'ENSMUSG00000019817',\n",
              "       'ENSMUSG00000039910', 'ENSMUSG00000019851', 'ENSMUSG00000019970',\n",
              "       'ENSMUSG00000045680', 'ENSMUSG00000019998', 'ENSMUSG00000019987',\n",
              "       'ENSMUSG00000096546', 'ENSMUSG00000051354', 'ENSMUSG00000019880',\n",
              "       'ENSMUSG00000019787', 'ENSMUSG00000069662', 'ENSMUSG00000019804',\n",
              "       'ENSMUSG00000047139', 'ENSMUSG00000049641', 'ENSMUSG00000038624',\n",
              "       'ENSMUSG00000038583', 'ENSMUSG00000097370', 'ENSMUSG00000019874',\n",
              "       'ENSMUSG00000009646', 'ENSMUSG00000009654', 'ENSMUSG00000020098',\n",
              "       'ENSMUSG00000037202', 'ENSMUSG00000020077', 'ENSMUSG00000112120',\n",
              "       'ENSMUSG00000009681', 'ENSMUSG00000001666', 'ENSMUSG00000049422',\n",
              "       'ENSMUSG00000000730', 'ENSMUSG00000054206', 'ENSMUSG00000004665',\n",
              "       'ENSMUSG00000035504', 'ENSMUSG00000015312', 'ENSMUSG00000035041',\n",
              "       'ENSMUSG00000085779', 'ENSMUSG00000050108', 'ENSMUSG00000035459',\n",
              "       'ENSMUSG00000020052', 'ENSMUSG00000020053', 'ENSMUSG00000008398',\n",
              "       'ENSMUSG00000085723', 'ENSMUSG00000020027', 'ENSMUSG00000019929',\n",
              "       'ENSMUSG00000036446', 'ENSMUSG00000036602', 'ENSMUSG00000020186',\n",
              "       'ENSMUSG00000020205', 'ENSMUSG00000060187', 'ENSMUSG00000069516',\n",
              "       'ENSMUSG00000020183', 'ENSMUSG00000025400', 'ENSMUSG00000058396',\n",
              "       'ENSMUSG00000039878', 'ENSMUSG00000025351', 'ENSMUSG00000048015',\n",
              "       'ENSMUSG00000012705', 'ENSMUSG00000031502', 'ENSMUSG00000031503',\n",
              "       'ENSMUSG00000031444', 'ENSMUSG00000031451', 'ENSMUSG00000031535',\n",
              "       'ENSMUSG00000031548', 'ENSMUSG00000110140', 'ENSMUSG00000109603',\n",
              "       'ENSMUSG00000051176', 'ENSMUSG00000031633', 'ENSMUSG00000086866',\n",
              "       'ENSMUSG00000079042', 'ENSMUSG00000034845', 'ENSMUSG00000046718',\n",
              "       'ENSMUSG00000055148', 'ENSMUSG00000005413', 'ENSMUSG00000051839',\n",
              "       'ENSMUSG00000074217', 'ENSMUSG00000034041', 'ENSMUSG00000053226',\n",
              "       'ENSMUSG00000054191', 'ENSMUSG00000031698', 'ENSMUSG00000031661',\n",
              "       'ENSMUSG00000031734', 'ENSMUSG00000031737', 'ENSMUSG00000055368',\n",
              "       'ENSMUSG00000031762', 'ENSMUSG00000031765', 'ENSMUSG00000036598',\n",
              "       'ENSMUSG00000031871', 'ENSMUSG00000031883', 'ENSMUSG00000031880',\n",
              "       'ENSMUSG00000014846', 'ENSMUSG00000031891', 'ENSMUSG00000031722',\n",
              "       'ENSMUSG00000034467', 'ENSMUSG00000034424', 'ENSMUSG00000031844',\n",
              "       'ENSMUSG00000023336', 'ENSMUSG00000031827', 'ENSMUSG00000042812',\n",
              "       'ENSMUSG00000046714', 'ENSMUSG00000110673', 'ENSMUSG00000006519',\n",
              "       'ENSMUSG00000006589', 'ENSMUSG00000019478', 'ENSMUSG00000031972',\n",
              "       'ENSMUSG00000025810', 'ENSMUSG00000044772', 'ENSMUSG00000040726',\n",
              "       'ENSMUSG00000091898', 'ENSMUSG00000096001', 'ENSMUSG00000021835',\n",
              "       'ENSMUSG00000050335', 'ENSMUSG00000021848', 'ENSMUSG00000021850',\n",
              "       'ENSMUSG00000036242', 'ENSMUSG00000021876', 'ENSMUSG00000072115',\n",
              "       'ENSMUSG00000000958', 'ENSMUSG00000022180', 'ENSMUSG00000040752',\n",
              "       'ENSMUSG00000053093', 'ENSMUSG00000022156', 'ENSMUSG00000059256',\n",
              "       'ENSMUSG00000040284', 'ENSMUSG00000015441', 'ENSMUSG00000079186',\n",
              "       'ENSMUSG00000015437', 'ENSMUSG00000046352', 'ENSMUSG00000044461',\n",
              "       'ENSMUSG00000021939', 'ENSMUSG00000021953', 'ENSMUSG00000022055',\n",
              "       'ENSMUSG00000044186', 'ENSMUSG00000034248', 'ENSMUSG00000034205',\n",
              "       'ENSMUSG00000022101', 'ENSMUSG00000022108', 'ENSMUSG00000022018',\n",
              "       'ENSMUSG00000036422', 'ENSMUSG00000031927', 'ENSMUSG00000006235',\n",
              "       'ENSMUSG00000001349', 'ENSMUSG00000001348', 'ENSMUSG00000016087',\n",
              "       'ENSMUSG00000001946', 'ENSMUSG00000096356', 'ENSMUSG00000097467',\n",
              "       'ENSMUSG00000070306', 'ENSMUSG00000032126', 'ENSMUSG00000059412',\n",
              "       'ENSMUSG00000032085', 'ENSMUSG00000032083', 'ENSMUSG00000032081',\n",
              "       'ENSMUSG00000032080', 'ENSMUSG00000032028', 'ENSMUSG00000032068',\n",
              "       'ENSMUSG00000038086', 'ENSMUSG00000032060', 'ENSMUSG00000032291',\n",
              "       'ENSMUSG00000032299', 'ENSMUSG00000025232', 'ENSMUSG00000050503',\n",
              "       'ENSMUSG00000032366', 'ENSMUSG00000032231', 'ENSMUSG00000059246',\n",
              "       'ENSMUSG00000013584', 'ENSMUSG00000060461', 'ENSMUSG00000033577',\n",
              "       'ENSMUSG00000033491', 'ENSMUSG00000047897', 'ENSMUSG00000032359',\n",
              "       'ENSMUSG00000032368', 'ENSMUSG00000046402', 'ENSMUSG00000046242',\n",
              "       'ENSMUSG00000032554', 'ENSMUSG00000042757', 'ENSMUSG00000042106',\n",
              "       'ENSMUSG00000063856', 'ENSMUSG00000032492', 'ENSMUSG00000059741',\n",
              "       'ENSMUSG00000048752', 'ENSMUSG00000032494', 'ENSMUSG00000032436',\n",
              "       'ENSMUSG00000032446', 'ENSMUSG00000052336', 'ENSMUSG00000032532',\n",
              "       'ENSMUSG00000054871', 'ENSMUSG00000049103', 'ENSMUSG00000020432',\n",
              "       'ENSMUSG00000003585', 'ENSMUSG00000020475', 'ENSMUSG00000020469',\n",
              "       'ENSMUSG00000020429', 'ENSMUSG00000020427', 'ENSMUSG00000020407',\n",
              "       'ENSMUSG00000020120', 'ENSMUSG00000055609', 'ENSMUSG00000069919',\n",
              "       'ENSMUSG00000069917', 'ENSMUSG00000040413', 'ENSMUSG00000020388',\n",
              "       'ENSMUSG00000018906', 'ENSMUSG00000018339', 'ENSMUSG00000018593',\n",
              "       'ENSMUSG00000037335', 'ENSMUSG00000049154', 'ENSMUSG00000056598',\n",
              "       'ENSMUSG00000004837', 'ENSMUSG00000018500', 'ENSMUSG00000085748',\n",
              "       'ENSMUSG00000018217', 'ENSMUSG00000020904', 'ENSMUSG00000023781',\n",
              "       'ENSMUSG00000045377', 'ENSMUSG00000018569', 'ENSMUSG00000018924',\n",
              "       'ENSMUSG00000018919', 'ENSMUSG00000014609', 'ENSMUSG00000060600',\n",
              "       'ENSMUSG00000020799', 'ENSMUSG00000038224', 'ENSMUSG00000053783',\n",
              "       'ENSMUSG00000044243', 'ENSMUSG00000017344', 'ENSMUSG00000001123',\n",
              "       'ENSMUSG00000078771', 'ENSMUSG00000018845', 'ENSMUSG00000035042',\n",
              "       'ENSMUSG00000051748', 'ENSMUSG00000018698', 'ENSMUSG00000000805',\n",
              "       'ENSMUSG00000057534', 'ENSMUSG00000001506', 'ENSMUSG00000018381',\n",
              "       'ENSMUSG00000038811', 'ENSMUSG00000020875', 'ENSMUSG00000056648',\n",
              "       'ENSMUSG00000085645', 'ENSMUSG00000000690', 'ENSMUSG00000075588',\n",
              "       'ENSMUSG00000018973', 'ENSMUSG00000018659', 'ENSMUSG00000020878',\n",
              "       'ENSMUSG00000061718', 'ENSMUSG00000007877', 'ENSMUSG00000038216',\n",
              "       'ENSMUSG00000017493', 'ENSMUSG00000035775', 'ENSMUSG00000078252',\n",
              "       'ENSMUSG00000020911', 'ENSMUSG00000045545', 'ENSMUSG00000001240',\n",
              "       'ENSMUSG00000001493', 'ENSMUSG00000001494', 'ENSMUSG00000017311',\n",
              "       'ENSMUSG00000006574', 'ENSMUSG00000061086', 'ENSMUSG00000009210',\n",
              "       'ENSMUSG00000001029', 'ENSMUSG00000020717', 'ENSMUSG00000000567',\n",
              "       'ENSMUSG00000020733', 'ENSMUSG00000097117', 'ENSMUSG00000034227',\n",
              "       'ENSMUSG00000056032', 'ENSMUSG00000039329', 'ENSMUSG00000100625',\n",
              "       'ENSMUSG00000052374', 'ENSMUSG00000056457', 'ENSMUSG00000053101',\n",
              "       'ENSMUSG00000060404', 'ENSMUSG00000094777', 'ENSMUSG00000018102',\n",
              "       'ENSMUSG00000057170', 'ENSMUSG00000062737', 'ENSMUSG00000062201',\n",
              "       'ENSMUSG00000038891', 'ENSMUSG00000018259', 'ENSMUSG00000006490',\n",
              "       'ENSMUSG00000006488', 'ENSMUSG00000022886', 'ENSMUSG00000005891',\n",
              "       'ENSMUSG00000017064', 'ENSMUSG00000038415', 'ENSMUSG00000021404',\n",
              "       'ENSMUSG00000062342', 'ENSMUSG00000057726', 'ENSMUSG00000021411',\n",
              "       'ENSMUSG00000021361', 'ENSMUSG00000000253', 'ENSMUSG00000021373',\n",
              "       'ENSMUSG00000037966', 'ENSMUSG00000021453', 'ENSMUSG00000021469',\n",
              "       'ENSMUSG00000021506', 'ENSMUSG00000048904', 'ENSMUSG00000021539',\n",
              "       'ENSMUSG00000044258', 'ENSMUSG00000021440', 'ENSMUSG00000021477',\n",
              "       'ENSMUSG00000113334', 'ENSMUSG00000113346', 'ENSMUSG00000021591',\n",
              "       'ENSMUSG00000069171', 'ENSMUSG00000005583', 'ENSMUSG00000021613',\n",
              "       'ENSMUSG00000021708', 'ENSMUSG00000021702', 'ENSMUSG00000021675',\n",
              "       'ENSMUSG00000052727', 'ENSMUSG00000021701', 'ENSMUSG00000042417',\n",
              "       'ENSMUSG00000051456', 'ENSMUSG00000021765', 'ENSMUSG00000042258',\n",
              "       'ENSMUSG00000021728', 'ENSMUSG00000074634', 'ENSMUSG00000020609',\n",
              "       'ENSMUSG00000048387', 'ENSMUSG00000054459', 'ENSMUSG00000071398',\n",
              "       'ENSMUSG00000020644', 'ENSMUSG00000036655', 'ENSMUSG00000002997',\n",
              "       'ENSMUSG00000020562', 'ENSMUSG00000035799', 'ENSMUSG00000020577',\n",
              "       'ENSMUSG00000036169', 'ENSMUSG00000036144', 'ENSMUSG00000002565',\n",
              "       'ENSMUSG00000035021', 'ENSMUSG00000001496', 'ENSMUSG00000058669',\n",
              "       'ENSMUSG00000001497', 'ENSMUSG00000045930', 'ENSMUSG00000113707',\n",
              "       'ENSMUSG00000021099', 'ENSMUSG00000046768', 'ENSMUSG00000042808',\n",
              "       'ENSMUSG00000021250', 'ENSMUSG00000021190', 'ENSMUSG00000021200',\n",
              "       'ENSMUSG00000021208', 'ENSMUSG00000071178', 'ENSMUSG00000058260',\n",
              "       'ENSMUSG00000021095', 'ENSMUSG00000021102', 'ENSMUSG00000040856',\n",
              "       'ENSMUSG00000021268', 'ENSMUSG00000021278', 'ENSMUSG00000021280',\n",
              "       'ENSMUSG00000010529', 'ENSMUSG00000001270', 'ENSMUSG00000006356',\n",
              "       'ENSMUSG00000006360', 'ENSMUSG00000113875', 'ENSMUSG00000064373',\n",
              "       'ENSMUSG00000022186', 'ENSMUSG00000022150', 'ENSMUSG00000039676',\n",
              "       'ENSMUSG00000045763', 'ENSMUSG00000022257', 'ENSMUSG00000054196',\n",
              "       'ENSMUSG00000042895', 'ENSMUSG00000068522', 'ENSMUSG00000022372',\n",
              "       'ENSMUSG00000005124', 'ENSMUSG00000005125', 'ENSMUSG00000063354',\n",
              "       'ENSMUSG00000091694', 'ENSMUSG00000005716', 'ENSMUSG00000071715',\n",
              "       'ENSMUSG00000071713', 'ENSMUSG00000068227', 'ENSMUSG00000043501',\n",
              "       'ENSMUSG00000068220', 'ENSMUSG00000006378', 'ENSMUSG00000033029',\n",
              "       'ENSMUSG00000033006', 'ENSMUSG00000010830', 'ENSMUSG00000022415',\n",
              "       'ENSMUSG00000022435', 'ENSMUSG00000022382', 'ENSMUSG00000047394',\n",
              "       'ENSMUSG00000022464', 'ENSMUSG00000022483', 'ENSMUSG00000062037',\n",
              "       'ENSMUSG00000022997', 'ENSMUSG00000072235', 'ENSMUSG00000038009',\n",
              "       'ENSMUSG00000053559', 'ENSMUSG00000023039', 'ENSMUSG00000049382',\n",
              "       'ENSMUSG00000023043', 'ENSMUSG00000023045', 'ENSMUSG00000022484',\n",
              "       'ENSMUSG00000036139', 'ENSMUSG00000001657', 'ENSMUSG00000001661',\n",
              "       'ENSMUSG00000058794', 'ENSMUSG00000022490', 'ENSMUSG00000022715',\n",
              "       'ENSMUSG00000022500', 'ENSMUSG00000009097', 'ENSMUSG00000050761',\n",
              "       'ENSMUSG00000041378', 'ENSMUSG00000043008', 'ENSMUSG00000006958',\n",
              "       'ENSMUSG00000004366', 'ENSMUSG00000047953', 'ENSMUSG00000022803',\n",
              "       'ENSMUSG00000049436', 'ENSMUSG00000047261', 'ENSMUSG00000058550',\n",
              "       'ENSMUSG00000072419', 'ENSMUSG00000022742', 'ENSMUSG00000091243',\n",
              "       'ENSMUSG00000039956', 'ENSMUSG00000039830', 'ENSMUSG00000022949',\n",
              "       'ENSMUSG00000022941', 'ENSMUSG00000040666', 'ENSMUSG00000000385',\n",
              "       'ENSMUSG00000052397', 'ENSMUSG00000062327', 'ENSMUSG00000023886',\n",
              "       'ENSMUSG00000014773', 'ENSMUSG00000047786', 'ENSMUSG00000023905',\n",
              "       'ENSMUSG00000023906', 'ENSMUSG00000066720', 'ENSMUSG00000096445',\n",
              "       'ENSMUSG00000057417', 'ENSMUSG00000024175', 'ENSMUSG00000015579',\n",
              "       'ENSMUSG00000023067', 'ENSMUSG00000089900', 'ENSMUSG00000024029',\n",
              "       'ENSMUSG00000024033', 'ENSMUSG00000024041', 'ENSMUSG00000036594',\n",
              "       'ENSMUSG00000007038', 'ENSMUSG00000091971', 'ENSMUSG00000007041',\n",
              "       'ENSMUSG00000024391', 'ENSMUSG00000024406', 'ENSMUSG00000024409',\n",
              "       'ENSMUSG00000092600', 'ENSMUSG00000073400', 'ENSMUSG00000036858',\n",
              "       'ENSMUSG00000034165', 'ENSMUSG00000023993', 'ENSMUSG00000040694',\n",
              "       'ENSMUSG00000032796', 'ENSMUSG00000038805', 'ENSMUSG00000045394',\n",
              "       'ENSMUSG00000024232', 'ENSMUSG00000005836', 'ENSMUSG00000061808',\n",
              "       'ENSMUSG00000090523', 'ENSMUSG00000005873', 'ENSMUSG00000035984',\n",
              "       'ENSMUSG00000073599', 'ENSMUSG00000060275', 'ENSMUSG00000046727',\n",
              "       'ENSMUSG00000103749', 'ENSMUSG00000024503', 'ENSMUSG00000033022',\n",
              "       'ENSMUSG00000034484', 'ENSMUSG00000024538', 'ENSMUSG00000053644',\n",
              "       'ENSMUSG00000069372', 'ENSMUSG00000024610', 'ENSMUSG00000024619',\n",
              "       'ENSMUSG00000024588', 'ENSMUSG00000024518', 'ENSMUSG00000024521',\n",
              "       'ENSMUSG00000001473', 'ENSMUSG00000024511', 'ENSMUSG00000035394',\n",
              "       'ENSMUSG00000024644', 'ENSMUSG00000024907', 'ENSMUSG00000097233',\n",
              "       'ENSMUSG00000032946', 'ENSMUSG00000024965', 'ENSMUSG00000069833',\n",
              "       'ENSMUSG00000024661', 'ENSMUSG00000024738', 'ENSMUSG00000075010',\n",
              "       'ENSMUSG00000024675', 'ENSMUSG00000040065', 'ENSMUSG00000063683',\n",
              "       'ENSMUSG00000024659', 'ENSMUSG00000033053', 'ENSMUSG00000051490',\n",
              "       'ENSMUSG00000048138', 'ENSMUSG00000024827', 'ENSMUSG00000024863',\n",
              "       'ENSMUSG00000024868', 'ENSMUSG00000035783', 'ENSMUSG00000034459',\n",
              "       'ENSMUSG00000024803', 'ENSMUSG00000024805', 'ENSMUSG00000047632',\n",
              "       'ENSMUSG00000024986', 'ENSMUSG00000024987', 'ENSMUSG00000024990',\n",
              "       'ENSMUSG00000055044', 'ENSMUSG00000018822', 'ENSMUSG00000044220',\n",
              "       'ENSMUSG00000025196', 'ENSMUSG00000036961', 'ENSMUSG00000100417',\n",
              "       'ENSMUSG00000025219', 'ENSMUSG00000025068', 'ENSMUSG00000064351',\n",
              "       'ENSMUSG00000064358'], dtype='<U64')"
            ]
          },
          "metadata": {},
          "execution_count": 14
        }
      ]
    },
    {
      "cell_type": "code",
      "source": [
        "trainer = UnsupervisedTrainer(\n",
        "    vae,\n",
        "    cells_dataset,\n",
        "    use_cuda=True,\n",
        "    metrics_to_monitor=['reconstruction_error'],\n",
        "    frequency=1,\n",
        "    n_epochs_kl_warmup=None\n",
        ")\n",
        "\n",
        "trainer.train(lr=7e-3, n_epochs=100)"
      ],
      "metadata": {
        "id": "VhEy25_ntDDk",
        "outputId": "54e426b2-0038-4292-de1e-6805f0ade01b",
        "colab": {
          "base_uri": "https://localhost:8080/"
        }
      },
      "execution_count": 15,
      "outputs": [
        {
          "output_type": "stream",
          "name": "stdout",
          "text": [
            "[2022-03-24 09:15:35,615] INFO - scvi.inference.inference | Training without KL warmup\n",
            "training: 100%|██████████| 100/100 [33:04<00:00, 19.85s/it]\n"
          ]
        }
      ]
    },
    {
      "cell_type": "code",
      "source": [
        "import pandas as pd\n",
        "\n",
        "full = trainer.create_posterior(\n",
        "    trainer.model,\n",
        "    cells_dataset,\n",
        "    shuffle=False\n",
        ")\n",
        "\n",
        "latent, batch_indices, labels = full.get_latent()\n",
        "\n",
        "results = pd.DataFrame(latent, index=adata.obs.index)\n",
        "results.to_csv('/content/z.csv')\n",
        "\n",
        "W = vae.get_loadings()\n",
        "W = pd.DataFrame(W, index=cells_dataset.gene_names)\n",
        "W.to_csv('/content/w.csv')"
      ],
      "metadata": {
        "id": "1QLwIj96zv7R",
        "outputId": "d12bdaeb-7fc0-48bb-fc1d-78c07e40e654",
        "colab": {
          "base_uri": "https://localhost:8080/",
          "height": 395
        }
      },
      "execution_count": 37,
      "outputs": [
        {
          "output_type": "error",
          "ename": "ValueError",
          "evalue": "ignored",
          "traceback": [
            "\u001b[0;31m---------------------------------------------------------------------------\u001b[0m",
            "\u001b[0;31mValueError\u001b[0m                                Traceback (most recent call last)",
            "\u001b[0;32m<ipython-input-37-5addb4e41691>\u001b[0m in \u001b[0;36m<module>\u001b[0;34m()\u001b[0m\n\u001b[1;32m      9\u001b[0m \u001b[0mlatent\u001b[0m\u001b[0;34m,\u001b[0m \u001b[0mbatch_indices\u001b[0m\u001b[0;34m,\u001b[0m \u001b[0mlabels\u001b[0m \u001b[0;34m=\u001b[0m \u001b[0mfull\u001b[0m\u001b[0;34m.\u001b[0m\u001b[0mget_latent\u001b[0m\u001b[0;34m(\u001b[0m\u001b[0;34m)\u001b[0m\u001b[0;34m\u001b[0m\u001b[0;34m\u001b[0m\u001b[0m\n\u001b[1;32m     10\u001b[0m \u001b[0;34m\u001b[0m\u001b[0m\n\u001b[0;32m---> 11\u001b[0;31m \u001b[0mresults\u001b[0m \u001b[0;34m=\u001b[0m \u001b[0mpd\u001b[0m\u001b[0;34m.\u001b[0m\u001b[0mDataFrame\u001b[0m\u001b[0;34m(\u001b[0m\u001b[0mlatent\u001b[0m\u001b[0;34m,\u001b[0m \u001b[0mindex\u001b[0m\u001b[0;34m=\u001b[0m\u001b[0madata\u001b[0m\u001b[0;34m.\u001b[0m\u001b[0mobs\u001b[0m\u001b[0;34m.\u001b[0m\u001b[0mindex\u001b[0m\u001b[0;34m)\u001b[0m\u001b[0;34m\u001b[0m\u001b[0;34m\u001b[0m\u001b[0m\n\u001b[0m\u001b[1;32m     12\u001b[0m \u001b[0mresults\u001b[0m\u001b[0;34m.\u001b[0m\u001b[0mto_csv\u001b[0m\u001b[0;34m(\u001b[0m\u001b[0;34m'/content/z.csv'\u001b[0m\u001b[0;34m)\u001b[0m\u001b[0;34m\u001b[0m\u001b[0;34m\u001b[0m\u001b[0m\n\u001b[1;32m     13\u001b[0m \u001b[0;34m\u001b[0m\u001b[0m\n",
            "\u001b[0;32m/usr/local/lib/python3.7/dist-packages/pandas/core/frame.py\u001b[0m in \u001b[0;36m__init__\u001b[0;34m(self, data, index, columns, dtype, copy)\u001b[0m\n\u001b[1;32m    676\u001b[0m                     \u001b[0mdtype\u001b[0m\u001b[0;34m=\u001b[0m\u001b[0mdtype\u001b[0m\u001b[0;34m,\u001b[0m\u001b[0;34m\u001b[0m\u001b[0;34m\u001b[0m\u001b[0m\n\u001b[1;32m    677\u001b[0m                     \u001b[0mcopy\u001b[0m\u001b[0;34m=\u001b[0m\u001b[0mcopy\u001b[0m\u001b[0;34m,\u001b[0m\u001b[0;34m\u001b[0m\u001b[0;34m\u001b[0m\u001b[0m\n\u001b[0;32m--> 678\u001b[0;31m                     \u001b[0mtyp\u001b[0m\u001b[0;34m=\u001b[0m\u001b[0mmanager\u001b[0m\u001b[0;34m,\u001b[0m\u001b[0;34m\u001b[0m\u001b[0;34m\u001b[0m\u001b[0m\n\u001b[0m\u001b[1;32m    679\u001b[0m                 )\n\u001b[1;32m    680\u001b[0m \u001b[0;34m\u001b[0m\u001b[0m\n",
            "\u001b[0;32m/usr/local/lib/python3.7/dist-packages/pandas/core/internals/construction.py\u001b[0m in \u001b[0;36mndarray_to_mgr\u001b[0;34m(values, index, columns, dtype, copy, typ)\u001b[0m\n\u001b[1;32m    322\u001b[0m     )\n\u001b[1;32m    323\u001b[0m \u001b[0;34m\u001b[0m\u001b[0m\n\u001b[0;32m--> 324\u001b[0;31m     \u001b[0m_check_values_indices_shape_match\u001b[0m\u001b[0;34m(\u001b[0m\u001b[0mvalues\u001b[0m\u001b[0;34m,\u001b[0m \u001b[0mindex\u001b[0m\u001b[0;34m,\u001b[0m \u001b[0mcolumns\u001b[0m\u001b[0;34m)\u001b[0m\u001b[0;34m\u001b[0m\u001b[0;34m\u001b[0m\u001b[0m\n\u001b[0m\u001b[1;32m    325\u001b[0m \u001b[0;34m\u001b[0m\u001b[0m\n\u001b[1;32m    326\u001b[0m     \u001b[0;32mif\u001b[0m \u001b[0mtyp\u001b[0m \u001b[0;34m==\u001b[0m \u001b[0;34m\"array\"\u001b[0m\u001b[0;34m:\u001b[0m\u001b[0;34m\u001b[0m\u001b[0;34m\u001b[0m\u001b[0m\n",
            "\u001b[0;32m/usr/local/lib/python3.7/dist-packages/pandas/core/internals/construction.py\u001b[0m in \u001b[0;36m_check_values_indices_shape_match\u001b[0;34m(values, index, columns)\u001b[0m\n\u001b[1;32m    391\u001b[0m         \u001b[0mpassed\u001b[0m \u001b[0;34m=\u001b[0m \u001b[0mvalues\u001b[0m\u001b[0;34m.\u001b[0m\u001b[0mshape\u001b[0m\u001b[0;34m\u001b[0m\u001b[0;34m\u001b[0m\u001b[0m\n\u001b[1;32m    392\u001b[0m         \u001b[0mimplied\u001b[0m \u001b[0;34m=\u001b[0m \u001b[0;34m(\u001b[0m\u001b[0mlen\u001b[0m\u001b[0;34m(\u001b[0m\u001b[0mindex\u001b[0m\u001b[0;34m)\u001b[0m\u001b[0;34m,\u001b[0m \u001b[0mlen\u001b[0m\u001b[0;34m(\u001b[0m\u001b[0mcolumns\u001b[0m\u001b[0;34m)\u001b[0m\u001b[0;34m)\u001b[0m\u001b[0;34m\u001b[0m\u001b[0;34m\u001b[0m\u001b[0m\n\u001b[0;32m--> 393\u001b[0;31m         \u001b[0;32mraise\u001b[0m \u001b[0mValueError\u001b[0m\u001b[0;34m(\u001b[0m\u001b[0;34mf\"Shape of passed values is {passed}, indices imply {implied}\"\u001b[0m\u001b[0;34m)\u001b[0m\u001b[0;34m\u001b[0m\u001b[0;34m\u001b[0m\u001b[0m\n\u001b[0m\u001b[1;32m    394\u001b[0m \u001b[0;34m\u001b[0m\u001b[0m\n\u001b[1;32m    395\u001b[0m \u001b[0;34m\u001b[0m\u001b[0m\n",
            "\u001b[0;31mValueError\u001b[0m: Shape of passed values is (125775, 20), indices imply (139331, 20)"
          ]
        }
      ]
    },
    {
      "cell_type": "code",
      "source": [
        "w_df = pd.read_csv('/content/w.csv', index_col=0)\n",
        "z_df = pd.read_csv('/content/z.csv', index_col=0)"
      ],
      "metadata": {
        "id": "78wUoTPD03f8"
      },
      "execution_count": null,
      "outputs": []
    },
    {
      "cell_type": "code",
      "source": [
        "w_df = w_df.add_prefix('w')\n",
        "z_df = w_df.add_prefix('z')"
      ],
      "metadata": {
        "id": "d8Dim-n41KZz"
      },
      "execution_count": 29,
      "outputs": []
    },
    {
      "cell_type": "code",
      "source": [
        "%pylab inline\n",
        "%config InlineBackend.figure_format ='retina'\n",
        "\n",
        "import matplotlib.pyplot as plt\n",
        "import time\n",
        "\n",
        "import anndata\n",
        "import matplotlib.colors as mcolors\n",
        "import pandas as pd\n",
        "\n",
        "import plotnine as p\n"
      ],
      "metadata": {
        "id": "ckwYtuVC1Pmr",
        "outputId": "9947bbef-9081-4fd9-c8df-1ce8fc4482e6",
        "colab": {
          "base_uri": "https://localhost:8080/"
        }
      },
      "execution_count": 30,
      "outputs": [
        {
          "output_type": "stream",
          "name": "stdout",
          "text": [
            "Populating the interactive namespace from numpy and matplotlib\n"
          ]
        }
      ]
    },
    {
      "cell_type": "code",
      "source": [
        "def Z_covariance(Z):\n",
        "    Zcentered = Z - Z.mean(0)\n",
        "    Zscaled = Z / Z.std(0)\n",
        "    ZTZ = np.cov(Zscaled.T)\n",
        "    \n",
        "    eigen_values, _ = np.linalg.eig(ZTZ)\n",
        "    singular_values = np.sqrt(eigen_values)\n",
        "    variance_explained = singular_values / singular_values.sum()\n",
        "\n",
        "    return ZTZ, variance_explained"
      ],
      "metadata": {
        "id": "hFBaIrCv1UGX"
      },
      "execution_count": 31,
      "outputs": []
    },
    {
      "cell_type": "code",
      "source": [
        "_, variance_explained = Z_covariance(z_df)\n",
        "idx = np.argsort(variance_explained)[::-1]"
      ],
      "metadata": {
        "id": "-CYdAiWe1bWP"
      },
      "execution_count": 32,
      "outputs": []
    },
    {
      "cell_type": "code",
      "source": [
        "Z_df_ordered = pd.DataFrame(z_df.values[:, idx]).add_prefix('z')\n",
        "Z_df_ordered.index = z_df.index\n",
        "W_df_ordered = pd.DataFrame(w_df.values[:, idx]).add_prefix('w')\n",
        "W_df_ordered.index = w_df.index"
      ],
      "metadata": {
        "id": "fgemrRWt1g9f"
      },
      "execution_count": 33,
      "outputs": []
    },
    {
      "cell_type": "code",
      "source": [
        "adata = anndata.read('/content/data/pijuan_sala_atlas.h5ad')\n",
        "W_df_ordered = adata.var.loc[W_df_ordered.index].join(W_df_ordered)\n"
      ],
      "metadata": {
        "id": "Wjd-Fmrg1j8D"
      },
      "execution_count": 34,
      "outputs": []
    },
    {
      "cell_type": "code",
      "source": [
        "\n",
        "\n",
        "text_shift = {\n",
        "    (0, 'Fst'): (0.2, -0.2),\n",
        "    (0, 'Pmp22'): (-0.1, -0.3),\n",
        "    (0, 'Hoxaas3'): (0.0, 0.3),\n",
        "    (0, 'Acta2'): (0.0, 0.2),\n",
        "    (0, 'Nnat'): (0.0, 0.5),\n",
        "    (0, 'Ifitm1'): (0.0, 0.2),\n",
        "    \n",
        "    (1, 'Srgn'): (0., -0.2),\n",
        "    (1, 'Amn'): (-0.7, 0.),\n",
        "    \n",
        "    (2, 'Crabp2'): (0.0, 0.4),\n",
        "    (2, 'Tdgf1'): (0.0, 0.4),\n",
        "    (2, 'Cer1'): (-0.6, 0.0),\n",
        "    (2, 'T'): (-1.3, 0.0),\n",
        "    \n",
        "    (3, 'Cdx1'): (0.0, 0.4),\n",
        "    (3, 'Cdx2'): (-1.0, 0.7),\n",
        "    (3, 'Cited1'): (-1.6, -0.0),\n",
        "    (3, 'Phlda2'): (-0.7, 0.0),\n",
        "    (3, 'T'): (0.0, 0.2),\n",
        "    (3, 'Ifitm1'): (-0.2, 0.0),\n",
        "#     (3, 'Rspo2'): (-0.3, 0.0),\n",
        "#     (3, 'Htr2c'): (0.6, 0.1),\n",
        "#     (3, 'Col1a1'): (0.0, 0.2),\n",
        "    \n",
        "#     (4, 'Ttn'): (0.0, -0.4),\n",
        "#     (4, 'Sntb1'): (0.0, -0.3),\n",
        "#     (4, 'Colec12'): (-1.1, 0.1),\n",
        "#     (4, 'Adam12'): (0.1, 0.4),\n",
        "#     (4, 'Spon1'): (0.0, 0.2),\n",
        "#     (4, 'Gm3764'): (-0.2, 0.3),\n",
        "#     (4, 'C130071C03Rik'): (1.5, -0.35),\n",
        "    \n",
        "}\n",
        "\n"
      ],
      "metadata": {
        "id": "IAwufuLx1rJW"
      },
      "execution_count": 35,
      "outputs": []
    },
    {
      "cell_type": "code",
      "source": [
        "figsize(7, 12)\n",
        "for i in range(5):\n",
        "    \n",
        "    # -- Z plot --\n",
        "    \n",
        "    plt.subplot(5, 2, 2 * i + 1)\n",
        "    \n",
        "    plt.hist2d(\n",
        "        Z_df_ordered[f'z{2 * i}'], Z_df_ordered[f'z{2 * i + 1}'],\n",
        "        bins=256,\n",
        "        norm=mcolors.PowerNorm(0.25),\n",
        "        cmap=cm.gray_r,\n",
        "        rasterized=True\n",
        "    )\n",
        "    plt.axis('equal');\n",
        "    plt.xlabel(f'$Z_{2 * i}$ ({variance_explained[idx][2 * i]:.1%} variance)')\n",
        "    plt.ylabel(f'$Z_{2 * i + 1}$ ({variance_explained[idx][2 * i + 1]:.1%} variance)')\n",
        "    \n",
        "    ax = plt.gca()\n",
        "    ax.spines['top'].set_visible(False)\n",
        "    ax.spines['right'].set_visible(False)\n",
        "    \n",
        "    # -- W plot --\n",
        "    \n",
        "    plt.subplot(5, 2, 2 * i + 2)\n",
        "    \n",
        "    w_columns = [f'w{2 * i}', f'w{2 * i + 1}']\n",
        "    \n",
        "    plt.scatter(\n",
        "        W_df_ordered[w_columns[0]], W_df_ordered[w_columns[1]],\n",
        "        c='lightgrey',\n",
        "        rasterized=True\n",
        "    )\n",
        "    plt.axis('equal');\n",
        "    plt.xlabel(f'$W_{2 * i}$')\n",
        "    plt.ylabel(f'$W_{2 * i + 1}$')\n",
        "    \n",
        "    tmp_ = W_df_ordered.copy()\n",
        "    tmp_['lnth'] = np.linalg.norm(tmp_[w_columns], axis=1)\n",
        "    \n",
        "    ggg = (\n",
        "        tmp_\n",
        "        .sort_values('lnth', ascending=False)\n",
        "        .head(8)[['gene_name', 'lnth', *w_columns]]\n",
        "    )\n",
        "    print(ggg['gene_name'].values)\n",
        "    \n",
        "    texts = []\n",
        "    arrows = []\n",
        "    for g, r in ggg.iterrows():\n",
        "        x_, y_ = r[w_columns[0]], r[w_columns[1]]\n",
        "        \n",
        "        ha = 'right'\n",
        "        if x_ > 0:\n",
        "            ha = 'left'\n",
        "            \n",
        "        va = 'top'\n",
        "        if y_ > 0:\n",
        "            va = 'bottom'\n",
        "            \n",
        "        arrows.append(plt.arrow(0, 0, x_, y_, length_includes_head=True))\n",
        "        \n",
        "        xs, ys = 0, 0\n",
        "        if (i, r.gene_name) in text_shift:\n",
        "            xs, ys = text_shift[(i, r.gene_name)]\n",
        "        \n",
        "        texts.append(plt.text(x_ + xs, y_ + ys, r.gene_name, ha=ha, va=va))\n",
        "\n",
        "    plt.xlim(left=-3, right=3)\n",
        "    plt.ylim(bottom=-3, top=3)\n",
        "        \n",
        "    ax = plt.gca()\n",
        "    ax.spines['top'].set_visible(False)\n",
        "    ax.spines['right'].set_visible(False)\n",
        "    \n",
        "plt.tight_layout()\n",
        "plt.savefig('/content/linear_pij_results2.pdf', bbox_inches='tight', dpi=400)"
      ],
      "metadata": {
        "id": "b5LpaCxI1r5B",
        "outputId": "20671a92-31ec-4863-b518-84eed98fddcb",
        "colab": {
          "base_uri": "https://localhost:8080/",
          "height": 1000
        }
      },
      "execution_count": 36,
      "outputs": [
        {
          "output_type": "stream",
          "name": "stdout",
          "text": [
            "['Nkx2-3', 'Tbx6', 'Cdx1', 'Hes7', 'Dll1', 'Pyy', 'Mesp2', 'Hoxaas3']\n",
            "Categories (29411, object): ['0610005C13Rik', '0610006L08Rik', '0610007P14Rik', '0610009B22Rik', ...,\n",
            "                             'mt-Nd4', 'mt-Nd4l', 'mt-Nd5', 'mt-Nd6']\n",
            "['Prl7a1', 'Dlx5', 'Prl5a1', 'Sox10', 'Anxa1', 'Prl3d3', 'Prl3b1', 'Tfap2b']\n",
            "Categories (29411, object): ['0610005C13Rik', '0610006L08Rik', '0610007P14Rik', '0610009B22Rik', ...,\n",
            "                             'mt-Nd4', 'mt-Nd4l', 'mt-Nd5', 'mt-Nd6']\n",
            "['Hbb-bs', 'Hbb-y', 'Hba-a2', 'Six6', 'Hba-a1', 'Hbb-bt', 'Hba-x', 'Treml1']\n",
            "Categories (29411, object): ['0610005C13Rik', '0610006L08Rik', '0610007P14Rik', '0610009B22Rik', ...,\n",
            "                             'mt-Nd4', 'mt-Nd4l', 'mt-Nd5', 'mt-Nd6']\n",
            "['1700001C02Rik', 'Neurod4', 'Phox2b', 'Nkx2-6', 'Cryaa', '4930467K11Rik', 'Olig2', 'Vgll2']\n",
            "Categories (29411, object): ['0610005C13Rik', '0610006L08Rik', '0610007P14Rik', '0610009B22Rik', ...,\n",
            "                             'mt-Nd4', 'mt-Nd4l', 'mt-Nd5', 'mt-Nd6']\n",
            "['Car1', 'Tdgf1', 'Msx3', 'Krt20', 'Tal1', 'Mixl1', 'Mesp2', 'Snca']\n",
            "Categories (29411, object): ['0610005C13Rik', '0610006L08Rik', '0610007P14Rik', '0610009B22Rik', ...,\n",
            "                             'mt-Nd4', 'mt-Nd4l', 'mt-Nd5', 'mt-Nd6']\n"
          ]
        },
        {
          "output_type": "display_data",
          "data": {
            "text/plain": [
              "<Figure size 504x864 with 10 Axes>"
            ],
            "image/png": "[encoded data removed]"
          },
          "metadata": {
            "image/png": {
              "width": 498,
              "height": 849
            },
            "needs_background": "light"
          }
        }
      ]
    },
    {
      "cell_type": "markdown",
      "source": [
        "前処理  \n",
        "- [Scanpyの真の力を僕達はまだ知らない](https://emoriroom.hatenablog.com/entry/2020/12/18/190000)\n",
        "- [Scanpy: Preprocessing and clustering 3k PBMCs](https://singlecellanalysistutorial.readthedocs.io/en/latest/notebooks/Scanpy_PBMC.html)\n"
      ],
      "metadata": {
        "id": "wY2-NkL4KWeb"
      }
    },
    {
      "cell_type": "code",
      "source": [
        "df = adata.to_df()"
      ],
      "metadata": {
        "colab": {
          "base_uri": "https://localhost:8080/"
        },
        "id": "J1s8MLDA67Kt",
        "outputId": "ac6501b7-8fcc-4e07-b6b9-0d719246e78e"
      },
      "execution_count": null,
      "outputs": [
        {
          "output_type": "execute_result",
          "data": {
            "text/plain": [
              "10056.1767578125"
            ]
          },
          "metadata": {},
          "execution_count": 9
        }
      ]
    },
    {
      "cell_type": "code",
      "source": [
        "import numpy as np\n",
        "import torch\n",
        "import torch.nn as nn\n",
        "import torch.optim as optim\n",
        "import torch.nn.functional as F\n",
        "from torchvision import datasets, transforms"
      ],
      "metadata": {
        "id": "qUh1lHX6GSvP"
      },
      "execution_count": null,
      "outputs": []
    },
    {
      "cell_type": "code",
      "source": [
        "class Inference_model(nn.Module):\n",
        "    def __init__(self, cells_cnt, genes_cnt,z_dim):\n",
        "        super(Inference_model, self).__init__()\n",
        "        self.cells_cnt = cells_cnt\n",
        "        self.genes_cnt = genes_cnt\n",
        "        self.g = nn.Sequential(nn.Linear(cells_cnt,128),\n",
        "                               nn.Relu(),)\n",
        "        self.g_mu = nn.Linear(128,z_dim)\n",
        "        self.g_sigma = nn.Linear(128,z_dim)\n",
        "\n",
        "    def forward(self,x):\n",
        "        g_x = self.g(x)\n",
        "        mu = self.g_mu(g_x)\n",
        "        sigma = self.g_sigma(g_x)\n",
        "        epsilon = torch.randn(mu.shape).to(device)\n",
        "        return sigma + mu * epsilon\n",
        "\n",
        "\n",
        "class Generative_model(nn.Module):\n",
        "    def __init__(self,cells_cnt, genes_cnt,z_dim):\n",
        "        super(Generative_model, self).__init__()\n",
        "        self.z_dim = z_dim\n",
        "        self.cells_cnt = cells_cnt\n",
        "        self.genes_cnt = genes_cnt\n",
        "        self.emb = nn.Embedding(k_dim,z_dim)\n",
        "\n",
        "    def forward(self):\n",
        "        pass\n",
        "\n",
        "class LDVAE(nn.Module):\n",
        "    def __init__(self, cells_cnt, genes_cnt,z_dim):\n",
        "        super(LDVAE, self).__init__()\n",
        "        self.z_dim = z_dim\n",
        "        self.cells_cnt = cells_cnt\n",
        "        self.genes_cnt = genes_cnt\n",
        "        self.emb = nn.Embedding(genes_cnt,z_dim)\n",
        "\n",
        "    def forward(self):\n",
        "        pass\n",
        "\n",
        "class scVI(nn.Module):\n",
        "    def __init__(self, cells_cnt, genes_cnt, z_dim):\n",
        "        super(scVI, self).__init__()\n",
        "        self.cells_cnt = cells_cnt\n",
        "        self.genes_cnt = genes_cnt\n",
        "        self.z_dim = z_dim\n",
        "        self.inference_model = Inference_model(cells_cnt, genes_cnt, z_dim)\n",
        "        self.ldvae = LDVAE(cells_cnt, genes_cnt, z_dim)\n",
        "        self.generative_model = Generative_model(cells_cnt,genes_cnt, z_dim)\n",
        "        \n",
        "    def forward(self, x):\n",
        "        z = self.inference_model(x)\n",
        "        mu = self.ldvae(z)"
      ],
      "metadata": {
        "id": "oqFag5I1bHkw"
      },
      "execution_count": null,
      "outputs": []
    },
    {
      "cell_type": "code",
      "source": [
        ""
      ],
      "metadata": {
        "id": "i5_ElTKyoSJk"
      },
      "execution_count": null,
      "outputs": []
    },
    {
      "cell_type": "code",
      "source": [
        ""
      ],
      "metadata": {
        "id": "KtdRrFbUsWVy"
      },
      "execution_count": null,
      "outputs": []
    },
    {
      "cell_type": "code",
      "source": [
        "figsize(7, 12)\n",
        "for i in range(5):\n",
        "    \n",
        "    # -- Z plot --\n",
        "    \n",
        "    plt.subplot(5, 2, 2 * i + 1)\n",
        "    \n",
        "    plt.hist2d(\n",
        "        Z_df_ordered[f'z{2 * i}'], Z_df_ordered[f'z{2 * i + 1}'],\n",
        "        bins=256,\n",
        "        norm=mcolors.PowerNorm(0.25),\n",
        "        cmap=cm.gray_r,\n",
        "        rasterized=True\n",
        "    )\n",
        "    plt.axis('equal');\n",
        "    plt.xlabel(f'$Z_{2 * i}$ ({variance_explained[idx][2 * i]:.1%} variance)')\n",
        "    plt.ylabel(f'$Z_{2 * i + 1}$ ({variance_explained[idx][2 * i + 1]:.1%} variance)')\n",
        "    \n",
        "    ax = plt.gca()\n",
        "    ax.spines['top'].set_visible(False)\n",
        "    ax.spines['right'].set_visible(False)\n",
        "    \n",
        "    # -- W plot --\n",
        "    \n",
        "    plt.subplot(5, 2, 2 * i + 2)\n",
        "    \n",
        "    w_columns = [f'w{2 * i}', f'w{2 * i + 1}']\n",
        "    \n",
        "    plt.scatter(\n",
        "        W_df_ordered[w_columns[0]], W_df_ordered[w_columns[1]],\n",
        "        c='lightgrey',\n",
        "        rasterized=True\n",
        "    )\n",
        "    plt.axis('equal');\n",
        "    plt.xlabel(f'$W_{2 * i}$')\n",
        "    plt.ylabel(f'$W_{2 * i + 1}$')\n",
        "    \n",
        "    tmp_ = W_df_ordered.copy()\n",
        "    tmp_['lnth'] = np.linalg.norm(tmp_[w_columns], axis=1)\n",
        "    \n",
        "    ggg = (\n",
        "        tmp_\n",
        "        .sort_values('lnth', ascending=False)\n",
        "        .head(8)[['gene_name', 'lnth', *w_columns]]\n",
        "    )\n",
        "    print(ggg['gene_name'].values)\n",
        "    \n",
        "    texts = []\n",
        "    arrows = []\n",
        "    for g, r in ggg.iterrows():\n",
        "        x_, y_ = r[w_columns[0]], r[w_columns[1]]\n",
        "        \n",
        "        ha = 'right'\n",
        "        if x_ > 0:\n",
        "            ha = 'left'\n",
        "            \n",
        "        va = 'top'\n",
        "        if y_ > 0:\n",
        "            va = 'bottom'\n",
        "            \n",
        "        arrows.append(plt.arrow(0, 0, x_, y_, length_includes_head=True))\n",
        "        \n",
        "        xs, ys = 0, 0\n",
        "        if (i, r.gene_name) in text_shift:\n",
        "            xs, ys = text_shift[(i, r.gene_name)]\n",
        "        \n",
        "        texts.append(plt.text(x_ + xs, y_ + ys, r.gene_name, ha=ha, va=va))\n",
        "\n",
        "    plt.xlim(left=-3, right=3)\n",
        "    plt.ylim(bottom=-3, top=3)\n",
        "        \n",
        "    ax = plt.gca()\n",
        "    ax.spines['top'].set_visible(False)\n",
        "    ax.spines['right'].set_visible(False)\n",
        "    \n",
        "plt.tight_layout()\n",
        "plt.savefig('figures/linear_pij_results.pdf', bbox_inches='tight', dpi=400)"
      ],
      "metadata": {
        "id": "NPXWdqPuoQvm"
      },
      "execution_count": null,
      "outputs": []
    },
    {
      "cell_type": "markdown",
      "source": [
        "[fig.1c 実装コード](https://github.com/pachterlab/SGYP_2019/blob/master/4.a%20Pijuan-Sala%20et%20al%20result%20figures.ipynb)\n"
      ],
      "metadata": {
        "id": "rCujPPdS0kJV"
      }
    },
    {
      "cell_type": "code",
      "source": [
        "vae = LDVAE(\n",
        "    cells_dataset.nb_genes,\n",
        "    reconstruction_loss='nb',\n",
        "    use_batch_norm=True,\n",
        "    latent_distribution='normal',\n",
        "    n_latent=20\n",
        ")"
      ],
      "metadata": {
        "id": "mLZ1SOUr06Gc"
      },
      "execution_count": 26,
      "outputs": []
    },
    {
      "cell_type": "code",
      "source": [
        "trainer = UnsupervisedTrainer(\n",
        "    vae,\n",
        "    cells_dataset,\n",
        "    use_cuda=True,\n",
        "    metrics_to_monitor=['reconstruction_error'],\n",
        "    frequency=1,\n",
        "    n_epochs_kl_warmup=None\n",
        ")\n",
        "\n",
        "trainer.train(lr=7e-3, n_epochs=100)"
      ],
      "metadata": {
        "id": "otwAihTMS_Au",
        "outputId": "fa02b119-10d4-4e37-c6bd-5ec66cd9d222",
        "colab": {
          "base_uri": "https://localhost:8080/"
        }
      },
      "execution_count": 27,
      "outputs": [
        {
          "output_type": "stream",
          "name": "stdout",
          "text": [
            "[2022-03-24 09:49:22,479] INFO - scvi.inference.inference | Training without KL warmup\n",
            "training: 100%|██████████| 100/100 [33:26<00:00, 20.06s/it]\n"
          ]
        }
      ]
    },
    {
      "cell_type": "code",
      "source": [
        ""
      ],
      "metadata": {
        "id": "x_Bn1_IqTHCF"
      },
      "execution_count": null,
      "outputs": []
    }
  ]
}