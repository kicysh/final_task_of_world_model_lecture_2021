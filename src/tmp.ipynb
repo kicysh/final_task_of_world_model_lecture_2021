{
  "nbformat": 4,
  "nbformat_minor": 0,
  "metadata": {
    "colab": {
      "name": "tmplate_original.ipynb",
      "provenance": [],
      "machine_shape": "hm",
      "authorship_tag": "ABX9TyNRGyC6OelfvqgRWlXhNCx7",
      "include_colab_link": true
    },
    "kernelspec": {
      "name": "python3",
      "display_name": "Python 3"
    },
    "language_info": {
      "name": "python"
    }
  },
  "cells": [
    {
      "cell_type": "markdown",
      "metadata": {
        "id": "view-in-github",
        "colab_type": "text"
      },
      "source": [
        "<a href=\"https://colab.research.google.com/github/kicysh/final_task_of_world_model_lecture_2021/blob/main/src/tmp.ipynb\" target=\"_parent\"><img src=\"https://colab.research.google.com/assets/colab-badge.svg\" alt=\"Open In Colab\"/></a>"
      ]
    },
    {
      "cell_type": "markdown",
      "source": [
        "# セットアップ\n",
        "\n",
        "- scVIのインストール\n",
        "- データのダウンロード\n",
        "- 必要なパッケージのインストール"
      ],
      "metadata": {
        "id": "MOGrC_YEjYPQ"
      }
    },
    {
      "cell_type": "code",
      "source": [
        "!git clone https://github.com/tabdelaal/scVI"
      ],
      "metadata": {
        "colab": {
          "base_uri": "https://localhost:8080/"
        },
        "id": "58vbHslHNeKi",
        "outputId": "c74138c1-6181-473a-97f9-e26f2beb29bd"
      },
      "execution_count": 2,
      "outputs": [
        {
          "output_type": "stream",
          "name": "stdout",
          "text": [
            "Cloning into 'scVI'...\n",
            "remote: Enumerating objects: 10007, done.\u001b[K\n",
            "remote: Total 10007 (delta 0), reused 0 (delta 0), pack-reused 10007\u001b[K\n",
            "Receiving objects: 100% (10007/10007), 108.57 MiB | 37.54 MiB/s, done.\n",
            "Resolving deltas: 100% (7177/7177), done.\n"
          ]
        }
      ]
    },
    {
      "cell_type": "code",
      "source": [
        "!pip install /content/scVI"
      ],
      "metadata": {
        "colab": {
          "base_uri": "https://localhost:8080/"
        },
        "id": "ol2gvtlMSb-e",
        "outputId": "d304b8bc-3040-4f67-c065-612a7cb62991"
      },
      "execution_count": 10,
      "outputs": [
        {
          "output_type": "stream",
          "name": "stdout",
          "text": [
            "Processing ./scVI\n",
            "\u001b[33m  DEPRECATION: A future pip version will change local packages to be built in-place without first copying to a temporary directory. We recommend you use --use-feature=in-tree-build to test your packages with this new behavior before it becomes the default.\n",
            "   pip 21.3 will remove support for this functionality. You can find discussion regarding this at https://github.com/pypa/pip/issues/7555.\u001b[0m\n",
            "Requirement already satisfied: numpy>=1.16.2 in /usr/local/lib/python3.7/dist-packages (from scvi==0.6.4) (1.21.5)\n",
            "Requirement already satisfied: torch>=1.0.1 in /usr/local/lib/python3.7/dist-packages (from scvi==0.6.4) (1.10.0+cu111)\n",
            "Requirement already satisfied: matplotlib>=3.1.2 in /usr/local/lib/python3.7/dist-packages (from scvi==0.6.4) (3.2.2)\n",
            "Requirement already satisfied: scikit-learn>=0.20.3 in /usr/local/lib/python3.7/dist-packages (from scvi==0.6.4) (1.0.2)\n",
            "Requirement already satisfied: h5py>=2.9.0 in /usr/local/lib/python3.7/dist-packages (from scvi==0.6.4) (3.1.0)\n",
            "Requirement already satisfied: pandas>=0.24.2 in /usr/local/lib/python3.7/dist-packages (from scvi==0.6.4) (1.3.5)\n",
            "Collecting loompy>=3.0.6\n",
            "  Downloading loompy-3.0.7.tar.gz (4.8 MB)\n",
            "\u001b[K     |████████████████████████████████| 4.8 MB 3.2 MB/s \n",
            "\u001b[?25hRequirement already satisfied: tqdm>=4.31.1 in /usr/local/lib/python3.7/dist-packages (from scvi==0.6.4) (4.63.0)\n",
            "Collecting xlrd>=1.2.0\n",
            "  Downloading xlrd-2.0.1-py2.py3-none-any.whl (96 kB)\n",
            "\u001b[K     |████████████████████████████████| 96 kB 4.9 MB/s \n",
            "\u001b[?25hRequirement already satisfied: hyperopt==0.1.2 in /usr/local/lib/python3.7/dist-packages (from scvi==0.6.4) (0.1.2)\n",
            "Collecting anndata>=0.7\n",
            "  Downloading anndata-0.8.0-py3-none-any.whl (96 kB)\n",
            "\u001b[K     |████████████████████████████████| 96 kB 4.1 MB/s \n",
            "\u001b[?25hRequirement already satisfied: statsmodels in /usr/local/lib/python3.7/dist-packages (from scvi==0.6.4) (0.10.2)\n",
            "Collecting scanpy>=1.4\n",
            "  Downloading scanpy-1.8.2-py3-none-any.whl (2.0 MB)\n",
            "\u001b[K     |████████████████████████████████| 2.0 MB 51.5 MB/s \n",
            "\u001b[?25hCollecting scikit-misc\n",
            "  Downloading scikit_misc-0.1.4-cp37-cp37m-manylinux_2_5_x86_64.manylinux1_x86_64.whl (8.8 MB)\n",
            "\u001b[K     |████████████████████████████████| 8.8 MB 34.2 MB/s \n",
            "\u001b[?25hRequirement already satisfied: networkx in /usr/local/lib/python3.7/dist-packages (from hyperopt==0.1.2->scvi==0.6.4) (2.6.3)\n",
            "Requirement already satisfied: scipy in /usr/local/lib/python3.7/dist-packages (from hyperopt==0.1.2->scvi==0.6.4) (1.4.1)\n",
            "Requirement already satisfied: future in /usr/local/lib/python3.7/dist-packages (from hyperopt==0.1.2->scvi==0.6.4) (0.16.0)\n",
            "Requirement already satisfied: pymongo in /usr/local/lib/python3.7/dist-packages (from hyperopt==0.1.2->scvi==0.6.4) (4.0.2)\n",
            "Requirement already satisfied: six in /usr/local/lib/python3.7/dist-packages (from hyperopt==0.1.2->scvi==0.6.4) (1.15.0)\n",
            "Requirement already satisfied: natsort in /usr/local/lib/python3.7/dist-packages (from anndata>=0.7->scvi==0.6.4) (5.5.0)\n",
            "Requirement already satisfied: packaging>=20 in /usr/local/lib/python3.7/dist-packages (from anndata>=0.7->scvi==0.6.4) (21.3)\n",
            "Requirement already satisfied: importlib_metadata>=0.7 in /usr/local/lib/python3.7/dist-packages (from anndata>=0.7->scvi==0.6.4) (4.11.2)\n",
            "Requirement already satisfied: typing_extensions in /usr/local/lib/python3.7/dist-packages (from anndata>=0.7->scvi==0.6.4) (3.10.0.2)\n",
            "Requirement already satisfied: cached-property in /usr/local/lib/python3.7/dist-packages (from h5py>=2.9.0->scvi==0.6.4) (1.5.2)\n",
            "Requirement already satisfied: zipp>=0.5 in /usr/local/lib/python3.7/dist-packages (from importlib_metadata>=0.7->anndata>=0.7->scvi==0.6.4) (3.7.0)\n",
            "Requirement already satisfied: setuptools in /usr/local/lib/python3.7/dist-packages (from loompy>=3.0.6->scvi==0.6.4) (57.4.0)\n",
            "Requirement already satisfied: numba in /usr/local/lib/python3.7/dist-packages (from loompy>=3.0.6->scvi==0.6.4) (0.51.2)\n",
            "Requirement already satisfied: click in /usr/local/lib/python3.7/dist-packages (from loompy>=3.0.6->scvi==0.6.4) (7.1.2)\n",
            "Collecting numpy-groupies\n",
            "  Downloading numpy_groupies-0.9.14.tar.gz (48 kB)\n",
            "\u001b[K     |████████████████████████████████| 48 kB 4.6 MB/s \n",
            "\u001b[?25hRequirement already satisfied: python-dateutil>=2.1 in /usr/local/lib/python3.7/dist-packages (from matplotlib>=3.1.2->scvi==0.6.4) (2.8.2)\n",
            "Requirement already satisfied: kiwisolver>=1.0.1 in /usr/local/lib/python3.7/dist-packages (from matplotlib>=3.1.2->scvi==0.6.4) (1.3.2)\n",
            "Requirement already satisfied: pyparsing!=2.0.4,!=2.1.2,!=2.1.6,>=2.0.1 in /usr/local/lib/python3.7/dist-packages (from matplotlib>=3.1.2->scvi==0.6.4) (3.0.7)\n",
            "Requirement already satisfied: cycler>=0.10 in /usr/local/lib/python3.7/dist-packages (from matplotlib>=3.1.2->scvi==0.6.4) (0.11.0)\n",
            "Requirement already satisfied: pytz>=2017.3 in /usr/local/lib/python3.7/dist-packages (from pandas>=0.24.2->scvi==0.6.4) (2018.9)\n",
            "Collecting umap-learn>=0.3.10\n",
            "  Downloading umap-learn-0.5.2.tar.gz (86 kB)\n",
            "\u001b[K     |████████████████████████████████| 86 kB 5.0 MB/s \n",
            "\u001b[?25hRequirement already satisfied: patsy in /usr/local/lib/python3.7/dist-packages (from scanpy>=1.4->scvi==0.6.4) (0.5.2)\n",
            "Requirement already satisfied: seaborn in /usr/local/lib/python3.7/dist-packages (from scanpy>=1.4->scvi==0.6.4) (0.11.2)\n",
            "Collecting sinfo\n",
            "  Downloading sinfo-0.3.4.tar.gz (24 kB)\n",
            "Requirement already satisfied: tables in /usr/local/lib/python3.7/dist-packages (from scanpy>=1.4->scvi==0.6.4) (3.7.0)\n",
            "Requirement already satisfied: joblib in /usr/local/lib/python3.7/dist-packages (from scanpy>=1.4->scvi==0.6.4) (1.1.0)\n",
            "Requirement already satisfied: llvmlite<0.35,>=0.34.0.dev0 in /usr/local/lib/python3.7/dist-packages (from numba->loompy>=3.0.6->scvi==0.6.4) (0.34.0)\n",
            "Requirement already satisfied: threadpoolctl>=2.0.0 in /usr/local/lib/python3.7/dist-packages (from scikit-learn>=0.20.3->scvi==0.6.4) (3.1.0)\n",
            "Collecting pynndescent>=0.5\n",
            "  Downloading pynndescent-0.5.6.tar.gz (1.1 MB)\n",
            "\u001b[K     |████████████████████████████████| 1.1 MB 62.8 MB/s \n",
            "\u001b[?25hCollecting stdlib_list\n",
            "  Downloading stdlib_list-0.8.0-py3-none-any.whl (63 kB)\n",
            "\u001b[K     |████████████████████████████████| 63 kB 1.7 MB/s \n",
            "\u001b[?25hRequirement already satisfied: numexpr>=2.6.2 in /usr/local/lib/python3.7/dist-packages (from tables->scanpy>=1.4->scvi==0.6.4) (2.8.1)\n",
            "Building wheels for collected packages: scvi, loompy, umap-learn, pynndescent, numpy-groupies, sinfo\n",
            "  Building wheel for scvi (setup.py) ... \u001b[?25l\u001b[?25hdone\n",
            "  Created wheel for scvi: filename=scvi-0.6.4-py2.py3-none-any.whl size=139894 sha256=65457fcf7a512dd4b3c22260f7b05f9efa4a0fc57b2003999917deb8f2af0d47\n",
            "  Stored in directory: /tmp/pip-ephem-wheel-cache-65ss7z6t/wheels/fd/74/27/424dc7f97ab2af5b62bf2794f95f84dbe60d7896a3675e8f2a\n",
            "  Building wheel for loompy (setup.py) ... \u001b[?25l\u001b[?25hdone\n",
            "  Created wheel for loompy: filename=loompy-3.0.7-py3-none-any.whl size=52040 sha256=20978dbb38d23b134683335c9a9dc75d895ebd827892d64eabc5ed4f485eba4e\n",
            "  Stored in directory: /root/.cache/pip/wheels/48/36/9f/eb3377d4a7423b96105b6667d36c3faa49ee73b96d8cab80b3\n",
            "  Building wheel for umap-learn (setup.py) ... \u001b[?25l\u001b[?25hdone\n",
            "  Created wheel for umap-learn: filename=umap_learn-0.5.2-py3-none-any.whl size=82708 sha256=4fb1c22c354b48612dc06a73c18734843a4ff8300bd4a9e7d4d545f8365fc3fb\n",
            "  Stored in directory: /root/.cache/pip/wheels/84/1b/c6/aaf68a748122632967cef4dffef68224eb16798b6793257d82\n",
            "  Building wheel for pynndescent (setup.py) ... \u001b[?25l\u001b[?25hdone\n",
            "  Created wheel for pynndescent: filename=pynndescent-0.5.6-py3-none-any.whl size=53943 sha256=f10a43303d905bc5b34c4760dc919ff2c65da4e61f33a1a5c3e909f85ce644a0\n",
            "  Stored in directory: /root/.cache/pip/wheels/03/f1/56/f80d72741e400345b5a5b50ec3d929aca581bf45e0225d5c50\n",
            "  Building wheel for numpy-groupies (setup.py) ... \u001b[?25l\u001b[?25hdone\n",
            "  Created wheel for numpy-groupies: filename=numpy_groupies-0.9.14-py3-none-any.whl size=24113 sha256=309a112c9c08b330b195ed0e10d32d9fcc1b94f79e14415d9935044850067afb\n",
            "  Stored in directory: /root/.cache/pip/wheels/e7/68/13/d9f5f7dd1a3aacf8e9c2c12c6e86cceed1c628f4ae60ff5b01\n",
            "  Building wheel for sinfo (setup.py) ... \u001b[?25l\u001b[?25hdone\n",
            "  Created wheel for sinfo: filename=sinfo-0.3.4-py3-none-any.whl size=7899 sha256=6818c060d06fd8d653c3bcaa8a9381a99ecc3f23be22a1cc4b8f2ef788b899b5\n",
            "  Stored in directory: /root/.cache/pip/wheels/68/ca/56/344d532fe53e855ccd6549795d370588ab8123907eecf4cf30\n",
            "Successfully built scvi loompy umap-learn pynndescent numpy-groupies sinfo\n",
            "Installing collected packages: stdlib-list, pynndescent, umap-learn, sinfo, numpy-groupies, anndata, xlrd, scikit-misc, scanpy, loompy, scvi\n",
            "  Attempting uninstall: xlrd\n",
            "    Found existing installation: xlrd 1.1.0\n",
            "    Uninstalling xlrd-1.1.0:\n",
            "      Successfully uninstalled xlrd-1.1.0\n",
            "Successfully installed anndata-0.8.0 loompy-3.0.7 numpy-groupies-0.9.14 pynndescent-0.5.6 scanpy-1.8.2 scikit-misc-0.1.4 scvi-0.6.4 sinfo-0.3.4 stdlib-list-0.8.0 umap-learn-0.5.2 xlrd-2.0.1\n"
          ]
        }
      ]
    },
    {
      "cell_type": "code",
      "execution_count": 12,
      "metadata": {
        "colab": {
          "base_uri": "https://localhost:8080/"
        },
        "id": "U_-sWFeKwtnT",
        "outputId": "be02b5b9-45f2-4634-bf9d-d77f7a9de268"
      },
      "outputs": [
        {
          "output_type": "stream",
          "name": "stdout",
          "text": [
            "Copying gs://h5ad/2019-02-Pijuan-Sala-et-al-Nature/pijuan_sala_atlas.h5ad...\n",
            "/ [1 files][  1.0 GiB/  1.0 GiB]   53.0 MiB/s                                   \n",
            "Operation completed over 1 objects/1.0 GiB.                                      \n"
          ]
        }
      ],
      "source": [
        "!mkdir data\n",
        "!gsutil cp gs://h5ad/2019-02-Pijuan-Sala-et-al-Nature/pijuan_sala_atlas.h5ad /content/data"
      ]
    },
    {
      "cell_type": "code",
      "source": [
        "!pip install scanpy"
      ],
      "metadata": {
        "colab": {
          "base_uri": "https://localhost:8080/"
        },
        "id": "C6s38Dm45sl4",
        "outputId": "779ff69c-f6f5-4767-8076-ef10c2a961e2"
      },
      "execution_count": 13,
      "outputs": [
        {
          "output_type": "stream",
          "name": "stdout",
          "text": [
            "Requirement already satisfied: scanpy in /usr/local/lib/python3.7/dist-packages (1.8.2)\n",
            "Requirement already satisfied: patsy in /usr/local/lib/python3.7/dist-packages (from scanpy) (0.5.2)\n",
            "Requirement already satisfied: pandas>=0.21 in /usr/local/lib/python3.7/dist-packages (from scanpy) (1.3.5)\n",
            "Requirement already satisfied: seaborn in /usr/local/lib/python3.7/dist-packages (from scanpy) (0.11.2)\n",
            "Requirement already satisfied: umap-learn>=0.3.10 in /usr/local/lib/python3.7/dist-packages (from scanpy) (0.5.2)\n",
            "Requirement already satisfied: tables in /usr/local/lib/python3.7/dist-packages (from scanpy) (3.7.0)\n",
            "Requirement already satisfied: matplotlib>=3.1.2 in /usr/local/lib/python3.7/dist-packages (from scanpy) (3.2.2)\n",
            "Requirement already satisfied: joblib in /usr/local/lib/python3.7/dist-packages (from scanpy) (1.1.0)\n",
            "Requirement already satisfied: scipy>=1.4 in /usr/local/lib/python3.7/dist-packages (from scanpy) (1.4.1)\n",
            "Requirement already satisfied: h5py>=2.10.0 in /usr/local/lib/python3.7/dist-packages (from scanpy) (3.1.0)\n",
            "Requirement already satisfied: scikit-learn>=0.22 in /usr/local/lib/python3.7/dist-packages (from scanpy) (1.0.2)\n",
            "Requirement already satisfied: networkx>=2.3 in /usr/local/lib/python3.7/dist-packages (from scanpy) (2.6.3)\n",
            "Requirement already satisfied: numba>=0.41.0 in /usr/local/lib/python3.7/dist-packages (from scanpy) (0.51.2)\n",
            "Requirement already satisfied: packaging in /usr/local/lib/python3.7/dist-packages (from scanpy) (21.3)\n",
            "Requirement already satisfied: numpy>=1.17.0 in /usr/local/lib/python3.7/dist-packages (from scanpy) (1.21.5)\n",
            "Requirement already satisfied: anndata>=0.7.4 in /usr/local/lib/python3.7/dist-packages (from scanpy) (0.8.0)\n",
            "Requirement already satisfied: natsort in /usr/local/lib/python3.7/dist-packages (from scanpy) (5.5.0)\n",
            "Requirement already satisfied: sinfo in /usr/local/lib/python3.7/dist-packages (from scanpy) (0.3.4)\n",
            "Requirement already satisfied: importlib_metadata>=0.7 in /usr/local/lib/python3.7/dist-packages (from scanpy) (4.11.2)\n",
            "Requirement already satisfied: statsmodels>=0.10.0rc2 in /usr/local/lib/python3.7/dist-packages (from scanpy) (0.10.2)\n",
            "Requirement already satisfied: tqdm in /usr/local/lib/python3.7/dist-packages (from scanpy) (4.63.0)\n",
            "Requirement already satisfied: typing_extensions in /usr/local/lib/python3.7/dist-packages (from anndata>=0.7.4->scanpy) (3.10.0.2)\n",
            "Requirement already satisfied: cached-property in /usr/local/lib/python3.7/dist-packages (from h5py>=2.10.0->scanpy) (1.5.2)\n",
            "Requirement already satisfied: zipp>=0.5 in /usr/local/lib/python3.7/dist-packages (from importlib_metadata>=0.7->scanpy) (3.7.0)\n",
            "Requirement already satisfied: pyparsing!=2.0.4,!=2.1.2,!=2.1.6,>=2.0.1 in /usr/local/lib/python3.7/dist-packages (from matplotlib>=3.1.2->scanpy) (3.0.7)\n",
            "Requirement already satisfied: kiwisolver>=1.0.1 in /usr/local/lib/python3.7/dist-packages (from matplotlib>=3.1.2->scanpy) (1.3.2)\n",
            "Requirement already satisfied: cycler>=0.10 in /usr/local/lib/python3.7/dist-packages (from matplotlib>=3.1.2->scanpy) (0.11.0)\n",
            "Requirement already satisfied: python-dateutil>=2.1 in /usr/local/lib/python3.7/dist-packages (from matplotlib>=3.1.2->scanpy) (2.8.2)\n",
            "Requirement already satisfied: setuptools in /usr/local/lib/python3.7/dist-packages (from numba>=0.41.0->scanpy) (57.4.0)\n",
            "Requirement already satisfied: llvmlite<0.35,>=0.34.0.dev0 in /usr/local/lib/python3.7/dist-packages (from numba>=0.41.0->scanpy) (0.34.0)\n",
            "Requirement already satisfied: pytz>=2017.3 in /usr/local/lib/python3.7/dist-packages (from pandas>=0.21->scanpy) (2018.9)\n",
            "Requirement already satisfied: six>=1.5 in /usr/local/lib/python3.7/dist-packages (from python-dateutil>=2.1->matplotlib>=3.1.2->scanpy) (1.15.0)\n",
            "Requirement already satisfied: threadpoolctl>=2.0.0 in /usr/local/lib/python3.7/dist-packages (from scikit-learn>=0.22->scanpy) (3.1.0)\n",
            "Requirement already satisfied: pynndescent>=0.5 in /usr/local/lib/python3.7/dist-packages (from umap-learn>=0.3.10->scanpy) (0.5.6)\n",
            "Requirement already satisfied: stdlib-list in /usr/local/lib/python3.7/dist-packages (from sinfo->scanpy) (0.8.0)\n",
            "Requirement already satisfied: numexpr>=2.6.2 in /usr/local/lib/python3.7/dist-packages (from tables->scanpy) (2.8.1)\n"
          ]
        }
      ]
    },
    {
      "cell_type": "markdown",
      "source": [
        "# LDVAEの実行"
      ],
      "metadata": {
        "id": "LwRvmFa6j5bv"
      }
    },
    {
      "cell_type": "code",
      "source": [
        "path_of_data = '/content/data/pijuan_sala_atlas.h5ad'"
      ],
      "metadata": {
        "id": "m6sX90mS6fFo"
      },
      "execution_count": 14,
      "outputs": []
    },
    {
      "cell_type": "code",
      "source": [
        "from scvi.dataset import AnnDatasetFromAnnData\n",
        "from scvi.models import LDVAE\n",
        "from scvi.inference import UnsupervisedTrainer\n",
        "from scvi.inference.posterior import Posterior"
      ],
      "metadata": {
        "colab": {
          "base_uri": "https://localhost:8080/"
        },
        "id": "xBThXl88UBFG",
        "outputId": "88c91ff5-fd84-4fe6-c442-c24fba373e43"
      },
      "execution_count": 11,
      "outputs": [
        {
          "output_type": "stream",
          "name": "stderr",
          "text": [
            "/usr/local/lib/python3.7/dist-packages/numba/np/ufunc/parallel.py:363: NumbaWarning: The TBB threading layer requires TBB version 2019.5 or later i.e., TBB_INTERFACE_VERSION >= 11005. Found TBB_INTERFACE_VERSION = 9107. The TBB threading layer is disabled.\n",
            "  warnings.warn(problem)\n"
          ]
        }
      ]
    },
    {
      "cell_type": "code",
      "source": [
        "import scanpy as sc\n",
        "adata = sc.read_h5ad(path_of_data)\n",
        "adata"
      ],
      "metadata": {
        "colab": {
          "base_uri": "https://localhost:8080/"
        },
        "id": "iEGLJbUwxpbs",
        "outputId": "9688a7e1-fa59-4cc5-eb3f-3ffaa3085d5c"
      },
      "execution_count": 15,
      "outputs": [
        {
          "output_type": "execute_result",
          "data": {
            "text/plain": [
              "AnnData object with n_obs × n_vars = 139331 × 29452\n",
              "    obs: 'barcode', 'sample', 'stage', 'sequencing.batch', 'theiler', 'doub.density', 'doublet', 'cluster', 'cluster.sub', 'cluster.stage', 'cluster.theiler', 'stripped', 'celltype', 'colour', 'umapX', 'umapY', 'haem_gephiX', 'haem_gephiY', 'haem_subclust', 'endo_gephiX', 'endo_gephiY', 'endo_trajectoryName', 'endo_trajectoryDPT', 'endo_gutX', 'endo_gutY', 'endo_gutDPT', 'endo_gutCluster'\n",
              "    var: 'gene_name'"
            ]
          },
          "metadata": {},
          "execution_count": 15
        }
      ]
    },
    {
      "cell_type": "code",
      "source": [
        "cells_dataset = AnnDatasetFromAnnData(adata)"
      ],
      "metadata": {
        "colab": {
          "base_uri": "https://localhost:8080/"
        },
        "id": "FCyf8cXbVd6i",
        "outputId": "b445ff05-489d-4dbe-a4b3-36e0aca1974a"
      },
      "execution_count": 16,
      "outputs": [
        {
          "output_type": "stream",
          "name": "stdout",
          "text": [
            "[2022-03-18 09:23:07,639] INFO - scvi.dataset.dataset | Remapping labels to [0,N]\n",
            "[2022-03-18 09:23:07,649] INFO - scvi.dataset.dataset | Remapping batch_indices to [0,N]\n",
            "[2022-03-18 09:23:25,437] INFO - scvi.dataset.dataset | Computing the library size for the new data\n",
            "[2022-03-18 09:23:27,201] INFO - scvi.dataset.dataset | Downsampled from 139331 to 139331 cells\n"
          ]
        }
      ]
    },
    {
      "cell_type": "code",
      "source": [
        "cells_dataset.nb_genes"
      ],
      "metadata": {
        "colab": {
          "base_uri": "https://localhost:8080/"
        },
        "id": "NiZTHE-gVnQs",
        "outputId": "a8f8905b-2dcc-4e41-d4ce-856086b88dd5"
      },
      "execution_count": 17,
      "outputs": [
        {
          "output_type": "execute_result",
          "data": {
            "text/plain": [
              "29452"
            ]
          },
          "metadata": {},
          "execution_count": 17
        }
      ]
    },
    {
      "cell_type": "code",
      "source": [
        "vae = LDVAE(\n",
        "    cells_dataset.nb_genes,\n",
        "    reconstruction_loss='nb',\n",
        "    use_batch_norm=True,\n",
        "    latent_distribution='normal',\n",
        "    n_latent=20\n",
        ")"
      ],
      "metadata": {
        "id": "OclVMEmzWfuR"
      },
      "execution_count": 18,
      "outputs": []
    },
    {
      "cell_type": "code",
      "source": [
        "vae"
      ],
      "metadata": {
        "colab": {
          "base_uri": "https://localhost:8080/"
        },
        "id": "S7PWxCW1WpyX",
        "outputId": "89449da5-9e1e-446f-a560-994d8e5d8720"
      },
      "execution_count": 19,
      "outputs": [
        {
          "output_type": "execute_result",
          "data": {
            "text/plain": [
              "LDVAE(\n",
              "  (z_encoder): Encoder(\n",
              "    (encoder): FCLayers(\n",
              "      (fc_layers): Sequential(\n",
              "        (Layer 0): Sequential(\n",
              "          (0): Linear(in_features=29452, out_features=128, bias=True)\n",
              "          (1): BatchNorm1d(128, eps=0.001, momentum=0.01, affine=True, track_running_stats=True)\n",
              "          (2): ReLU()\n",
              "          (3): Dropout(p=0.1, inplace=False)\n",
              "        )\n",
              "      )\n",
              "    )\n",
              "    (mean_encoder): Linear(in_features=128, out_features=20, bias=True)\n",
              "    (var_encoder): Linear(in_features=128, out_features=20, bias=True)\n",
              "  )\n",
              "  (l_encoder): Encoder(\n",
              "    (encoder): FCLayers(\n",
              "      (fc_layers): Sequential(\n",
              "        (Layer 0): Sequential(\n",
              "          (0): Linear(in_features=29452, out_features=128, bias=True)\n",
              "          (1): BatchNorm1d(128, eps=0.001, momentum=0.01, affine=True, track_running_stats=True)\n",
              "          (2): ReLU()\n",
              "          (3): Dropout(p=0.1, inplace=False)\n",
              "        )\n",
              "      )\n",
              "    )\n",
              "    (mean_encoder): Linear(in_features=128, out_features=1, bias=True)\n",
              "    (var_encoder): Linear(in_features=128, out_features=1, bias=True)\n",
              "  )\n",
              "  (decoder): LinearDecoderSCVI(\n",
              "    (factor_regressor): FCLayers(\n",
              "      (fc_layers): Sequential(\n",
              "        (Layer 0): Sequential(\n",
              "          (0): Linear(in_features=20, out_features=29452, bias=False)\n",
              "          (1): BatchNorm1d(29452, eps=0.001, momentum=0.01, affine=True, track_running_stats=True)\n",
              "          (2): None\n",
              "          (3): None\n",
              "        )\n",
              "      )\n",
              "    )\n",
              "    (px_dropout_decoder): FCLayers(\n",
              "      (fc_layers): Sequential(\n",
              "        (Layer 0): Sequential(\n",
              "          (0): Linear(in_features=20, out_features=29452, bias=False)\n",
              "          (1): BatchNorm1d(29452, eps=0.001, momentum=0.01, affine=True, track_running_stats=True)\n",
              "          (2): None\n",
              "          (3): None\n",
              "        )\n",
              "      )\n",
              "    )\n",
              "  )\n",
              ")"
            ]
          },
          "metadata": {},
          "execution_count": 19
        }
      ]
    },
    {
      "cell_type": "markdown",
      "source": [
        "前処理  \n",
        "- [Scanpyの真の力を僕達はまだ知らない](https://emoriroom.hatenablog.com/entry/2020/12/18/190000)\n",
        "- [Scanpy: Preprocessing and clustering 3k PBMCs](https://singlecellanalysistutorial.readthedocs.io/en/latest/notebooks/Scanpy_PBMC.html)\n"
      ],
      "metadata": {
        "id": "wY2-NkL4KWeb"
      }
    },
    {
      "cell_type": "code",
      "source": [
        "df = adata.to_df()"
      ],
      "metadata": {
        "colab": {
          "base_uri": "https://localhost:8080/"
        },
        "id": "J1s8MLDA67Kt",
        "outputId": "ac6501b7-8fcc-4e07-b6b9-0d719246e78e"
      },
      "execution_count": null,
      "outputs": [
        {
          "output_type": "execute_result",
          "data": {
            "text/plain": [
              "10056.1767578125"
            ]
          },
          "metadata": {},
          "execution_count": 9
        }
      ]
    },
    {
      "cell_type": "code",
      "source": [
        "import numpy as np\n",
        "import torch\n",
        "import torch.nn as nn\n",
        "import torch.optim as optim\n",
        "import torch.nn.functional as F\n",
        "from torchvision import datasets, transforms"
      ],
      "metadata": {
        "id": "qUh1lHX6GSvP"
      },
      "execution_count": null,
      "outputs": []
    },
    {
      "cell_type": "code",
      "source": [
        "class Inference_model(nn.Module):\n",
        "    def __init__(self, cells_cnt, genes_cnt,z_dim):\n",
        "        super(Inference_model, self).__init__()\n",
        "        self.cells_cnt = cells_cnt\n",
        "        self.genes_cnt = genes_cnt\n",
        "        self.g = nn.Sequential(nn.Linear(cells_cnt,128),\n",
        "                               nn.Relu(),)\n",
        "        self.g_mu = nn.Linear(128,z_dim)\n",
        "        self.g_sigma = nn.Linear(128,z_dim)\n",
        "\n",
        "    def forward(self,x):\n",
        "        g_x = self.g(x)\n",
        "        mu = self.g_mu(g_x)\n",
        "        sigma = self.g_sigma(g_x)\n",
        "        epsilon = torch.randn(mu.shape).to(device)\n",
        "        return sigma + mu * epsilon\n",
        "\n",
        "\n",
        "class Generative_model(nn.Module):\n",
        "    def __init__(self,cells_cnt, genes_cnt,z_dim):\n",
        "        super(Generative_model, self).__init__()\n",
        "        self.z_dim = z_dim\n",
        "        self.cells_cnt = cells_cnt\n",
        "        self.genes_cnt = genes_cnt\n",
        "        self.emb = nn.Embedding(k_dim,z_dim)\n",
        "\n",
        "    def forward(self):\n",
        "        pass\n",
        "\n",
        "class LDVAE(nn.Module):\n",
        "    def __init__(self, cells_cnt, genes_cnt,z_dim):\n",
        "        super(LDVAE, self).__init__()\n",
        "        self.z_dim = z_dim\n",
        "        self.cells_cnt = cells_cnt\n",
        "        self.genes_cnt = genes_cnt\n",
        "        self.emb = nn.Embedding(genes_cnt,z_dim)\n",
        "\n",
        "    def forward(self):\n",
        "        pass\n",
        "\n",
        "class scVI(nn.Module):\n",
        "    def __init__(self, cells_cnt, genes_cnt, z_dim):\n",
        "        super(scVI, self).__init__()\n",
        "        self.cells_cnt = cells_cnt\n",
        "        self.genes_cnt = genes_cnt\n",
        "        self.z_dim = z_dim\n",
        "        self.inference_model = Inference_model(cells_cnt, genes_cnt, z_dim)\n",
        "        self.ldvae = LDVAE(cells_cnt, genes_cnt, z_dim)\n",
        "        self.generative_model = Generative_model(cells_cnt,genes_cnt, z_dim)\n",
        "        \n",
        "    def forward(self, x):\n",
        "        z = self.inference_model(x)\n",
        "        mu = self.ldvae(z)"
      ],
      "metadata": {
        "id": "oqFag5I1bHkw"
      },
      "execution_count": null,
      "outputs": []
    },
    {
      "cell_type": "code",
      "source": [
        ""
      ],
      "metadata": {
        "id": "i5_ElTKyoSJk"
      },
      "execution_count": null,
      "outputs": []
    },
    {
      "cell_type": "code",
      "source": [
        "figsize(7, 12)\n",
        "for i in range(5):\n",
        "    \n",
        "    # -- Z plot --\n",
        "    \n",
        "    plt.subplot(5, 2, 2 * i + 1)\n",
        "    \n",
        "    plt.hist2d(\n",
        "        Z_df_ordered[f'z{2 * i}'], Z_df_ordered[f'z{2 * i + 1}'],\n",
        "        bins=256,\n",
        "        norm=mcolors.PowerNorm(0.25),\n",
        "        cmap=cm.gray_r,\n",
        "        rasterized=True\n",
        "    )\n",
        "    plt.axis('equal');\n",
        "    plt.xlabel(f'$Z_{2 * i}$ ({variance_explained[idx][2 * i]:.1%} variance)')\n",
        "    plt.ylabel(f'$Z_{2 * i + 1}$ ({variance_explained[idx][2 * i + 1]:.1%} variance)')\n",
        "    \n",
        "    ax = plt.gca()\n",
        "    ax.spines['top'].set_visible(False)\n",
        "    ax.spines['right'].set_visible(False)\n",
        "    \n",
        "    # -- W plot --\n",
        "    \n",
        "    plt.subplot(5, 2, 2 * i + 2)\n",
        "    \n",
        "    w_columns = [f'w{2 * i}', f'w{2 * i + 1}']\n",
        "    \n",
        "    plt.scatter(\n",
        "        W_df_ordered[w_columns[0]], W_df_ordered[w_columns[1]],\n",
        "        c='lightgrey',\n",
        "        rasterized=True\n",
        "    )\n",
        "    plt.axis('equal');\n",
        "    plt.xlabel(f'$W_{2 * i}$')\n",
        "    plt.ylabel(f'$W_{2 * i + 1}$')\n",
        "    \n",
        "    tmp_ = W_df_ordered.copy()\n",
        "    tmp_['lnth'] = np.linalg.norm(tmp_[w_columns], axis=1)\n",
        "    \n",
        "    ggg = (\n",
        "        tmp_\n",
        "        .sort_values('lnth', ascending=False)\n",
        "        .head(8)[['gene_name', 'lnth', *w_columns]]\n",
        "    )\n",
        "    print(ggg['gene_name'].values)\n",
        "    \n",
        "    texts = []\n",
        "    arrows = []\n",
        "    for g, r in ggg.iterrows():\n",
        "        x_, y_ = r[w_columns[0]], r[w_columns[1]]\n",
        "        \n",
        "        ha = 'right'\n",
        "        if x_ > 0:\n",
        "            ha = 'left'\n",
        "            \n",
        "        va = 'top'\n",
        "        if y_ > 0:\n",
        "            va = 'bottom'\n",
        "            \n",
        "        arrows.append(plt.arrow(0, 0, x_, y_, length_includes_head=True))\n",
        "        \n",
        "        xs, ys = 0, 0\n",
        "        if (i, r.gene_name) in text_shift:\n",
        "            xs, ys = text_shift[(i, r.gene_name)]\n",
        "        \n",
        "        texts.append(plt.text(x_ + xs, y_ + ys, r.gene_name, ha=ha, va=va))\n",
        "\n",
        "    plt.xlim(left=-3, right=3)\n",
        "    plt.ylim(bottom=-3, top=3)\n",
        "        \n",
        "    ax = plt.gca()\n",
        "    ax.spines['top'].set_visible(False)\n",
        "    ax.spines['right'].set_visible(False)\n",
        "    \n",
        "plt.tight_layout()\n",
        "plt.savefig('figures/linear_pij_results.pdf', bbox_inches='tight', dpi=400)"
      ],
      "metadata": {
        "id": "NPXWdqPuoQvm"
      },
      "execution_count": null,
      "outputs": []
    },
    {
      "cell_type": "markdown",
      "source": [
        "[fig.1c 実装コード](https://github.com/pachterlab/SGYP_2019/blob/master/4.a%20Pijuan-Sala%20et%20al%20result%20figures.ipynb)\n"
      ],
      "metadata": {
        "id": "rCujPPdS0kJV"
      }
    },
    {
      "cell_type": "code",
      "source": [
        ""
      ],
      "metadata": {
        "id": "mLZ1SOUr06Gc"
      },
      "execution_count": null,
      "outputs": []
    }
  ]
}