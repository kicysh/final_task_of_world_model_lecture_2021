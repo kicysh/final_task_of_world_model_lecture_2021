{
  "nbformat": 4,
  "nbformat_minor": 0,
  "metadata": {
    "colab": {
      "name": "qb_cbt.ipynb",
      "provenance": [],
      "collapsed_sections": [
        "SkkZqw878QMD",
        "XG8C3rugpyw6",
        "W5d202zC2i1x",
        "MJ9ZsBI8qzzY",
        "ax9DrReF91Mh",
        "pLL64ZN945X4"
      ],
      "authorship_tag": "ABX9TyO9+th8zJSn42GdnuV7mnfq",
      "include_colab_link": true
    },
    "kernelspec": {
      "name": "python3",
      "display_name": "Python 3"
    }
  },
  "cells": [
    {
      "cell_type": "markdown",
      "metadata": {
        "id": "view-in-github",
        "colab_type": "text"
      },
      "source": [
        "<a href=\"https://colab.research.google.com/github/kicysh/final_task_of_world_model_lecture_2021/blob/main/qb_cbt.ipynb\" target=\"_parent\"><img src=\"https://colab.research.google.com/assets/colab-badge.svg\" alt=\"Open In Colab\"/></a>"
      ]
    },
    {
      "cell_type": "code",
      "metadata": {
        "colab": {
          "base_uri": "https://localhost:8080/"
        },
        "id": "jHmI81mAJlZH",
        "outputId": "2626a859-d7aa-41bc-85e1-a885bdadebde"
      },
      "source": [
        "!cat /proc/uptime | awk '{print $1 /60 /60 /24 \"days (\" $1 / 60 / 60 \"h)\"}'\n"
      ],
      "execution_count": null,
      "outputs": [
        {
          "output_type": "stream",
          "text": [
            "0.0022037days (0.0528889h)\n"
          ],
          "name": "stdout"
        }
      ]
    },
    {
      "cell_type": "code",
      "metadata": {
        "id": "P4Ztjmh7_sMO",
        "colab": {
          "base_uri": "https://localhost:8080/"
        },
        "outputId": "bba4ef8a-1348-4229-d87c-cdb440307ce6"
      },
      "source": [
        "import pandas as pd\n",
        "from google.colab import files\n",
        "from google_drive_downloader import GoogleDriveDownloader\n",
        "import google.colab.drive\n",
        "import google.colab\n",
        "import googleapiclient.discovery\n",
        "import googleapiclient.http\n",
        " \n",
        "import datetime\n",
        " \n",
        "google.colab.auth.authenticate_user()\n",
        "drive_service = googleapiclient.discovery.build('drive', 'v3')\n",
        "google.colab.drive.mount('gdrive')"
      ],
      "execution_count": null,
      "outputs": [
        {
          "output_type": "stream",
          "text": [
            "Drive already mounted at gdrive; to attempt to forcibly remount, call drive.mount(\"gdrive\", force_remount=True).\n"
          ],
          "name": "stdout"
        }
      ]
    },
    {
      "cell_type": "code",
      "metadata": {
        "id": "CGHiKOcd6GuR"
      },
      "source": [
        "def answer_section2(df, df_index, columns_list,ans_date=True):\n",
        "    flag = False\n",
        "    date_flag = False\n",
        "    if ans_date: date_flag = True\n",
        "    for index in range(len(df_index)):\n",
        "        if (index+1)%5 == 0:\n",
        "            df.to_csv('tmp.csv',index=False)\n",
        "        input_line = input('num: {}\\tcol:{}\\t  '.format(df_index[index]+1, columns_list))\n",
        "        # quit\n",
        "        if 'q' in input_line:\n",
        "            flag = True\n",
        "            break\n",
        "        # back\n",
        "        if 'b' in input_line:\n",
        "            if index<=0:\n",
        "               pass\n",
        "            else:\n",
        "                back_input_line = input('num: {}\\tcol:{}\\t  '.format(df_index[index-1]+1, columns_list))\n",
        "                for num in range(min(len(back_input_line),len(columns_list))):\n",
        "                    s, col = input_line[num], columns_list[num]\n",
        "                    if s == 'y': \n",
        "                        df.loc[df_index[index-1], col] = 1\n",
        "                        df.loc[df_index[index-1], col+'_date'] = datetime.date.today().strftime('%Y/%m/%d')\n",
        "                    elif s == 'n': \n",
        "                        df.loc[df_index[index-1], col] = 0\n",
        "                        df.loc[df_index[index-1], col+'_date'] = datetime.date.today().strftime('%Y/%m/%d')\n",
        "                input_line = input('num: {}\\tcol:{}\\t  '.format(df_index[index]+1, columns_list))\n",
        "                # back: quit\n",
        "                if 'q' in input_line:\n",
        "                    flag = True\n",
        "                    break\n",
        "        for num in range(min(len(input_line),len(columns_list))):\n",
        "            s, col = input_line[num], columns_list[num]\n",
        "            if s == 'y': \n",
        "                df.loc[df_index[index], col] = 1\n",
        "                df.loc[df_index[index], col+'_date'] = datetime.date.today().strftime('%Y/%m/%d')\n",
        "            elif s == 'n': \n",
        "                df.loc[df_index[index], col] = 0\n",
        "                df.loc[df_index[index], col+'_date'] = datetime.date.today().strftime('%Y/%m/%d')\n",
        "    return df"
      ],
      "execution_count": null,
      "outputs": []
    },
    {
      "cell_type": "code",
      "metadata": {
        "id": "sjEgmfD0UlKn"
      },
      "source": [
        "!cp '/content/gdrive/My Drive/cbt/qb_cbt_2016_vol3.csv' '/content/gdrive/My Drive/cbt/qb_cbt_2016_vol3.csv.bk'\n",
        "!cp '/content/gdrive/My Drive/cbt/qb_cbt_2016_vol2.csv' '/content/gdrive/My Drive/cbt/qb_cbt_2016_vol2.csv.bk'\n",
        "!cp '/content/gdrive/My Drive/cbt/qb_cbt_2016_vol1.csv' '/content/gdrive/My Drive/cbt/qb_cbt_2016_vol1.csv.bk'"
      ],
      "execution_count": null,
      "outputs": []
    },
    {
      "cell_type": "markdown",
      "metadata": {
        "id": "SkkZqw878QMD"
      },
      "source": [
        "# 初期化"
      ]
    },
    {
      "cell_type": "code",
      "metadata": {
        "id": "aQZlIzl68PWB"
      },
      "source": [
        "df_tmp = pd.DataFrame(columns=['id', 'ans_1','ans_1_date', 'ans_2','ans_2_date','check', 'tag'])\n",
        "df_tmp.to_csv('tmp.csv',index=False)\n",
        "!cp  tmp.csv '/content/gdrive/My Drive/cbt/test.csv'"
      ],
      "execution_count": null,
      "outputs": []
    },
    {
      "cell_type": "code",
      "metadata": {
        "id": "zaOzqs8S9n14"
      },
      "source": [
        "df_tmp.id = [i for i in range(1,791)]\n",
        "df_tmp.to_csv('tmp.csv',index=False)\n",
        "#!cp  tmp.csv '/content/gdrive/My Drive/cbt/qb_cbt_2016_vol1.csv'"
      ],
      "execution_count": null,
      "outputs": []
    },
    {
      "cell_type": "markdown",
      "metadata": {
        "id": "XG8C3rugpyw6"
      },
      "source": [
        "# Tag"
      ]
    },
    {
      "cell_type": "markdown",
      "metadata": {
        "id": "W5d202zC2i1x"
      },
      "source": [
        "## Tag: val_1"
      ]
    },
    {
      "cell_type": "code",
      "metadata": {
        "id": "Z4Qyl4ct2hsi"
      },
      "source": [
        "df = pd.read_csv('/content/gdrive/My Drive/cbt/qb_cbt_2016_vol1.csv')\n",
        "df.loc[df[(df.id <=81)].index, 'tag'] = 'A' \n",
        "df.loc[df[(df.id >= 82) & (df.id <=203)].index, 'tag'] = 'B' \n",
        "df.loc[df[(df.id >= 204) & (df.id <=534)].index, 'tag'] = '生命現象' \n",
        "df.loc[df[(df.id >= 535) & (df.id <=728)].index, 'tag'] = '個体反応' \n",
        "df.loc[df[(df.id >= 729)].index, 'tag'] = '病態' \n",
        "\n",
        "df.loc[df[(df.id <= 81)].index, 'category'] = 'A' \n",
        "df.loc[df[(df.id >= 82) & (df.id <=203)].index, 'category'] = 'B' \n",
        "df.loc[df[(df.id >= 204)].index, 'category'] = 'C' \n",
        "df.to_csv('tmp.csv',index=False)\n",
        "!cp  tmp.csv '/content/gdrive/My Drive/cbt/qb_cbt_2016_vol1.csv'"
      ],
      "execution_count": null,
      "outputs": []
    },
    {
      "cell_type": "markdown",
      "metadata": {
        "id": "MJ9ZsBI8qzzY"
      },
      "source": [
        "## Tag: vol_2"
      ]
    },
    {
      "cell_type": "code",
      "metadata": {
        "id": "gcjyA3xlpI9_"
      },
      "source": [
        "# vol_2\n",
        "df = pd.read_csv('/content/gdrive/My Drive/cbt/qb_cbt_2016_vol2.csv')\n",
        "df.loc[df[(df.id >= 1) & (df.id <=54)].index, 'tag'] = '血液' \n",
        "df.loc[df[(df.id >= 55) & (df.id <=213)].index, 'tag'] = '神経' \n",
        "df.loc[df[(df.id >= 214) & (df.id <=273)].index, 'tag'] = '皮膚'\n",
        "df.loc[df[(df.id >= 274) & (df.id <=347)].index, 'tag'] = '運動器'\n",
        "df.loc[df[(df.id >= 348) & (df.id <=462)].index, 'tag'] = '循環器'\n",
        "df.loc[df[(df.id >= 463) & (df.id <=533)].index, 'tag'] = '呼吸器'\n",
        "df.loc[df[(df.id >= 534) & (df.id <=652)].index, 'tag'] = '消化器'\n",
        "df.loc[df[(df.id >= 653) & (df.id <=725)].index, 'tag'] = '腎'\n",
        "df.loc[df[(df.id >= 726) & (df.id <=792)].index, 'tag'] = '生殖器'\n",
        "df.loc[df[(df.id >= 793) & (df.id <=845)].index, 'tag'] = '妊娠'\n",
        "df.loc[df[(df.id >= 846)].index, 'tag'] = '乳房'\n",
        "\n",
        "df['category'] = 'D' \n",
        "\n",
        "df.to_csv('tmp.csv',index=False)\n",
        "!cp  tmp.csv '/content/gdrive/My Drive/cbt/qb_cbt_2016_vol2.csv'"
      ],
      "execution_count": null,
      "outputs": []
    },
    {
      "cell_type": "markdown",
      "metadata": {
        "id": "ax9DrReF91Mh"
      },
      "source": [
        "## Tag:vol_3"
      ]
    },
    {
      "cell_type": "code",
      "metadata": {
        "id": "Gvw-Q9y_9_k1"
      },
      "source": [
        "# vol_3\n",
        "df = pd.read_csv('/content/gdrive/My Drive/cbt/qb_cbt_2016_vol3.csv')\n",
        "df.loc[df[(df.id >= 1) & (df.id <=67)].index, 'tag'] = '内分泌' \n",
        "df.loc[df[(df.id >= 68) & (df.id <=121)].index, 'tag'] = '眼' \n",
        "df.loc[df[(df.id >= 122) & (df.id <=178)].index, 'tag'] = '耳鼻咽喉'\n",
        "df.loc[df[(df.id >= 179) & (df.id <=218)].index, 'tag'] = '精神'\n",
        "df.loc[df[(df.id >= 219) & (df.id <=310)].index, 'tag'] = '感染症'\n",
        "df.loc[df[(df.id >= 311) & (df.id <=348)].index, 'tag'] = '腫瘍'\n",
        "df.loc[df[(df.id >= 349) & (df.id <=391)].index, 'tag'] = '免疫'\n",
        "df.loc[df[(df.id >= 392) & (df.id <=419)].index, 'tag'] = '物理化学'\n",
        "df.loc[df[(df.id >= 420) & (df.id <=470)].index, 'tag'] = '成長発達'\n",
        "df.loc[df[(df.id >= 471) & (df.id <=486)].index, 'tag'] = '加齢老化'\n",
        "df.loc[df[(df.id >= 487) & (df.id <=509)].index, 'tag'] = '人の死'\n",
        "df.loc[df[(df.id >= 510) & (df.id <=572)].index, 'tag'] = '症候病態'\n",
        "df.loc[df[(df.id >= 573) & (df.id <=756)].index, 'tag'] = '診療知識'\n",
        "df.loc[df[(df.id >= 757)].index, 'tag'] = '診療技法'\n",
        "\n",
        "df.loc[df[(df.id <=218)].index, 'category'] = 'D'\n",
        "df.loc[df[(df.id >= 219) & (df.id <=509)].index, 'category'] = 'E'\n",
        "df.loc[df[(df.id >= 510)].index, 'category'] = 'F'\n",
        "\n",
        "df.to_csv('tmp.csv',index=False)\n",
        "!cp  tmp.csv '/content/gdrive/My Drive/cbt/qb_cbt_2016_vol3.csv'"
      ],
      "execution_count": null,
      "outputs": []
    },
    {
      "cell_type": "markdown",
      "metadata": {
        "id": "vdTv69oz-4-N"
      },
      "source": [
        "# ファイルの読み込み"
      ]
    },
    {
      "cell_type": "code",
      "metadata": {
        "id": "OcLtYBE3_zUH",
        "colab": {
          "base_uri": "https://localhost:8080/",
          "height": 313
        },
        "outputId": "2b7fafca-a20d-40a0-cf7c-0ae803b9b42a"
      },
      "source": [
        "#df = pd.read_csv('/content/gdrive/My Drive/cbt/qb_cbt_2016_vol2.csv')\n",
        "#df = pd.read_csv('/content/gdrive/My Drive/cbt/qb_cbt_2016_vol3.csv')\n",
        "path  = '/content/gdrive/My Drive/cbt/qb_cbt_2016_vol2.csv' \n",
        "df = pd.read_csv(path)\n",
        "df.head(5)"
      ],
      "execution_count": null,
      "outputs": [
        {
          "output_type": "execute_result",
          "data": {
            "text/html": [
              "<div>\n",
              "<style scoped>\n",
              "    .dataframe tbody tr th:only-of-type {\n",
              "        vertical-align: middle;\n",
              "    }\n",
              "\n",
              "    .dataframe tbody tr th {\n",
              "        vertical-align: top;\n",
              "    }\n",
              "\n",
              "    .dataframe thead th {\n",
              "        text-align: right;\n",
              "    }\n",
              "</style>\n",
              "<table border=\"1\" class=\"dataframe\">\n",
              "  <thead>\n",
              "    <tr style=\"text-align: right;\">\n",
              "      <th></th>\n",
              "      <th>id</th>\n",
              "      <th>ans_1</th>\n",
              "      <th>ans_1_date</th>\n",
              "      <th>check</th>\n",
              "      <th>tag</th>\n",
              "      <th>category</th>\n",
              "      <th>ans_2</th>\n",
              "      <th>ans_2_date</th>\n",
              "      <th>check_date</th>\n",
              "      <th>ans_3</th>\n",
              "      <th>ans_3_date</th>\n",
              "    </tr>\n",
              "  </thead>\n",
              "  <tbody>\n",
              "    <tr>\n",
              "      <th>0</th>\n",
              "      <td>1</td>\n",
              "      <td>1.0</td>\n",
              "      <td>2020/11/03</td>\n",
              "      <td>1.0</td>\n",
              "      <td>血液</td>\n",
              "      <td>D</td>\n",
              "      <td>1.0</td>\n",
              "      <td>2020/12/19</td>\n",
              "      <td>2020/12/19</td>\n",
              "      <td>1.0</td>\n",
              "      <td>2021/01/06</td>\n",
              "    </tr>\n",
              "    <tr>\n",
              "      <th>1</th>\n",
              "      <td>2</td>\n",
              "      <td>0.0</td>\n",
              "      <td>2020/11/03</td>\n",
              "      <td>1.0</td>\n",
              "      <td>血液</td>\n",
              "      <td>D</td>\n",
              "      <td>0.0</td>\n",
              "      <td>2020/12/19</td>\n",
              "      <td>2020/12/19</td>\n",
              "      <td>0.0</td>\n",
              "      <td>2021/01/06</td>\n",
              "    </tr>\n",
              "    <tr>\n",
              "      <th>2</th>\n",
              "      <td>3</td>\n",
              "      <td>1.0</td>\n",
              "      <td>2020/11/03</td>\n",
              "      <td>0.0</td>\n",
              "      <td>血液</td>\n",
              "      <td>D</td>\n",
              "      <td>1.0</td>\n",
              "      <td>2020/12/19</td>\n",
              "      <td>NaN</td>\n",
              "      <td>1.0</td>\n",
              "      <td>2021/01/06</td>\n",
              "    </tr>\n",
              "    <tr>\n",
              "      <th>3</th>\n",
              "      <td>4</td>\n",
              "      <td>0.0</td>\n",
              "      <td>2020/11/03</td>\n",
              "      <td>0.0</td>\n",
              "      <td>血液</td>\n",
              "      <td>D</td>\n",
              "      <td>1.0</td>\n",
              "      <td>2020/12/19</td>\n",
              "      <td>NaN</td>\n",
              "      <td>1.0</td>\n",
              "      <td>2021/01/06</td>\n",
              "    </tr>\n",
              "    <tr>\n",
              "      <th>4</th>\n",
              "      <td>5</td>\n",
              "      <td>1.0</td>\n",
              "      <td>2020/11/03</td>\n",
              "      <td>1.0</td>\n",
              "      <td>血液</td>\n",
              "      <td>D</td>\n",
              "      <td>1.0</td>\n",
              "      <td>2020/12/19</td>\n",
              "      <td>2020/12/19</td>\n",
              "      <td>1.0</td>\n",
              "      <td>2021/01/06</td>\n",
              "    </tr>\n",
              "  </tbody>\n",
              "</table>\n",
              "</div>"
            ],
            "text/plain": [
              "   id  ans_1  ans_1_date  check  ...  ans_2_date  check_date  ans_3  ans_3_date\n",
              "0   1    1.0  2020/11/03    1.0  ...  2020/12/19  2020/12/19    1.0  2021/01/06\n",
              "1   2    0.0  2020/11/03    1.0  ...  2020/12/19  2020/12/19    0.0  2021/01/06\n",
              "2   3    1.0  2020/11/03    0.0  ...  2020/12/19         NaN    1.0  2021/01/06\n",
              "3   4    0.0  2020/11/03    0.0  ...  2020/12/19         NaN    1.0  2021/01/06\n",
              "4   5    1.0  2020/11/03    1.0  ...  2020/12/19  2020/12/19    1.0  2021/01/06\n",
              "\n",
              "[5 rows x 11 columns]"
            ]
          },
          "metadata": {
            "tags": []
          },
          "execution_count": 52
        }
      ]
    },
    {
      "cell_type": "markdown",
      "metadata": {
        "id": "pLL64ZN945X4"
      },
      "source": [
        "# df_index"
      ]
    },
    {
      "cell_type": "code",
      "metadata": {
        "id": "PheEvpMQaX38",
        "colab": {
          "base_uri": "https://localhost:8080/"
        },
        "outputId": "67340565-4122-4770-dbe0-730d76169bd6"
      },
      "source": [
        "# ans_1 がないところ\n",
        "df_index = df[df['ans_1'].isnull()].index\n",
        "#df['check']\n",
        "df_index"
      ],
      "execution_count": null,
      "outputs": [
        {
          "output_type": "execute_result",
          "data": {
            "text/plain": [
              "Int64Index([], dtype='int64')"
            ]
          },
          "metadata": {
            "tags": []
          },
          "execution_count": 17
        }
      ]
    },
    {
      "cell_type": "markdown",
      "metadata": {
        "id": "n6AUN7zx6UIq"
      },
      "source": [
        "# answer_section()\n",
        "- (y)es\n",
        "- (n)o\n",
        "- (s)kip\n",
        "- (q)uit\n",
        "- (b)ack"
      ]
    },
    {
      "cell_type": "code",
      "metadata": {
        "id": "wHBHLHO5Xgfw",
        "colab": {
          "base_uri": "https://localhost:8080/"
        },
        "outputId": "aa1b3a16-8911-4ba9-e521-6216bafa8e71"
      },
      "source": [
        "# ans_1 がないところ\n",
        "#col_list = ['ans_2','check']\n",
        "col_list = ['ans_3']\n",
        "#df_index = df[df[col_list[0]].isnull() & (df['category']=='C')].index\n",
        "#df_index = df[df.id>=602].index\n",
        "df_index = df[df.ans_3.isnull()].index\n",
        "print(df_index[0:5])\n",
        "print(len(df_index))"
      ],
      "execution_count": null,
      "outputs": [
        {
          "output_type": "stream",
          "text": [
            "Int64Index([682, 683, 684, 685, 686], dtype='int64')\n",
            "181\n"
          ],
          "name": "stdout"
        }
      ]
    },
    {
      "cell_type": "code",
      "metadata": {
        "id": "2azh_-5u0-M2",
        "colab": {
          "base_uri": "https://localhost:8080/"
        },
        "outputId": "cab17a3a-1cb5-4415-eb37-0f1b3ecfdf72"
      },
      "source": [
        "df = answer_section2(df, df_index, col_list)"
      ],
      "execution_count": null,
      "outputs": [
        {
          "output_type": "stream",
          "text": [
            "num: 683\tcol:['ans_3']\t  y\n",
            "num: 684\tcol:['ans_3']\t  y\n",
            "num: 685\tcol:['ans_3']\t  y\n",
            "num: 686\tcol:['ans_3']\t  y\n",
            "num: 687\tcol:['ans_3']\t  y\n",
            "num: 688\tcol:['ans_3']\t  y\n",
            "num: 689\tcol:['ans_3']\t  y\n",
            "num: 690\tcol:['ans_3']\t  n\n",
            "num: 691\tcol:['ans_3']\t  q\n"
          ],
          "name": "stdout"
        }
      ]
    },
    {
      "cell_type": "markdown",
      "metadata": {
        "id": "yCxc3uP6-Qy1"
      },
      "source": [
        "# 保存"
      ]
    },
    {
      "cell_type": "code",
      "metadata": {
        "id": "n25PpnOB2-lD",
        "colab": {
          "base_uri": "https://localhost:8080/",
          "height": 331
        },
        "outputId": "89980463-bf70-44af-c6b0-00f6566f1861"
      },
      "source": [
        "df.to_csv('tmp.csv',index=False)\n",
        " \n",
        "if path == '/content/gdrive/My Drive/cbt/qb_cbt_2016_vol1.csv':\n",
        "    !cp  tmp.csv '/content/gdrive/My Drive/cbt/qb_cbt_2016_vol1.csv'\n",
        "    !echo $path\n",
        " \n",
        "elif path == '/content/gdrive/My Drive/cbt/qb_cbt_2016_vol2.csv':\n",
        "    !cp  tmp.csv '/content/gdrive/My Drive/cbt/qb_cbt_2016_vol2.csv'\n",
        "    !echo $path\n",
        " \n",
        "elif path == '/content/gdrive/My Drive/cbt/qb_cbt_2016_vol3.csv':\n",
        "    !cp  tmp.csv '/content/gdrive/My Drive/cbt/qb_cbt_2016_vol3.csv'\n",
        "    !echo $path\n",
        " \n",
        "_df = pd.read_csv(path)\n",
        "_df.head(5)"
      ],
      "execution_count": null,
      "outputs": [
        {
          "output_type": "stream",
          "text": [
            "/content/gdrive/My Drive/cbt/qb_cbt_2016_vol2.csv\n"
          ],
          "name": "stdout"
        },
        {
          "output_type": "execute_result",
          "data": {
            "text/html": [
              "<div>\n",
              "<style scoped>\n",
              "    .dataframe tbody tr th:only-of-type {\n",
              "        vertical-align: middle;\n",
              "    }\n",
              "\n",
              "    .dataframe tbody tr th {\n",
              "        vertical-align: top;\n",
              "    }\n",
              "\n",
              "    .dataframe thead th {\n",
              "        text-align: right;\n",
              "    }\n",
              "</style>\n",
              "<table border=\"1\" class=\"dataframe\">\n",
              "  <thead>\n",
              "    <tr style=\"text-align: right;\">\n",
              "      <th></th>\n",
              "      <th>id</th>\n",
              "      <th>ans_1</th>\n",
              "      <th>ans_1_date</th>\n",
              "      <th>check</th>\n",
              "      <th>tag</th>\n",
              "      <th>category</th>\n",
              "      <th>ans_2</th>\n",
              "      <th>ans_2_date</th>\n",
              "      <th>check_date</th>\n",
              "      <th>ans_3</th>\n",
              "      <th>ans_3_date</th>\n",
              "    </tr>\n",
              "  </thead>\n",
              "  <tbody>\n",
              "    <tr>\n",
              "      <th>0</th>\n",
              "      <td>1</td>\n",
              "      <td>1.0</td>\n",
              "      <td>2020/11/03</td>\n",
              "      <td>1.0</td>\n",
              "      <td>血液</td>\n",
              "      <td>D</td>\n",
              "      <td>1.0</td>\n",
              "      <td>2020/12/19</td>\n",
              "      <td>2020/12/19</td>\n",
              "      <td>1.0</td>\n",
              "      <td>2021/01/06</td>\n",
              "    </tr>\n",
              "    <tr>\n",
              "      <th>1</th>\n",
              "      <td>2</td>\n",
              "      <td>0.0</td>\n",
              "      <td>2020/11/03</td>\n",
              "      <td>1.0</td>\n",
              "      <td>血液</td>\n",
              "      <td>D</td>\n",
              "      <td>0.0</td>\n",
              "      <td>2020/12/19</td>\n",
              "      <td>2020/12/19</td>\n",
              "      <td>0.0</td>\n",
              "      <td>2021/01/06</td>\n",
              "    </tr>\n",
              "    <tr>\n",
              "      <th>2</th>\n",
              "      <td>3</td>\n",
              "      <td>1.0</td>\n",
              "      <td>2020/11/03</td>\n",
              "      <td>0.0</td>\n",
              "      <td>血液</td>\n",
              "      <td>D</td>\n",
              "      <td>1.0</td>\n",
              "      <td>2020/12/19</td>\n",
              "      <td>NaN</td>\n",
              "      <td>1.0</td>\n",
              "      <td>2021/01/06</td>\n",
              "    </tr>\n",
              "    <tr>\n",
              "      <th>3</th>\n",
              "      <td>4</td>\n",
              "      <td>0.0</td>\n",
              "      <td>2020/11/03</td>\n",
              "      <td>0.0</td>\n",
              "      <td>血液</td>\n",
              "      <td>D</td>\n",
              "      <td>1.0</td>\n",
              "      <td>2020/12/19</td>\n",
              "      <td>NaN</td>\n",
              "      <td>1.0</td>\n",
              "      <td>2021/01/06</td>\n",
              "    </tr>\n",
              "    <tr>\n",
              "      <th>4</th>\n",
              "      <td>5</td>\n",
              "      <td>1.0</td>\n",
              "      <td>2020/11/03</td>\n",
              "      <td>1.0</td>\n",
              "      <td>血液</td>\n",
              "      <td>D</td>\n",
              "      <td>1.0</td>\n",
              "      <td>2020/12/19</td>\n",
              "      <td>2020/12/19</td>\n",
              "      <td>1.0</td>\n",
              "      <td>2021/01/06</td>\n",
              "    </tr>\n",
              "  </tbody>\n",
              "</table>\n",
              "</div>"
            ],
            "text/plain": [
              "   id  ans_1  ans_1_date  check  ...  ans_2_date  check_date  ans_3  ans_3_date\n",
              "0   1    1.0  2020/11/03    1.0  ...  2020/12/19  2020/12/19    1.0  2021/01/06\n",
              "1   2    0.0  2020/11/03    1.0  ...  2020/12/19  2020/12/19    0.0  2021/01/06\n",
              "2   3    1.0  2020/11/03    0.0  ...  2020/12/19         NaN    1.0  2021/01/06\n",
              "3   4    0.0  2020/11/03    0.0  ...  2020/12/19         NaN    1.0  2021/01/06\n",
              "4   5    1.0  2020/11/03    1.0  ...  2020/12/19  2020/12/19    1.0  2021/01/06\n",
              "\n",
              "[5 rows x 11 columns]"
            ]
          },
          "metadata": {
            "tags": []
          },
          "execution_count": 109
        }
      ]
    },
    {
      "cell_type": "markdown",
      "metadata": {
        "id": "ztpWp7-PVXG0"
      },
      "source": [
        "# 統計"
      ]
    },
    {
      "cell_type": "markdown",
      "metadata": {
        "id": "o6JNjU1o-Xa1"
      },
      "source": [
        "## 正答率"
      ]
    },
    {
      "cell_type": "code",
      "metadata": {
        "id": "2NQ8zViRN-mN",
        "colab": {
          "base_uri": "https://localhost:8080/"
        },
        "outputId": "cb71ac92-04cf-44b9-8a8c-caf3518ca855"
      },
      "source": [
        "# tag別正答率(ans_1)\n",
        "df_tmp_1 = pd.read_csv('/content/gdrive/My Drive/cbt/qb_cbt_2016_vol1.csv')\n",
        "df_tmp_2 = pd.read_csv('/content/gdrive/My Drive/cbt/qb_cbt_2016_vol2.csv')\n",
        "df_tmp_3 = pd.read_csv('/content/gdrive/My Drive/cbt/qb_cbt_2016_vol3.csv')\n",
        "df_tmp = pd.concat([df_tmp_1,df_tmp_2,df_tmp_3])\n",
        "print('{}{}{}{}'.format(' '*10,'一回目'+' '*4,'二回目'+' '*4,'三回目'))\n",
        "print('='* 40)\n",
        "print('{}{:5}%    {:5}%    {:5}%'.format('全体'+' '*6,\n",
        "                       round(df_tmp.ans_1.mean()*100,2),\n",
        "                       round(df_tmp.ans_2.mean()*100,2),\n",
        "                       round(df_tmp.ans_3.mean()*100,2)))\n",
        "print('='*40)\n",
        "tag_list = ['A','B','生命現象','個体反応','病態',\n",
        "            '血液','神経','皮膚','運動器','循環器','呼吸器','消化器','腎','生殖器','妊娠','乳房',\n",
        "            '内分泌' ,'眼' ,'耳鼻咽喉','精神',\n",
        "            '感染症','腫瘍','免疫','物理化学','成長発達','加齢老化','人の死',\n",
        "            '症候病態','診療知識','診療技法']\n",
        "mean_list_ans_1 = list()\n",
        "mean_list_ans_2 = list()\n",
        "mean_list_ans_3 = list()\n",
        "for i in range(len(tag_list)):\n",
        "    mean_list_ans_1.append(df_tmp[df_tmp.tag == tag_list[i]].ans_1.mean())\n",
        "    mean_list_ans_2.append(df_tmp[df_tmp.tag == tag_list[i]].ans_2.mean())\n",
        "    mean_list_ans_3.append(df_tmp[df_tmp.tag == tag_list[i]].ans_3.mean())\n",
        "    name = tag_list[i]\n",
        "    for ii in range(5-len(name)):\n",
        "        name += ' '*2\n",
        "    print('{}{:5}%    {:5}%    {:5}%'.format(name,\n",
        "                                    round(mean_list_ans_1[i]*100,2),\n",
        "                                    round(mean_list_ans_2[i]*100,2),\n",
        "                                    round(mean_list_ans_3[i]*100,2)))"
      ],
      "execution_count": null,
      "outputs": [
        {
          "output_type": "stream",
          "text": [
            "          一回目    二回目    三回目\n",
            "========================================\n",
            "全体      66.33%    80.24%    87.84%\n",
            "========================================\n",
            "A        81.48%    97.53%      nan%\n",
            "B        68.03%    90.16%      nan%\n",
            "生命現象  61.93%    80.36%    80.97%\n",
            "個体反応   56.7%    81.44%    82.47%\n",
            "病態      72.58%    88.71%    90.32%\n",
            "血液      51.85%    75.93%    90.74%\n",
            "神経      71.07%    75.47%    84.28%\n",
            "皮膚      76.67%    81.67%    86.67%\n",
            "運動器    54.05%    71.62%    87.84%\n",
            "循環器    66.09%    79.13%     88.7%\n",
            "呼吸器    70.42%    80.28%    85.92%\n",
            "消化器    67.23%    76.47%    88.24%\n",
            "腎         72.6%    80.82%    92.11%\n",
            "生殖器    70.15%     80.6%      nan%\n",
            "妊娠      67.92%    77.36%      nan%\n",
            "乳房      55.56%    77.78%      nan%\n",
            "内分泌    71.64%    82.09%    89.55%\n",
            "眼        59.26%    68.52%    90.74%\n",
            "耳鼻咽喉  70.18%    85.96%    91.23%\n",
            "精神       82.5%     85.0%     95.0%\n",
            "感染症    63.04%    69.57%    85.87%\n",
            "腫瘍      73.68%    71.05%    94.74%\n",
            "免疫      65.12%    74.42%    95.35%\n",
            "物理化学  57.14%    78.57%    89.29%\n",
            "成長発達  68.63%    86.27%    96.08%\n",
            "加齢老化  56.25%     62.5%     87.5%\n",
            "人の死    86.96%    82.61%    95.65%\n",
            "症候病態  73.02%    84.13%    98.41%\n",
            "診療知識  60.33%    77.72%    90.22%\n",
            "診療技法  76.79%    91.07%    98.21%\n"
          ],
          "name": "stdout"
        }
      ]
    },
    {
      "cell_type": "code",
      "metadata": {
        "colab": {
          "base_uri": "https://localhost:8080/"
        },
        "id": "3M9EH2uJM38F",
        "outputId": "eb86d1d0-3866-401e-acc7-68460763401c"
      },
      "source": [
        "# category\n",
        "import numpy as np\n",
        "\n",
        "df_tmp_1 = pd.read_csv('/content/gdrive/My Drive/cbt/qb_cbt_2016_vol1.csv')\n",
        "df_tmp_2 = pd.read_csv('/content/gdrive/My Drive/cbt/qb_cbt_2016_vol2.csv')\n",
        "df_tmp_3 = pd.read_csv('/content/gdrive/My Drive/cbt/qb_cbt_2016_vol3.csv')\n",
        "df_tmp = pd.concat([df_tmp_1,df_tmp_2,df_tmp_3])\n",
        "print('{}{}{}{}'.format(' '*10,'一回目'+' '*4,'二回目'+' '*4,'三回目'))\n",
        "print('='* 40)\n",
        "print('{}{:5}%    {:5}%    {:5}%'.format('全体'+' '*6,\n",
        "                       round(df_tmp.ans_1.mean()*100,2),\n",
        "                       round(df_tmp.ans_2.mean()*100,2),\n",
        "                       round(df_tmp.ans_3.mean()*100,2),\n",
        "                       ))\n",
        "print('='*40)\n",
        "cate_list = ['A','B','C','D','E','F']\n",
        "mean_list_ans_1 = list()\n",
        "mean_list_ans_2 = list()\n",
        "mean_list_ans_3 = list()\n",
        "\n",
        "for i in range(len(cate_list)):\n",
        "    mean_list_ans_1.append(df_tmp[df_tmp.category == cate_list[i]].ans_1.mean())\n",
        "    mean_list_ans_2.append(df_tmp[df_tmp.category == cate_list[i]].ans_2.mean())\n",
        "    mean_list_ans_3.append(df_tmp[df_tmp.category == cate_list[i]].ans_3.mean())\n",
        "    name = cate_list[i]\n",
        "    for ii in range(5-len(name)):\n",
        "        name += ' '*2\n",
        "    print('{}{:5}%    {:5}%    {:5}%'.format(name,\n",
        "                                    round(mean_list_ans_1[i]*100,2),\n",
        "                                    round(mean_list_ans_2[i]*100,2),\n",
        "                                    round(mean_list_ans_3[i]*100,2)))\n",
        "\n",
        "a = list()\n",
        "for mean_list in [mean_list_ans_1,mean_list_ans_2,mean_list_ans_3]:\n",
        "    A_score = mean_list[0]\n",
        "    B_score = mean_list[1]\n",
        "    C_score = mean_list[2]\n",
        "    D_score = mean_list[3]\n",
        "    E_score = mean_list[4]\n",
        "    rate_cnt = 0\n",
        "    score_cnt = 0\n",
        "    for score,rate in zip([A_score,B_score,C_score,D_score,E_score],[0.04,0.08,0.21,0.38,0.21,0.08]):\n",
        "        if np.isnan(score):\n",
        "            pass\n",
        "        else:\n",
        "            rate_cnt += rate\n",
        "            score_cnt += score*rate\n",
        "    score_cnt = score_cnt/rate_cnt\n",
        "    a.append(score_cnt)\n",
        "print('='* 40)\n",
        "name = 'pred'\n",
        "for ii in range(9-len(name)):\n",
        "    name += ' '\n",
        "\n",
        "print('{}{:5}%    {:5}%    {:5}%'.format(name,\n",
        "                                         round(a[0]*100,2),\n",
        "                                         round(a[1]*100,2),\n",
        "                                         round(a[2]*100,2)))\n",
        "#print('{}{:5}%    {:5}%'.format('pred'+' '*5,\n",
        "#                                round(mean_list_ans_1[i]*100,2),\n",
        "#                                round(mean_list_ans_2[i]*100,2)))"
      ],
      "execution_count": null,
      "outputs": [
        {
          "output_type": "stream",
          "text": [
            "          一回目    二回目    三回目\n",
            "========================================\n",
            "全体      66.33%    80.24%    87.84%\n",
            "========================================\n",
            "A        81.48%    97.53%      nan%\n",
            "B        68.03%    90.16%      nan%\n",
            "C        61.33%     81.6%    82.45%\n",
            "D        67.72%    78.17%    88.33%\n",
            "E        66.67%    74.91%    91.41%\n",
            "F        66.01%    81.52%     93.4%\n",
            "========================================\n",
            "pred     66.64%    80.09%    87.59%\n"
          ],
          "name": "stdout"
        }
      ]
    },
    {
      "cell_type": "markdown",
      "metadata": {
        "id": "GJ2JD9R8-bUG"
      },
      "source": [
        "## 回答数"
      ]
    },
    {
      "cell_type": "code",
      "metadata": {
        "id": "i6FOmlTsV7qR",
        "colab": {
          "base_uri": "https://localhost:8080/"
        },
        "outputId": "8069cf98-0aaf-451f-964f-2a35627567ab"
      },
      "source": [
        "# 回答問題数(日別)\n",
        "df_tmp_1 = pd.read_csv('/content/gdrive/My Drive/cbt/qb_cbt_2016_vol1.csv')\n",
        "df_tmp_2 = pd.read_csv('/content/gdrive/My Drive/cbt/qb_cbt_2016_vol2.csv')\n",
        "df_tmp_3 = pd.read_csv('/content/gdrive/My Drive/cbt/qb_cbt_2016_vol3.csv')\n",
        " \n",
        "df_tmp = pd.concat([df_tmp_1,df_tmp_2,df_tmp_3])\n",
        "df_date = pd.concat([df_tmp.ans_1_date,df_tmp.ans_2_date,df_tmp.ans_3_date],ignore_index=True)\n",
        " \n",
        "print_sum =  df_date.value_counts().sum()\n",
        "print_mean = df_date.value_counts().mean()\n",
        "print('平均{}問'.format(round(print_mean,2)))\n",
        "print('合計{}問'.format(print_sum))\n",
        "print('='*20)\n",
        "df_date.value_counts().sort_index(ascending=False).head(10)"
      ],
      "execution_count": null,
      "outputs": [
        {
          "output_type": "stream",
          "text": [
            "平均140.38問\n",
            "合計7019問\n",
            "====================\n"
          ],
          "name": "stdout"
        },
        {
          "output_type": "execute_result",
          "data": {
            "text/plain": [
              "2021/01/08    431\n",
              "2021/01/07    388\n",
              "2021/01/06    330\n",
              "2021/01/05    331\n",
              "2021/01/04    303\n",
              "2021/01/03    275\n",
              "2021/01/02    113\n",
              "2021/01/01    121\n",
              "2020/12/30    203\n",
              "2020/12/29    240\n",
              "dtype: int64"
            ]
          },
          "metadata": {
            "tags": []
          },
          "execution_count": 112
        }
      ]
    },
    {
      "cell_type": "code",
      "metadata": {
        "id": "yLvsUAaLyCQA",
        "colab": {
          "base_uri": "https://localhost:8080/",
          "height": 175
        },
        "outputId": "090ef0d1-1b57-4e4d-b5d1-3cc282d2ae20"
      },
      "source": [
        "#やった日数\n",
        "_df = pd.DataFrame()\n",
        "_df['date_count'] = df_date\n",
        "func = lambda x:x[:7]\n",
        "_df.loc[df_date.notna().index,'month'] = df_date[df_date.notna()].apply(func)\n",
        "a = _df.month.value_counts().sort_index(ascending=False)\n",
        "df_view = _df.groupby('month').nunique().sort_index(ascending=False)\n",
        "df_view['question_count'] = a.values\n",
        "df_view"
      ],
      "execution_count": null,
      "outputs": [
        {
          "output_type": "execute_result",
          "data": {
            "text/html": [
              "<div>\n",
              "<style scoped>\n",
              "    .dataframe tbody tr th:only-of-type {\n",
              "        vertical-align: middle;\n",
              "    }\n",
              "\n",
              "    .dataframe tbody tr th {\n",
              "        vertical-align: top;\n",
              "    }\n",
              "\n",
              "    .dataframe thead th {\n",
              "        text-align: right;\n",
              "    }\n",
              "</style>\n",
              "<table border=\"1\" class=\"dataframe\">\n",
              "  <thead>\n",
              "    <tr style=\"text-align: right;\">\n",
              "      <th></th>\n",
              "      <th>date_count</th>\n",
              "      <th>question_count</th>\n",
              "    </tr>\n",
              "    <tr>\n",
              "      <th>month</th>\n",
              "      <th></th>\n",
              "      <th></th>\n",
              "    </tr>\n",
              "  </thead>\n",
              "  <tbody>\n",
              "    <tr>\n",
              "      <th>2021/01</th>\n",
              "      <td>8</td>\n",
              "      <td>2135</td>\n",
              "    </tr>\n",
              "    <tr>\n",
              "      <th>2020/12</th>\n",
              "      <td>25</td>\n",
              "      <td>3244</td>\n",
              "    </tr>\n",
              "    <tr>\n",
              "      <th>2020/11</th>\n",
              "      <td>17</td>\n",
              "      <td>1483</td>\n",
              "    </tr>\n",
              "  </tbody>\n",
              "</table>\n",
              "</div>"
            ],
            "text/plain": [
              "         date_count  question_count\n",
              "month                              \n",
              "2021/01           8            2135\n",
              "2020/12          25            3244\n",
              "2020/11          17            1483"
            ]
          },
          "metadata": {
            "tags": []
          },
          "execution_count": 72
        }
      ]
    },
    {
      "cell_type": "code",
      "metadata": {
        "id": "Y4Cn619V9bdD"
      },
      "source": [
        "# Google Drive・Google Colaboratoryで作業する場合\n",
        "# Google Driveからcolaboratoryにファイルをダウンロード\n",
        "# ダウンロードしたファイルはランタイムが終了すると削除されます\n",
        "from google_drive_downloader import GoogleDriveDownloader as GDD\n",
        "d = {'./train.csv':'11nEVRrORGuHSnKJyRLnTPZ73KOBETdTB',\n",
        "     './test.csv':'1kV5HxO16apYLpkcBa2wD8_c8vPTRkJbh',\n",
        "     './stores.csv':'1vPoI_98SXmxBum1V0V_YLuI7YbS8EnFc',\n",
        "     './sample_submission.csv':'16WUhqYQ900nyNCxhLZVGW9l6_QXflkdv',\n",
        "     './goods.csv':'1F__1g2FDofgK_8fJvg9yh1HH2jiNQdgL',\n",
        "     './genres.csv':'1Jfe7HKiQ3uhXOZSacU1sbLGw3nAU-wqA'}\n",
        "for k, v in d.items():\n",
        "    GDD.download_file_from_google_drive(file_id=v,\n",
        "                                        dest_path=k,\n",
        "                                        unzip=False)\n",
        "\n",
        "df_train = pd.read_csv('train.csv', sep=',')\n",
        "df_test = pd.read_csv('test.csv', sep=',')\n",
        "df_stores = pd.read_csv('stores.csv', sep=',')\n",
        "df_sample_submission = pd.read_csv('sample_submission.csv', sep=',')\n",
        "df_goods = pd.read_csv('goods.csv', sep=',')\n",
        "df_genres = pd.read_csv('genres.csv', sep=',')\n",
        "#tmp = pd.read_csv('/content/gdrive/My Drive/compe3_submission_20201231.csv')"
      ],
      "execution_count": null,
      "outputs": []
    },
    {
      "cell_type": "code",
      "metadata": {
        "id": "97TF7bGqvkFh"
      },
      "source": [
        "exist_goods_in_train = set(df_train.goods_id)\n",
        "only_goods_in_test = set(df_test.goods_id) - exist_goods_in_train\n",
        "goods_in_train_and_test = set(df_test.goods_id) & exist_goods_in_train\n",
        "goods = df_train[(df_train.num_month.isin([-1,-2,-3]))&\n",
        "                 (df_train.units_sold_day>0)]"
      ],
      "execution_count": null,
      "outputs": []
    },
    {
      "cell_type": "code",
      "metadata": {
        "id": "sRF5JKLJ2yI5"
      },
      "source": [
        "df_train[(df_train.goods_id.isin(goods_in_train_and_test))]"
      ],
      "execution_count": null,
      "outputs": []
    },
    {
      "cell_type": "code",
      "metadata": {
        "colab": {
          "base_uri": "https://localhost:8080/",
          "height": 206
        },
        "id": "iHu2xtDEJP3o",
        "outputId": "c4598482-7245-40cc-851a-909d67229d34"
      },
      "source": [
        "df_sample_submission.head(5)"
      ],
      "execution_count": null,
      "outputs": [
        {
          "output_type": "execute_result",
          "data": {
            "text/html": [
              "<div>\n",
              "<style scoped>\n",
              "    .dataframe tbody tr th:only-of-type {\n",
              "        vertical-align: middle;\n",
              "    }\n",
              "\n",
              "    .dataframe tbody tr th {\n",
              "        vertical-align: top;\n",
              "    }\n",
              "\n",
              "    .dataframe thead th {\n",
              "        text-align: right;\n",
              "    }\n",
              "</style>\n",
              "<table border=\"1\" class=\"dataframe\">\n",
              "  <thead>\n",
              "    <tr style=\"text-align: right;\">\n",
              "      <th></th>\n",
              "      <th>index</th>\n",
              "      <th>units_sold_month</th>\n",
              "    </tr>\n",
              "  </thead>\n",
              "  <tbody>\n",
              "    <tr>\n",
              "      <th>0</th>\n",
              "      <td>0</td>\n",
              "      <td>0.5</td>\n",
              "    </tr>\n",
              "    <tr>\n",
              "      <th>1</th>\n",
              "      <td>1</td>\n",
              "      <td>0.5</td>\n",
              "    </tr>\n",
              "    <tr>\n",
              "      <th>2</th>\n",
              "      <td>2</td>\n",
              "      <td>0.5</td>\n",
              "    </tr>\n",
              "    <tr>\n",
              "      <th>3</th>\n",
              "      <td>3</td>\n",
              "      <td>0.5</td>\n",
              "    </tr>\n",
              "    <tr>\n",
              "      <th>4</th>\n",
              "      <td>4</td>\n",
              "      <td>0.5</td>\n",
              "    </tr>\n",
              "  </tbody>\n",
              "</table>\n",
              "</div>"
            ],
            "text/plain": [
              "   index  units_sold_month\n",
              "0      0               0.5\n",
              "1      1               0.5\n",
              "2      2               0.5\n",
              "3      3               0.5\n",
              "4      4               0.5"
            ]
          },
          "metadata": {
            "tags": []
          },
          "execution_count": 4
        }
      ]
    },
    {
      "cell_type": "code",
      "metadata": {
        "colab": {
          "base_uri": "https://localhost:8080/"
        },
        "id": "ef8Ks7RHI1OC",
        "outputId": "906ef749-e14e-490a-e313-106ae7cb1133"
      },
      "source": [
        "list_of_test_path= ['/content/gdrive/MyDrive/tmp/compe3_submission.csv',\n",
        "                    '/content/gdrive/MyDrive/tmp/sub.csv',\n",
        "                    '/content/gdrive/MyDrive/compe3_submission_20201231.csv']\n",
        "index_set = set()\n",
        "for path in list_of_test_path:\n",
        "    tmp = pd.read_csv(path)\n",
        "    index = tmp[tmp.units_sold_month.notnull()].index\n",
        "    print(len(index_set))\n",
        "    print(len(index))\n",
        "    index_set = index_set | set(index)\n",
        "    print(len(index_set))\n",
        "    df_sample_submission.loc[index,'units_sold_month'] = tmp.loc[index,'units_sold_month'].values\n",
        "    print(df_sample_submission.isnull().sum())"
      ],
      "execution_count": null,
      "outputs": [
        {
          "output_type": "stream",
          "text": [
            "0\n",
            "66296\n",
            "66296\n",
            "index               0\n",
            "units_sold_month    0\n",
            "dtype: int64\n",
            "66296\n",
            "56096\n",
            "122392\n",
            "index               0\n",
            "units_sold_month    0\n",
            "dtype: int64\n",
            "122392\n",
            "93443\n",
            "214192\n",
            "index               0\n",
            "units_sold_month    0\n",
            "dtype: int64\n"
          ],
          "name": "stdout"
        }
      ]
    },
    {
      "cell_type": "code",
      "metadata": {
        "colab": {
          "base_uri": "https://localhost:8080/"
        },
        "id": "SzXclTW1J9Cy",
        "outputId": "7f89363a-4d29-4306-dd6b-3c4351a79c0e"
      },
      "source": [
        "df_models = pd.read_csv('submission(19).csv')\n",
        "print(df_models.shape)\n",
        "print(df_models[df_models.units_sold_month==0].shape)\n",
        "df_sample_submission.units_sold_month = df_models.units_sold_month.values"
      ],
      "execution_count": null,
      "outputs": [
        {
          "output_type": "stream",
          "text": [
            "(214200, 2)\n",
            "(0, 2)\n"
          ],
          "name": "stdout"
        }
      ]
    },
    {
      "cell_type": "code",
      "metadata": {
        "colab": {
          "base_uri": "https://localhost:8080/",
          "height": 424
        },
        "id": "jo6AfFRDzekT",
        "outputId": "e2760b97-a8b4-479e-f545-daadaef9c037"
      },
      "source": [
        "df_sample_submission[df_sample_submission.units_sold_month>3]"
      ],
      "execution_count": null,
      "outputs": [
        {
          "output_type": "execute_result",
          "data": {
            "text/html": [
              "<div>\n",
              "<style scoped>\n",
              "    .dataframe tbody tr th:only-of-type {\n",
              "        vertical-align: middle;\n",
              "    }\n",
              "\n",
              "    .dataframe tbody tr th {\n",
              "        vertical-align: top;\n",
              "    }\n",
              "\n",
              "    .dataframe thead th {\n",
              "        text-align: right;\n",
              "    }\n",
              "</style>\n",
              "<table border=\"1\" class=\"dataframe\">\n",
              "  <thead>\n",
              "    <tr style=\"text-align: right;\">\n",
              "      <th></th>\n",
              "      <th>index</th>\n",
              "      <th>units_sold_month</th>\n",
              "    </tr>\n",
              "  </thead>\n",
              "  <tbody>\n",
              "    <tr>\n",
              "      <th>301</th>\n",
              "      <td>301</td>\n",
              "      <td>6.493114</td>\n",
              "    </tr>\n",
              "    <tr>\n",
              "      <th>310</th>\n",
              "      <td>310</td>\n",
              "      <td>6.199398</td>\n",
              "    </tr>\n",
              "    <tr>\n",
              "      <th>361</th>\n",
              "      <td>361</td>\n",
              "      <td>5.389277</td>\n",
              "    </tr>\n",
              "    <tr>\n",
              "      <th>365</th>\n",
              "      <td>365</td>\n",
              "      <td>6.669894</td>\n",
              "    </tr>\n",
              "    <tr>\n",
              "      <th>469</th>\n",
              "      <td>469</td>\n",
              "      <td>6.214984</td>\n",
              "    </tr>\n",
              "    <tr>\n",
              "      <th>...</th>\n",
              "      <td>...</td>\n",
              "      <td>...</td>\n",
              "    </tr>\n",
              "    <tr>\n",
              "      <th>213340</th>\n",
              "      <td>213340</td>\n",
              "      <td>3.117531</td>\n",
              "    </tr>\n",
              "    <tr>\n",
              "      <th>213359</th>\n",
              "      <td>213359</td>\n",
              "      <td>6.573581</td>\n",
              "    </tr>\n",
              "    <tr>\n",
              "      <th>213372</th>\n",
              "      <td>213372</td>\n",
              "      <td>5.950800</td>\n",
              "    </tr>\n",
              "    <tr>\n",
              "      <th>213596</th>\n",
              "      <td>213596</td>\n",
              "      <td>4.070992</td>\n",
              "    </tr>\n",
              "    <tr>\n",
              "      <th>213686</th>\n",
              "      <td>213686</td>\n",
              "      <td>7.738958</td>\n",
              "    </tr>\n",
              "  </tbody>\n",
              "</table>\n",
              "<p>2754 rows × 2 columns</p>\n",
              "</div>"
            ],
            "text/plain": [
              "         index  units_sold_month\n",
              "301        301          6.493114\n",
              "310        310          6.199398\n",
              "361        361          5.389277\n",
              "365        365          6.669894\n",
              "469        469          6.214984\n",
              "...        ...               ...\n",
              "213340  213340          3.117531\n",
              "213359  213359          6.573581\n",
              "213372  213372          5.950800\n",
              "213596  213596          4.070992\n",
              "213686  213686          7.738958\n",
              "\n",
              "[2754 rows x 2 columns]"
            ]
          },
          "metadata": {
            "tags": []
          },
          "execution_count": 18
        }
      ]
    },
    {
      "cell_type": "code",
      "metadata": {
        "colab": {
          "base_uri": "https://localhost:8080/",
          "height": 363
        },
        "id": "WqG53EuOOIep",
        "outputId": "41bd573a-9143-4510-c9f0-eecd99066585"
      },
      "source": [
        "df_sample_submission.head(10)"
      ],
      "execution_count": null,
      "outputs": [
        {
          "output_type": "execute_result",
          "data": {
            "text/html": [
              "<div>\n",
              "<style scoped>\n",
              "    .dataframe tbody tr th:only-of-type {\n",
              "        vertical-align: middle;\n",
              "    }\n",
              "\n",
              "    .dataframe tbody tr th {\n",
              "        vertical-align: top;\n",
              "    }\n",
              "\n",
              "    .dataframe thead th {\n",
              "        text-align: right;\n",
              "    }\n",
              "</style>\n",
              "<table border=\"1\" class=\"dataframe\">\n",
              "  <thead>\n",
              "    <tr style=\"text-align: right;\">\n",
              "      <th></th>\n",
              "      <th>index</th>\n",
              "      <th>units_sold_month</th>\n",
              "    </tr>\n",
              "  </thead>\n",
              "  <tbody>\n",
              "    <tr>\n",
              "      <th>0</th>\n",
              "      <td>0</td>\n",
              "      <td>1.380341</td>\n",
              "    </tr>\n",
              "    <tr>\n",
              "      <th>1</th>\n",
              "      <td>1</td>\n",
              "      <td>1.190892</td>\n",
              "    </tr>\n",
              "    <tr>\n",
              "      <th>2</th>\n",
              "      <td>2</td>\n",
              "      <td>1.010458</td>\n",
              "    </tr>\n",
              "    <tr>\n",
              "      <th>3</th>\n",
              "      <td>3</td>\n",
              "      <td>1.139219</td>\n",
              "    </tr>\n",
              "    <tr>\n",
              "      <th>4</th>\n",
              "      <td>4</td>\n",
              "      <td>1.460178</td>\n",
              "    </tr>\n",
              "    <tr>\n",
              "      <th>5</th>\n",
              "      <td>5</td>\n",
              "      <td>1.095779</td>\n",
              "    </tr>\n",
              "    <tr>\n",
              "      <th>6</th>\n",
              "      <td>6</td>\n",
              "      <td>1.203593</td>\n",
              "    </tr>\n",
              "    <tr>\n",
              "      <th>7</th>\n",
              "      <td>7</td>\n",
              "      <td>1.216402</td>\n",
              "    </tr>\n",
              "    <tr>\n",
              "      <th>8</th>\n",
              "      <td>8</td>\n",
              "      <td>1.152264</td>\n",
              "    </tr>\n",
              "    <tr>\n",
              "      <th>9</th>\n",
              "      <td>9</td>\n",
              "      <td>1.260459</td>\n",
              "    </tr>\n",
              "  </tbody>\n",
              "</table>\n",
              "</div>"
            ],
            "text/plain": [
              "   index  units_sold_month\n",
              "0      0          1.380341\n",
              "1      1          1.190892\n",
              "2      2          1.010458\n",
              "3      3          1.139219\n",
              "4      4          1.460178\n",
              "5      5          1.095779\n",
              "6      6          1.203593\n",
              "7      7          1.216402\n",
              "8      8          1.152264\n",
              "9      9          1.260459"
            ]
          },
          "metadata": {
            "tags": []
          },
          "execution_count": 19
        }
      ]
    },
    {
      "cell_type": "code",
      "metadata": {
        "colab": {
          "base_uri": "https://localhost:8080/",
          "height": 17
        },
        "id": "46xCgo3lBsON",
        "outputId": "1c1dd069-717c-44eb-de81-2bd699c7b5a5"
      },
      "source": [
        "# Google Drive・Google Colaboratoryで作業する場合\n",
        "from google.colab import files\n",
        "# colaboratory上に保存\n",
        "# 保存したcsvファイルはランタイムが終了すると削除されます\n",
        "df_sample_submission.to_csv('submission.csv', index=False)\n",
        "# colaboratory上に保存したcsvファイルをローカルに保存\n",
        "files.download('submission.csv')"
      ],
      "execution_count": null,
      "outputs": [
        {
          "output_type": "display_data",
          "data": {
            "application/javascript": [
              "\n",
              "    async function download(id, filename, size) {\n",
              "      if (!google.colab.kernel.accessAllowed) {\n",
              "        return;\n",
              "      }\n",
              "      const div = document.createElement('div');\n",
              "      const label = document.createElement('label');\n",
              "      label.textContent = `Downloading \"${filename}\": `;\n",
              "      div.appendChild(label);\n",
              "      const progress = document.createElement('progress');\n",
              "      progress.max = size;\n",
              "      div.appendChild(progress);\n",
              "      document.body.appendChild(div);\n",
              "\n",
              "      const buffers = [];\n",
              "      let downloaded = 0;\n",
              "\n",
              "      const channel = await google.colab.kernel.comms.open(id);\n",
              "      // Send a message to notify the kernel that we're ready.\n",
              "      channel.send({})\n",
              "\n",
              "      for await (const message of channel.messages) {\n",
              "        // Send a message to notify the kernel that we're ready.\n",
              "        channel.send({})\n",
              "        if (message.buffers) {\n",
              "          for (const buffer of message.buffers) {\n",
              "            buffers.push(buffer);\n",
              "            downloaded += buffer.byteLength;\n",
              "            progress.value = downloaded;\n",
              "          }\n",
              "        }\n",
              "      }\n",
              "      const blob = new Blob(buffers, {type: 'application/binary'});\n",
              "      const a = document.createElement('a');\n",
              "      a.href = window.URL.createObjectURL(blob);\n",
              "      a.download = filename;\n",
              "      div.appendChild(a);\n",
              "      a.click();\n",
              "      div.remove();\n",
              "    }\n",
              "  "
            ],
            "text/plain": [
              "<IPython.core.display.Javascript object>"
            ]
          },
          "metadata": {
            "tags": []
          }
        },
        {
          "output_type": "display_data",
          "data": {
            "application/javascript": [
              "download(\"download_44346949-c118-4741-800f-4749fc705156\", \"submission.csv\", 5387296)"
            ],
            "text/plain": [
              "<IPython.core.display.Javascript object>"
            ]
          },
          "metadata": {
            "tags": []
          }
        }
      ]
    },
    {
      "cell_type": "code",
      "metadata": {
        "id": "xFwxs4c6yXmS"
      },
      "source": [
        ""
      ],
      "execution_count": null,
      "outputs": []
    }
  ]
}